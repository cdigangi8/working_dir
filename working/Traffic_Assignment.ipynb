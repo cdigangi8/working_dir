{
 "cells": [
  {
   "cell_type": "code",
   "execution_count": 3,
   "metadata": {
    "collapsed": true
   },
   "outputs": [],
   "source": [
    "import numpy\n",
    "import sympy\n",
    "from matplotlib import pyplot\n",
    "%matplotlib inline\n",
    "from matplotlib import rcParams\n",
    "rcParams['font.family'] = 'serif'\n",
    "rcParams['font.size'] = 16\n",
    "\n",
    "#tell sympy to render all output using LaTeX\n",
    "\n",
    "from sympy import init_printing\n",
    "init_printing()\n",
    "\n",
    "def linearconv(nx):\n",
    "    dx = 2/(nx-1)\n",
    "    nt = 20\n",
    "    #nt = 10\n",
    "    c = 1\n",
    "    sigma = .5\n",
    "    x = numpy.linspace(0,2,nx)\n",
    "    \n",
    "    dt = sigma*dx\n",
    "    #dt = .02\n",
    "    \n",
    "    u = numpy.ones(nx)\n",
    "    lbound = numpy.where(x >= 0.5)\n",
    "    ubound = numpy.where(x <= 1)\n",
    "    u[numpy.intersect1d(lbound, ubound)] = 2\n",
    "    \n",
    "    un = numpy.ones(nx)\n",
    "    \n",
    "    for n in range(nt):\n",
    "        un = u.copy()\n",
    "        u[1:] = un[1:] -c*dt/dx*(un[1:] -un[0:-1])\n",
    "        u[0] = 1.0\n",
    "        \n",
    "    pyplot.plot(x, u, color='#003366', ls='--', lw=3)\n",
    "    pyplot.ylim(0, 2.5)"
   ]
  },
  {
   "cell_type": "code",
   "execution_count": 4,
   "metadata": {
    "collapsed": true
   },
   "outputs": [],
   "source": [
    "x = (1*0.2)/(4)"
   ]
  },
  {
   "cell_type": "code",
   "execution_count": 5,
   "metadata": {
    "collapsed": false
   },
   "outputs": [
    {
     "name": "stdout",
     "output_type": "stream",
     "text": [
      "0.05\n"
     ]
    }
   ],
   "source": [
    "print(x)"
   ]
  },
  {
   "cell_type": "code",
   "execution_count": 6,
   "metadata": {
    "collapsed": true
   },
   "outputs": [],
   "source": [
    "x = sympy.symbols('x')"
   ]
  },
  {
   "cell_type": "code",
   "execution_count": 7,
   "metadata": {
    "collapsed": false
   },
   "outputs": [
    {
     "data": {
      "image/png": "[encoded data removed]",
      "text/latex": [
       "$$x$$"
      ],
      "text/plain": [
       "x"
      ]
     },
     "execution_count": 7,
     "metadata": {},
     "output_type": "execute_result"
    }
   ],
   "source": [
    "x"
   ]
  },
  {
   "cell_type": "code",
   "execution_count": 8,
   "metadata": {
    "collapsed": true
   },
   "outputs": [],
   "source": [
    "ans = (sympy.cos(x)**2*sympy.sin(x)**3)/(4*x**5*sympy.exp(x))"
   ]
  },
  {
   "cell_type": "code",
   "execution_count": 9,
   "metadata": {
    "collapsed": false
   },
   "outputs": [
    {
     "data": {
      "image/png": "[encoded data removed]",
      "text/latex": [
       "$$\\frac{\\cos^{2}{\\left (x \\right )}}{4 x^{5}} e^{- x} \\sin^{3}{\\left (x \\right )}$$"
      ],
      "text/plain": [
       " -x    3       2   \n",
       "ℯ  ⋅sin (x)⋅cos (x)\n",
       "───────────────────\n",
       "           5       \n",
       "        4⋅x        "
      ]
     },
     "execution_count": 9,
     "metadata": {},
     "output_type": "execute_result"
    }
   ],
   "source": [
    "ans"
   ]
  },
  {
   "cell_type": "code",
   "execution_count": 10,
   "metadata": {
    "collapsed": false
   },
   "outputs": [
    {
     "data": {
      "image/png": "[encoded data removed]",
      "text/latex": [
       "$$- \\frac{\\sin^{4}{\\left (x \\right )}}{2 x^{5}} e^{- x} \\cos{\\left (x \\right )} - \\frac{\\cos^{2}{\\left (x \\right )}}{4 x^{5}} e^{- x} \\sin^{3}{\\left (x \\right )} + \\frac{3 e^{- x}}{4 x^{5}} \\sin^{2}{\\left (x \\right )} \\cos^{3}{\\left (x \\right )} - \\frac{5 e^{- x}}{4 x^{6}} \\sin^{3}{\\left (x \\right )} \\cos^{2}{\\left (x \\right )}$$"
      ],
      "text/plain": [
       "   -x    4              -x    3       2         -x    2       3         -x    \n",
       "  ℯ  ⋅sin (x)⋅cos(x)   ℯ  ⋅sin (x)⋅cos (x)   3⋅ℯ  ⋅sin (x)⋅cos (x)   5⋅ℯ  ⋅sin\n",
       "- ────────────────── - ─────────────────── + ───────────────────── - ─────────\n",
       "            5                     5                      5                    \n",
       "         2⋅x                   4⋅x                    4⋅x                     \n",
       "\n",
       "3       2   \n",
       " (x)⋅cos (x)\n",
       "────────────\n",
       "   6        \n",
       "4⋅x         "
      ]
     },
     "execution_count": 10,
     "metadata": {},
     "output_type": "execute_result"
    }
   ],
   "source": [
    "ansprime = ans.diff(x)\n",
    "ansprime"
   ]
  },
  {
   "cell_type": "code",
   "execution_count": 11,
   "metadata": {
    "collapsed": true
   },
   "outputs": [],
   "source": [
    "from sympy.utilities.lambdify import lambdify"
   ]
  },
  {
   "cell_type": "code",
   "execution_count": 12,
   "metadata": {
    "collapsed": false
   },
   "outputs": [
    {
     "data": {
      "image/png": "[encoded data removed]",
      "text/latex": [
       "$$-0.00026648912670920613$$"
      ],
      "text/plain": [
       "-0.00026648912670920613"
      ]
     },
     "execution_count": 12,
     "metadata": {},
     "output_type": "execute_result"
    }
   ],
   "source": [
    "a_lamb = lambdify((x), ansprime)\n",
    "a_lamb(2.2)\n",
    "\n"
   ]
  },
  {
   "cell_type": "code",
   "execution_count": 59,
   "metadata": {
    "collapsed": false
   },
   "outputs": [
    {
     "name": "stdout",
     "output_type": "stream",
     "text": [
      "[ 10.          10.          10.          10.          10.          10.          10.\n",
      "  10.          10.          10.          10.00000014  10.00000305\n",
      "  10.00003274  10.00023398  10.00125098  10.00533929  10.01895682\n",
      "  10.05761177  10.15306797  10.36138283  10.76813799  11.48591604\n",
      "  12.64009317  14.34290034  16.66114479  19.58716499  23.02285774\n",
      "  26.7823648   30.61236863  34.22352996  37.32507808  39.65688854\n",
      "  41.01699087  41.28433555  40.43566887  38.55297881  35.81695041\n",
      "  32.48403962  28.84962978  25.20480233  21.79679725  18.80197213\n",
      "  16.31573869  14.35866563  12.89385511  11.84903065  11.13746508\n",
      "  10.67400815  10.38490068  10.21194491  10.11259751]\n",
      "41.2843355523\n",
      "66.7890126233\n"
     ]
    }
   ],
   "source": [
    "#Traffic Problem!!\n",
    "\n",
    "#initial conditions\n",
    "\n",
    "\n",
    "\n",
    "Vmax = 80\n",
    "L = 11\n",
    "rhoMax = 250\n",
    "nx = 51\n",
    "dt = .001\n",
    "dx = L/nx\n",
    "nt = 0\n",
    "\n",
    "\n",
    "x = numpy.linspace(0,L,nx)\n",
    "rho0 = numpy.ones(nx)*10\n",
    "rho0[10:20] = 50\n",
    "#F = Vmax*rho*(1-((rho)/(rhoMax)))\n",
    "\n",
    "\n",
    "#p(0,t) = 10\n",
    "for n in range(nt):\n",
    "    rho = rho0.copy()\n",
    "    for i in range(1,nx):\n",
    "        #rho0[1:] = rho[1:] - dt/dx*(Vmax*rho[1:]*(1-((rho[1:])/(rhoMax)))-Vmax*rho[0:-1]*(1-((rho[0:-1])/(rhoMax))))\n",
    "        rho0[i] = rho[i] - dt/dx*(Vmax*rho[i]*(1-((rho[i])/(rhoMax)))-Vmax*rho[i-1]*(1-((rho[i-1])/(rhoMax))))\n",
    "        rho0[0] = 10\n",
    "print(rho)\n",
    "\n",
    "print(rho.max())\n",
    "\n",
    "V = Vmax*(1-(rho.max()/rhoMax))\n",
    "print(V)"
   ]
  },
  {
   "cell_type": "markdown",
   "metadata": {},
   "source": [
    "$$\\frac{\\partial u}{\\partial t} + u \\frac{\\partial u}{\\partial x} = v \\frac{\\partial^2 u}{\\partial x^2}$$\n",
    "\n",
    "$$\\frac{\\partial p}{\\partial t} + \\frac{\\partial F}{\\partial x} = 0$$\n",
    "\n",
    "This is combination of linear convection and diffusion. Discretize using the methods we have seen.\n",
    "\n",
    "$$\\frac{u_i^{n+1} - u_i^n}{\\Delta t} + u_i^n \\frac{u_i^n - u_{i-1}^n}{\\Delta x} = v \\frac{u_{i+1}^n - 2u_i^n + u_{i-1}^n}{\\Delta x^2}$$\n",
    "\n",
    "$$\\frac{p_i^{n+1} - p_i^n}{\\Delta t} + \\frac{F_i^n - F_{i-1}^n}{\\Delta x} = 0$$\n",
    "\n",
    "$$p_i^{n+1} =  p_i^n - \\frac{\\Delta t}{\\Delta x} (F_i^n - F_{i-1}^n)$$"
   ]
  },
  {
   "cell_type": "code",
   "execution_count": 27,
   "metadata": {
    "collapsed": false
   },
   "outputs": [
    {
     "name": "stdout",
     "output_type": "stream",
     "text": [
      "0.08888800000000008\n"
     ]
    }
   ],
   "source": [
    "V = 22.222*(1-(249/rhoMax))\n",
    "print(V)"
   ]
  },
  {
   "cell_type": "code",
   "execution_count": 51,
   "metadata": {
    "collapsed": false
   },
   "outputs": [
    {
     "data": {
      "image/png": "[encoded data removed]",
      "text/latex": [
       "$$\\left ( 10.0, \\quad 40.0\\right )$$"
      ],
      "text/plain": [
       "(10.0, 40.0)"
      ]
     },
     "execution_count": 51,
     "metadata": {},
     "output_type": "execute_result"
    },
    {
     "data": {
      "image/png": "[encoded data removed]",
      "text/plain": [
       "<matplotlib.figure.Figure at 0x1085ab6a0>"
      ]
     },
     "metadata": {},
     "output_type": "display_data"
    }
   ],
   "source": [
    "pyplot.plot(x,rho,color='#003366', ls='--',lw=3)\n",
    "pyplot.ylim()\n",
    "#Increased grid size from 41 to 100 to make the graph better"
   ]
  },
  {
   "cell_type": "code",
   "execution_count": null,
   "metadata": {
    "collapsed": true
   },
   "outputs": [],
   "source": []
  }
 ],
 "metadata": {
  "kernelspec": {
   "display_name": "Python 3",
   "language": "python",
   "name": "python3"
  },
  "language_info": {
   "codemirror_mode": {
    "name": "ipython",
    "version": 3
   },
   "file_extension": ".py",
   "mimetype": "text/x-python",
   "name": "python",
   "nbconvert_exporter": "python",
   "pygments_lexer": "ipython3",
   "version": "3.4.3"
  }
 },
 "nbformat": 4,
 "nbformat_minor": 0
}
