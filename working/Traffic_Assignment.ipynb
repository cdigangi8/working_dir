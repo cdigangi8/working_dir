{
 "cells": [
  {
   "cell_type": "code",
   "execution_count": 3,
   "metadata": {
    "collapsed": true
   },
   "outputs": [],
   "source": [
    "import numpy\n",
    "import sympy\n",
    "from matplotlib import pyplot\n",
    "%matplotlib inline\n",
    "from matplotlib import rcParams\n",
    "rcParams['font.family'] = 'serif'\n",
    "rcParams['font.size'] = 16\n",
    "\n",
    "#tell sympy to render all output using LaTeX\n",
    "\n",
    "from sympy import init_printing\n",
    "init_printing()\n",
    "\n",
    "def linearconv(nx):\n",
    "    dx = 2/(nx-1)\n",
    "    nt = 20\n",
    "    #nt = 10\n",
    "    c = 1\n",
    "    sigma = .5\n",
    "    x = numpy.linspace(0,2,nx)\n",
    "    \n",
    "    dt = sigma*dx\n",
    "    #dt = .02\n",
    "    \n",
    "    u = numpy.ones(nx)\n",
    "    lbound = numpy.where(x >= 0.5)\n",
    "    ubound = numpy.where(x <= 1)\n",
    "    u[numpy.intersect1d(lbound, ubound)] = 2\n",
    "    \n",
    "    un = numpy.ones(nx)\n",
    "    \n",
    "    for n in range(nt):\n",
    "        un = u.copy()\n",
    "        u[1:] = un[1:] -c*dt/dx*(un[1:] -un[0:-1])\n",
    "        u[0] = 1.0\n",
    "        \n",
    "    pyplot.plot(x, u, color='#003366', ls='--', lw=3)\n",
    "    pyplot.ylim(0, 2.5)"
   ]
  },
  {
   "cell_type": "code",
   "execution_count": 4,
   "metadata": {
    "collapsed": true
   },
   "outputs": [],
   "source": [
    "x = (1*0.2)/(4)"
   ]
  },
  {
   "cell_type": "code",
   "execution_count": 5,
   "metadata": {
    "collapsed": false
   },
   "outputs": [
    {
     "name": "stdout",
     "output_type": "stream",
     "text": [
      "0.05\n"
     ]
    }
   ],
   "source": [
    "print(x)"
   ]
  },
  {
   "cell_type": "code",
   "execution_count": 6,
   "metadata": {
    "collapsed": true
   },
   "outputs": [],
   "source": [
    "x = sympy.symbols('x')"
   ]
  },
  {
   "cell_type": "code",
   "execution_count": 7,
   "metadata": {
    "collapsed": false
   },
   "outputs": [
    {
     "data": {
      "image/png": "[encoded data removed]",
      "text/latex": [
       "$$x$$"
      ],
      "text/plain": [
       "x"
      ]
     },
     "execution_count": 7,
     "metadata": {},
     "output_type": "execute_result"
    }
   ],
   "source": [
    "x"
   ]
  },
  {
   "cell_type": "code",
   "execution_count": 8,
   "metadata": {
    "collapsed": true
   },
   "outputs": [],
   "source": [
    "ans = (sympy.cos(x)**2*sympy.sin(x)**3)/(4*x**5*sympy.exp(x))"
   ]
  },
  {
   "cell_type": "code",
   "execution_count": 9,
   "metadata": {
    "collapsed": false
   },
   "outputs": [
    {
     "data": {
      "image/png": "[encoded data removed]",
      "text/latex": [
       "$$\\frac{\\cos^{2}{\\left (x \\right )}}{4 x^{5}} e^{- x} \\sin^{3}{\\left (x \\right )}$$"
      ],
      "text/plain": [
       " -x    3       2   \n",
       "ℯ  ⋅sin (x)⋅cos (x)\n",
       "───────────────────\n",
       "           5       \n",
       "        4⋅x        "
      ]
     },
     "execution_count": 9,
     "metadata": {},
     "output_type": "execute_result"
    }
   ],
   "source": [
    "ans"
   ]
  },
  {
   "cell_type": "code",
   "execution_count": 10,
   "metadata": {
    "collapsed": false
   },
   "outputs": [
    {
     "data": {
      "image/png": "[encoded data removed]",
      "text/latex": [
       "$$- \\frac{\\sin^{4}{\\left (x \\right )}}{2 x^{5}} e^{- x} \\cos{\\left (x \\right )} - \\frac{\\cos^{2}{\\left (x \\right )}}{4 x^{5}} e^{- x} \\sin^{3}{\\left (x \\right )} + \\frac{3 e^{- x}}{4 x^{5}} \\sin^{2}{\\left (x \\right )} \\cos^{3}{\\left (x \\right )} - \\frac{5 e^{- x}}{4 x^{6}} \\sin^{3}{\\left (x \\right )} \\cos^{2}{\\left (x \\right )}$$"
      ],
      "text/plain": [
       "   -x    4              -x    3       2         -x    2       3         -x    \n",
       "  ℯ  ⋅sin (x)⋅cos(x)   ℯ  ⋅sin (x)⋅cos (x)   3⋅ℯ  ⋅sin (x)⋅cos (x)   5⋅ℯ  ⋅sin\n",
       "- ────────────────── - ─────────────────── + ───────────────────── - ─────────\n",
       "            5                     5                      5                    \n",
       "         2⋅x                   4⋅x                    4⋅x                     \n",
       "\n",
       "3       2   \n",
       " (x)⋅cos (x)\n",
       "────────────\n",
       "   6        \n",
       "4⋅x         "
      ]
     },
     "execution_count": 10,
     "metadata": {},
     "output_type": "execute_result"
    }
   ],
   "source": [
    "ansprime = ans.diff(x)\n",
    "ansprime"
   ]
  },
  {
   "cell_type": "code",
   "execution_count": 11,
   "metadata": {
    "collapsed": true
   },
   "outputs": [],
   "source": [
    "from sympy.utilities.lambdify import lambdify"
   ]
  },
  {
   "cell_type": "code",
   "execution_count": 12,
   "metadata": {
    "collapsed": false
   },
   "outputs": [
    {
     "data": {
      "image/png": "[encoded data removed]",
      "text/latex": [
       "$$-0.00026648912670920613$$"
      ],
      "text/plain": [
       "-0.00026648912670920613"
      ]
     },
     "execution_count": 12,
     "metadata": {},
     "output_type": "execute_result"
    }
   ],
   "source": [
    "a_lamb = lambdify((x), ansprime)\n",
    "a_lamb(2.2)\n",
    "\n"
   ]
  },
  {
   "cell_type": "code",
   "execution_count": 116,
   "metadata": {
    "collapsed": false
   },
   "outputs": [
    {
     "name": "stdout",
     "output_type": "stream",
     "text": [
      "[ 10.          10.          10.          10.          10.          10.          10.\n",
      "  10.          10.          10.          10.00000007  10.0000019\n",
      "  10.00002536  10.00022311  10.00145429  10.0074999   10.03192029\n",
      "  10.11549871  10.363101    11.00710056  12.48500305  15.45130099\n",
      "  20.51678931  27.54942185  35.10032132  41.14161037  44.58317751\n",
      "  45.59762255  44.85834806  42.96831092  40.34233529  37.25978684\n",
      "  33.92286057  30.49047591  27.09524136  23.85145767  20.85780846\n",
      "  18.1960292   15.92641137  14.0817272   12.66229786  11.63546046\n",
      "  10.94158728  10.50598462  10.25297032  10.11738043  10.05045507\n",
      "  10.02006005  10.00736652  10.00249492  10.00077803]\n",
      "45.5976225452\n",
      "74.2901979574\n"
     ]
    }
   ],
   "source": [
    "#Traffic Problem!!\n",
    "\n",
    "#initial conditions\n",
    "\n",
    "\n",
    "\n",
    "Vmax = 80\n",
    "L = 11\n",
    "rhoMax = 250\n",
    "nx = 51\n",
    "dt = .001\n",
    "dx = L/nx\n",
    "nt = 0\n",
    "\n",
    "\n",
    "x = numpy.linspace(0,L,nx)\n",
    "rho0 = numpy.ones(nx)*10\n",
    "rho0[10:20] = 50\n",
    "#F = Vmax*rho*(1-((rho)/(rhoMax)))\n",
    "\n",
    "\n",
    "#p(0,t) = 10\n",
    "#for n in range[float(nt)/100 for nt in range(0,100,1)]:\n",
    "while nt <=.05:\n",
    "    rho = rho0.copy()\n",
    "    for i in range(1,nx):\n",
    "        #rho0[1:] = rho[1:] - dt/dx*(Vmax*rho[1:]*(1-((rho[1:])/(rhoMax)))-Vmax*rho[0:-1]*(1-((rho[0:-1])/(rhoMax))))\n",
    "        rho0[i] = rho[i] - dt/dx*(Vmax*rho[i]*(1-((rho[i])/(rhoMax)))-Vmax*rho[i-1]*(1-((rho[i-1])/(rhoMax))))\n",
    "        rho0[0] = 10\n",
    "    nt = nt + dt\n",
    "print(rho)\n",
    "\n",
    "print(rho.max())\n",
    "\n",
    "V = Vmax*(1-(rho.mean()/rhoMax))\n",
    "print(V)"
   ]
  },
  {
   "cell_type": "markdown",
   "metadata": {},
   "source": [
    "$$\\frac{\\partial u}{\\partial t} + u \\frac{\\partial u}{\\partial x} = v \\frac{\\partial^2 u}{\\partial x^2}$$\n",
    "\n",
    "$$\\frac{\\partial p}{\\partial t} + \\frac{\\partial F}{\\partial x} = 0$$\n",
    "\n",
    "This is combination of linear convection and diffusion. Discretize using the methods we have seen.\n",
    "\n",
    "$$\\frac{u_i^{n+1} - u_i^n}{\\Delta t} + u_i^n \\frac{u_i^n - u_{i-1}^n}{\\Delta x} = v \\frac{u_{i+1}^n - 2u_i^n + u_{i-1}^n}{\\Delta x^2}$$\n",
    "\n",
    "$$\\frac{p_i^{n+1} - p_i^n}{\\Delta t} + \\frac{F_i^n - F_{i-1}^n}{\\Delta x} = 0$$\n",
    "\n",
    "$$p_i^{n+1} =  p_i^n - \\frac{\\Delta t}{\\Delta x} (F_i^n - F_{i-1}^n)$$"
   ]
  },
  {
   "cell_type": "code",
   "execution_count": 84,
   "metadata": {
    "collapsed": false
   },
   "outputs": [
    {
     "name": "stdout",
     "output_type": "stream",
     "text": [
      "0.08888800000000008\n"
     ]
    }
   ],
   "source": [
    "V = 22.222*(1-(249/rhoMax))\n",
    "print(V)"
   ]
  },
  {
   "cell_type": "code",
   "execution_count": 85,
   "metadata": {
    "collapsed": false
   },
   "outputs": [
    {
     "data": {
      "image/png": "[encoded data removed]",
      "text/latex": [
       "$$\\left ( 10.0, \\quad 10.07\\right )$$"
      ],
      "text/plain": [
       "(10.0, 10.07)"
      ]
     },
     "execution_count": 85,
     "metadata": {},
     "output_type": "execute_result"
    },
    {
     "data": {
      "image/png": "[encoded data removed]",
      "text/plain": [
       "<matplotlib.figure.Figure at 0x10899d588>"
      ]
     },
     "metadata": {},
     "output_type": "display_data"
    }
   ],
   "source": [
    "pyplot.plot(x,rho,color='#003366', ls='--',lw=3)\n",
    "pyplot.ylim()\n",
    "#Increased grid size from 41 to 100 to make the graph better"
   ]
  },
  {
   "cell_type": "code",
   "execution_count": 112,
   "metadata": {
    "collapsed": false
   },
   "outputs": [
    {
     "data": {
      "image/png": "[encoded data removed]",
      "text/latex": [
       "$$0.01$$"
      ],
      "text/plain": [
       "0.01"
      ]
     },
     "execution_count": 112,
     "metadata": {},
     "output_type": "execute_result"
    }
   ],
   "source": [
    ".001/0.1"
   ]
  },
  {
   "cell_type": "code",
   "execution_count": 123,
   "metadata": {
    "collapsed": false
   },
   "outputs": [
    {
     "name": "stdout",
     "output_type": "stream",
     "text": [
      "[ 20.          20.          20.          20.          20.          20.          20.\n",
      "  20.          20.          20.          20.          20.          20.          20.\n",
      "  20.          20.00000002  20.00000013  20.00000097  20.00000605\n",
      "  20.00003303  20.00015942  20.00068707  20.0026678   20.00940483\n",
      "  20.03030813  20.08982212  20.24600707  20.62447262  21.46788952\n",
      "  23.17126892  26.19360844  30.68121671  35.95674146  40.66054835\n",
      "  43.74176621  45.05110084  44.99797467  44.05374433  42.55884957\n",
      "  40.72656402  38.69059359  36.54214759  34.35121059  32.17746874\n",
      "  30.07554278  28.09696113  26.28981469  24.69636578  23.34889678\n",
      "  22.26466465  21.44169718]\n",
      "45.0511008418\n",
      "121.938771138\n"
     ]
    }
   ],
   "source": [
    "#Traffic Problem!! Part B\n",
    "\n",
    "#initial conditions\n",
    "\n",
    "\n",
    "\n",
    "Vmax = 136\n",
    "L = 11\n",
    "rhoMax = 250\n",
    "nx = 51\n",
    "dt = .001\n",
    "dx = L/nx\n",
    "nt = 0\n",
    "\n",
    "\n",
    "x = numpy.linspace(0,L,nx)\n",
    "rho0 = numpy.ones(nx)*20\n",
    "rho0[10:20] = 50\n",
    "#F = Vmax*rho*(1-((rho)/(rhoMax)))\n",
    "\n",
    "\n",
    "#p(0,t) = 10\n",
    "#for n in range(nt):\n",
    "while nt <=.05:\n",
    "    rho = rho0.copy()\n",
    "    for i in range(1,nx):\n",
    "        #rho0[1:] = rho[1:] - dt/dx*(Vmax*rho[1:]*(1-((rho[1:])/(rhoMax)))-Vmax*rho[0:-1]*(1-((rho[0:-1])/(rhoMax))))\n",
    "        rho0[i] = rho[i] - dt/dx*(Vmax*rho[i]*(1-((rho[i])/(rhoMax)))-Vmax*rho[i-1]*(1-((rho[i-1])/(rhoMax))))\n",
    "        rho0[0] = 20\n",
    "    nt = nt + dt\n",
    "print(rho)\n",
    "\n",
    "print(rho.max())\n",
    "\n",
    "V = Vmax*(1-(rho.mean()/rhoMax))\n",
    "print(V)"
   ]
  },
  {
   "cell_type": "code",
   "execution_count": null,
   "metadata": {
    "collapsed": true
   },
   "outputs": [],
   "source": []
  },
  {
   "cell_type": "code",
   "execution_count": null,
   "metadata": {
    "collapsed": true
   },
   "outputs": [],
   "source": []
  }
 ],
 "metadata": {
  "kernelspec": {
   "display_name": "Python 3",
   "language": "python",
   "name": "python3"
  },
  "language_info": {
   "codemirror_mode": {
    "name": "ipython",
    "version": 3
   },
   "file_extension": ".py",
   "mimetype": "text/x-python",
   "name": "python",
   "nbconvert_exporter": "python",
   "pygments_lexer": "ipython3",
   "version": "3.4.3"
  }
 },
 "nbformat": 4,
 "nbformat_minor": 0
}
