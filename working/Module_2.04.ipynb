{
 "cells": [
  {
   "cell_type": "markdown",
   "metadata": {
    "collapsed": true
   },
   "source": [
    "Burger’s Equation\n",
    "\n",
    "Burger’s equation in on spatial dimension looks like:\n",
    "\n",
    "$$\\frac{\\partial u}{\\partial t} + u \\frac{\\partial u}{\\partial x} = v \\frac{\\partial^2 u}{\\partial x^2}$$\n",
    "\n",
    "This is combination of linear convection and diffusion. Discretize using the methods we have seen.\n",
    "\n",
    "$$\\frac{u_i^{n+1} - u_i^n}{\\Delta t} + u_i^n \\frac{u_i^n - u_{i-1}^n}{\\Delta x} = v \\frac{u_{i+1}^n - 2u_i^n + u_{i-1}^n}{\\Delta x^2}$$\n",
    "\n",
    "We will step in time as follows:\n",
    "\n",
    "$$u_i^{n+1} = u_i^n - u_i^n\\frac{\\Delta t}{\\Delta x} (u_i^n - u_{i-1}^n) + v \\frac{\\Delta t}{\\Delta x^2}(u_{i+1}^n - 2u_i^n + u_{i-1}^n)$$\n",
    "\n",
    "Initial and  Boundary Conditions\n",
    "\n",
    "\n",
    "$$u = -\\frac{2v}{\\phi} \\frac{\\partial \\phi}{\\partial x} + 4$$\n",
    "\n",
    "$$\\phi (t=0) = \\phi_0 = exp \\left( \\frac{-x^2}{4v} \\right) + exp \\left(  \\frac{-(x-2 \\pi)^2}{4v} \\right ) $$\n",
    "\n",
    "This has analytical solution:\n",
    "\n",
    "$$u = -\\frac{2v}{\\phi}\\frac{\\partial \\phi}{\\partial x} + 4$$\n",
    "$$ \\phi = exp \\left ( \\frac{-(x-4t)^2}{4v(t+1)} \\right ) + exp \\left ( \\frac{-(x-4t-2 \\pi)^2}{4v(t+1)} \\right )$$\n",
    "\n",
    "Boundary Condition: \n",
    "$$u(0) = u(2 \\pi)$$\n"
   ]
  },
  {
   "cell_type": "code",
   "execution_count": null,
   "metadata": {
    "collapsed": true
   },
   "outputs": [],
   "source": []
  }
 ],
 "metadata": {
  "kernelspec": {
   "display_name": "Python 3",
   "language": "python",
   "name": "python3"
  },
  "language_info": {
   "codemirror_mode": {
    "name": "ipython",
    "version": 3
   },
   "file_extension": ".py",
   "mimetype": "text/x-python",
   "name": "python",
   "nbconvert_exporter": "python",
   "pygments_lexer": "ipython3",
   "version": "3.4.3"
  }
 },
 "nbformat": 4,
 "nbformat_minor": 0
}
