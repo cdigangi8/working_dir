{
 "cells": [
  {
   "cell_type": "markdown",
   "metadata": {},
   "source": [
    "Relax and Hold Steady part 3\n",
    "\n",
    "Test problem:\n",
    "\n",
    "\\begin{equation}\n",
    "  \\begin{gathered}\n",
    "p=0 \\text{ at } x=0\\\\\n",
    "\\frac{\\partial p}{\\partial x} = 0 \\text{ at } x = L\\\\\n",
    "p = 0 \\text{ at }y = 0 \\\\\n",
    "p = \\sin \\left(  \\frac{\\frac{3}{2}\\pi x}{L} \\right) \\text{ at } y = H\n",
    "  \\end{gathered}\n",
    "\\end{equation}\n",
    "\n"
   ]
  },
  {
   "cell_type": "code",
   "execution_count": 1,
   "metadata": {
    "collapsed": true
   },
   "outputs": [],
   "source": [
    "import numpy\n",
    "from matplotlib import pyplot, cm\n",
    "from mpl_toolkits.mplot3d import Axes3D\n",
    "%matplotlib inline\n",
    "from matplotlib import rcParams\n",
    "rcParams['font.family'] = 'serif'\n",
    "rcParams['font.size'] = 16"
   ]
  },
  {
   "cell_type": "code",
   "execution_count": 2,
   "metadata": {
    "collapsed": true
   },
   "outputs": [],
   "source": [
    "from laplace_helper import p_analytical, plot_3D, L2_rel_error"
   ]
  },
  {
   "cell_type": "code",
   "execution_count": 3,
   "metadata": {
    "collapsed": true
   },
   "outputs": [],
   "source": [
    "nx = 128\n",
    "ny = 128\n",
    "\n",
    "L = 5\n",
    "H = 5\n",
    "\n",
    "x = numpy.linspace(0,L,nx)\n",
    "y = numpy.linspace(0,H,ny)\n",
    "\n",
    "dx = L/(nx-1)\n",
    "dy = H/(ny-1)\n",
    "\n",
    "p0 = numpy.zeros((ny,nx))\n",
    "\n",
    "p0[-1,:] = numpy.sin(1.5*numpy.pi*x/x[-1])"
   ]
  },
  {
   "cell_type": "code",
   "execution_count": 4,
   "metadata": {
    "collapsed": true
   },
   "outputs": [],
   "source": [
    "def laplace2d(p,y,dx,dy,target):\n",
    "    \n",
    "    norm = 1\n",
    "    pn = numpy.empty_like(p)\n",
    "    iterations = 0\n",
    "    \n",
    "    while norm > target:\n",
    "        pn = p.copy()\n",
    "        \n",
    "        p[1:-1,1:-1] = .25 * (pn[1:-1,2:] + pn[1:-1,:-2] +\\\n",
    "                              pn[2:,1:-1] + pn[:-2,1:-1])\n",
    "        \n",
    "        p[1:-1,-1] = .25 * (2*pn[1:-1,-2] + pn[2:,-1] + pn[:-2, -1])\n",
    "        \n",
    "        norm = numpy.sqrt(numpy.sum((p - pn)**2)/numpy.sum(pn**2))\n",
    "        iterations += 1\n",
    "     \n",
    "    return p, iterations\n",
    "        "
   ]
  },
  {
   "cell_type": "code",
   "execution_count": 5,
   "metadata": {
    "collapsed": false
   },
   "outputs": [
    {
     "name": "stdout",
     "output_type": "stream",
     "text": [
      "Jacobi method took 19993 iterations at tolerance 1e-08\n"
     ]
    }
   ],
   "source": [
    "eps = 1e-8\n",
    "p,iterations = laplace2d(p0.copy(), y, dx, dy, eps)\n",
    "\n",
    "print (\"Jacobi method took {} iterations at tolerance {}\".\\\n",
    "        format(iterations, eps))"
   ]
  },
  {
   "cell_type": "code",
   "execution_count": 6,
   "metadata": {
    "collapsed": false
   },
   "outputs": [
    {
     "name": "stdout",
     "output_type": "stream",
     "text": [
      "1 loops, best of 3: 5.11 s per loop\n"
     ]
    }
   ],
   "source": [
    "%%timeit\n",
    "laplace2d(p0.copy(), y, dx, dy, eps)"
   ]
  },
  {
   "cell_type": "code",
   "execution_count": 7,
   "metadata": {
    "collapsed": true
   },
   "outputs": [],
   "source": [
    "pan = p_analytical(x,y)"
   ]
  },
  {
   "cell_type": "code",
   "execution_count": 8,
   "metadata": {
    "collapsed": false
   },
   "outputs": [
    {
     "data": {
      "text/plain": [
       "6.1735513352884566e-05"
      ]
     },
     "execution_count": 8,
     "metadata": {},
     "output_type": "execute_result"
    }
   ],
   "source": [
    "L2_rel_error(p,pan)"
   ]
  },
  {
   "cell_type": "markdown",
   "metadata": {},
   "source": [
    "Gauss-Seidel\n",
    "\n",
    "single jacobi iteration is written as:\n",
    "\n",
    "\\begin{equation}\n",
    "p^{k+1}_{i,j} = \\frac{1}{4} \\left(p^{k}_{i,j-1} + p^k_{i,j+1} + p^{k}_{i-1,j} + p^k_{i+1,j} \\right)\n",
    "\\end{equation}\n",
    "\n",
    "The iteration for Gauss-Seidell is thus:\n",
    "\n",
    "\\begin{equation}\n",
    "p^{k+1}_{i,j} = \\frac{1}{4} \\left(p^{k+1}_{i,j-1} + p^k_{i,j+1} + p^{k+1}_{i-1,j} + p^k_{i+1,j} \\right)\n",
    "\\end{equation}\n",
    "\n"
   ]
  },
  {
   "cell_type": "code",
   "execution_count": 9,
   "metadata": {
    "collapsed": true
   },
   "outputs": [],
   "source": [
    "def laplace2d_gauss_deidel(p,y,dx,dy,nx,ny,eps):\n",
    "    iterations = 0\n",
    "    error = eps+1\n",
    "    \n",
    "    while error > eps:\n",
    "        pn = p.copy()\n",
    "        error = 0.0\n",
    "        for j in range(1,ny-1):\n",
    "            for i in range(1,nx-1):\n",
    "                p[j,i] = .25 * (p[j,i-1] + p[j,i+1] + p[j-1,i] + p[j+1,i])\n",
    "                error += (p[j,i] - pn[j,i])**2\n",
    "        \n",
    "        for j in range(1,ny-1):\n",
    "            p[j,-1] = .25 * (2*p[j,-2] + p[j+1,-1] + p[j-1, -1])\n",
    "            \n",
    "        error = numpy.sqrt(error/numpy.sum(pn**2))\n",
    "        iterations += 1        \n",
    "        \n",
    "    return p, iterations\n",
    "    "
   ]
  },
  {
   "cell_type": "markdown",
   "metadata": {},
   "source": [
    "We would then run this with the following function call:\n",
    "\n",
    "```Python\n",
    "p, iterations = laplace2d_gauss_seidel(p, y, dx, dy, nx, ny, 1e-8)\n",
    "```\n",
    "\n",
    "But **don't do it**.  We did it so that you don't have to!  \n",
    "\n",
    "The solution of our test problem with the Gauss-Seidel method required several thousand fewer iterations than the Jacobi method, but it took more than *7 minutes* to run on our machine."
   ]
  },
  {
   "cell_type": "markdown",
   "metadata": {},
   "source": [
    "Use Numba!\n",
    "\n",
    "Numba is an open source optimizing compiler for python.\n",
    "\n"
   ]
  },
  {
   "cell_type": "code",
   "execution_count": 10,
   "metadata": {
    "collapsed": true
   },
   "outputs": [],
   "source": [
    "import numba\n",
    "from numba import jit"
   ]
  },
  {
   "cell_type": "code",
   "execution_count": 11,
   "metadata": {
    "collapsed": true
   },
   "outputs": [],
   "source": [
    "def fib_it(n):\n",
    "    a =1\n",
    "    b = 1\n",
    "    for i in range(n-2):\n",
    "        a,b = b, a+b\n",
    "        \n",
    "    return b"
   ]
  },
  {
   "cell_type": "code",
   "execution_count": 13,
   "metadata": {
    "collapsed": false
   },
   "outputs": [
    {
     "name": "stdout",
     "output_type": "stream",
     "text": [
      "1 loops, best of 3: 4.62 s per loop\n"
     ]
    }
   ],
   "source": [
    "%%timeit\n",
    "fib_it(500000)"
   ]
  },
  {
   "cell_type": "code",
   "execution_count": 14,
   "metadata": {
    "collapsed": true
   },
   "outputs": [],
   "source": [
    "@jit\n",
    "def fib_it(n):\n",
    "    a =1\n",
    "    b = 1\n",
    "    for i in range(n-2):\n",
    "        a,b = b, a+b\n",
    "        \n",
    "    return b"
   ]
  },
  {
   "cell_type": "code",
   "execution_count": 15,
   "metadata": {
    "collapsed": false
   },
   "outputs": [
    {
     "name": "stdout",
     "output_type": "stream",
     "text": [
      "The slowest run took 3421.31 times longer than the fastest. This could mean that an intermediate result is being cached \n",
      "1 loops, best of 3: 335 µs per loop\n"
     ]
    }
   ],
   "source": [
    "%%timeit\n",
    "fib_it(500000)"
   ]
  },
  {
   "cell_type": "code",
   "execution_count": 16,
   "metadata": {
    "collapsed": false
   },
   "outputs": [
    {
     "name": "stdout",
     "output_type": "stream",
     "text": [
      "1000 loops, best of 3: 202 µs per loop\n"
     ]
    }
   ],
   "source": [
    "%%timeit\n",
    "fib_it(500000)"
   ]
  },
  {
   "cell_type": "code",
   "execution_count": 17,
   "metadata": {
    "collapsed": false
   },
   "outputs": [
    {
     "ename": "SyntaxError",
     "evalue": "unexpected EOF while parsing (<ipython-input-17-b2eec42f422f>, line 1)",
     "output_type": "error",
     "traceback": [
      "\u001b[0;36m  File \u001b[0;32m\"<ipython-input-17-b2eec42f422f>\"\u001b[0;36m, line \u001b[0;32m1\u001b[0m\n\u001b[0;31m    @jit(nopython=True)\u001b[0m\n\u001b[0m                       ^\u001b[0m\n\u001b[0;31mSyntaxError\u001b[0m\u001b[0;31m:\u001b[0m unexpected EOF while parsing\n"
     ]
    }
   ],
   "source": [
    "@jit(nopython=True)"
   ]
  },
  {
   "cell_type": "code",
   "execution_count": 18,
   "metadata": {
    "collapsed": false
   },
   "outputs": [
    {
     "name": "stdout",
     "output_type": "stream",
     "text": [
      "0.19.1\n"
     ]
    }
   ],
   "source": [
    "print(numba.__version__)"
   ]
  },
  {
   "cell_type": "code",
   "execution_count": 19,
   "metadata": {
    "collapsed": true
   },
   "outputs": [],
   "source": [
    "@jit(nopython=True)\n",
    "def laplace2d_jacobi(p, pn, y, dx, dy, eps):\n",
    "    \n",
    "    iterations = 0\n",
    "    error = eps+1 #initialize error to be larger than eps\n",
    "    ny, nx = p.shape\n",
    "    l2err = numpy.zeros(20000)\n",
    "    \n",
    "    while error > eps:\n",
    "        for j in range(ny):\n",
    "            for i in range(nx):\n",
    "                pn[j,i] = p[j,i]\n",
    "        error = 0.0\n",
    "        for j in range(1,ny-1):\n",
    "            for i in range(1,nx-1):\n",
    "                p[j,i] = .25 * (pn[j,i-1] + pn[j,i+1] + pn[j-1,i] + pn[j+1,i])\n",
    "                \n",
    "        \n",
    "        #Neumann 2nd-order BC\n",
    "        for j in range(1,ny-1):\n",
    "            p[j,-1] = .25 * (2*pn[j,-2] + pn[j+1,-1] + pn[j-1, -1])\n",
    "            \n",
    "            \n",
    "        for j in range(ny):\n",
    "            for i in range(nx):\n",
    "                error += (p[j,i] - pn[j,i])**2\n",
    "        \n",
    "        \n",
    "        error = numpy.sqrt(error/numpy.sum(pn**2))\n",
    "        l2err[iterations] = error\n",
    "        iterations += 1    \n",
    "        \n",
    "    return p, iterations, l2err"
   ]
  },
  {
   "cell_type": "code",
   "execution_count": 20,
   "metadata": {
    "collapsed": false
   },
   "outputs": [
    {
     "name": "stdout",
     "output_type": "stream",
     "text": [
      "Numba Jacobi method took 19993 iterations at tolerance 1e-08\n"
     ]
    }
   ],
   "source": [
    "p, iterations, l2errJ = laplace2d_jacobi(p0.copy(), p0.copy(), y, dx, dy, 1e-8)\n",
    "\n",
    "print(\"Numba Jacobi method took {} iterations at tolerance {}\".format(iterations, eps))"
   ]
  },
  {
   "cell_type": "code",
   "execution_count": 21,
   "metadata": {
    "collapsed": false
   },
   "outputs": [
    {
     "name": "stdout",
     "output_type": "stream",
     "text": [
      "1 loops, best of 3: 19.8 s per loop\n"
     ]
    }
   ],
   "source": [
    "%%timeit \n",
    "laplace2d_jacobi(p0.copy(), p0.copy(), y, dx, dy, 1e-8)"
   ]
  },
  {
   "cell_type": "code",
   "execution_count": 22,
   "metadata": {
    "collapsed": true
   },
   "outputs": [],
   "source": [
    "@jit(nopython=True)\n",
    "def laplace2d_gauss_seidel(p, pn, y, dx, dy, eps):\n",
    "\n",
    "    iterations = 0\n",
    "    error = eps + 1 #initialize error to be larger than eps\n",
    "    ny, nx = p.shape\n",
    "    l2err = numpy.zeros(20000)\n",
    "    \n",
    "    while error > eps:\n",
    "        for j in range(ny):\n",
    "            for i in range(nx):\n",
    "                pn[j,i] = p[j,i]\n",
    "        error = 0.0\n",
    "        for j in range(1,ny-1):\n",
    "            for i in range(1,nx-1):\n",
    "                p[j,i] = .25 * (p[j,i-1] + p[j,i+1] + p[j-1,i] + p[j+1,i])\n",
    "                \n",
    "        \n",
    "        #Neumann 2nd-order BC\n",
    "        for j in range(1,ny-1):\n",
    "            p[j,-1] = .25 * (2*p[j,-2] + p[j+1,-1] + p[j-1, -1])\n",
    "            \n",
    "            \n",
    "        for j in range(ny):\n",
    "            for i in range(nx):\n",
    "                error += (p[j,i] - pn[j,i])**2\n",
    "        \n",
    "        \n",
    "        error = numpy.sqrt(error/numpy.sum(pn**2))\n",
    "        l2err[iterations] = error\n",
    "        iterations += 1    \n",
    "        \n",
    "    return p, iterations, l2err"
   ]
  },
  {
   "cell_type": "code",
   "execution_count": 23,
   "metadata": {
    "collapsed": false
   },
   "outputs": [
    {
     "name": "stdout",
     "output_type": "stream",
     "text": [
      "Numba Gauss-Seidel method took 13939 iterations at tolerance 1e-08\n"
     ]
    }
   ],
   "source": [
    "p, iterations, l2errGS = laplace2d_gauss_seidel(p0.copy(), p0.copy(), y, dx, dy, 1e-8)\n",
    "\n",
    "print(\"Numba Gauss-Seidel method took {} iterations at tolerance {}\".format(iterations, eps))"
   ]
  },
  {
   "cell_type": "code",
   "execution_count": 24,
   "metadata": {
    "collapsed": false
   },
   "outputs": [
    {
     "name": "stdout",
     "output_type": "stream",
     "text": [
      "1 loops, best of 3: 15.2 s per loop\n"
     ]
    }
   ],
   "source": [
    "%%timeit\n",
    "laplace2d_gauss_seidel(p0.copy(), p0.copy(), y, dx, dy, 1e-8)"
   ]
  },
  {
   "cell_type": "code",
   "execution_count": 25,
   "metadata": {
    "collapsed": true
   },
   "outputs": [],
   "source": [
    "@jit(nopython=True)\n",
    "def laplace2d_SOR(p, pn, y, dx, dy, eps, omega):\n",
    "    \n",
    "    iterations = 0\n",
    "    error = eps + 1 #initialize error to be larger than eps\n",
    "    ny, nx = p.shape\n",
    "    l2err = numpy.zeros(20000)\n",
    "    \n",
    "    while error > eps:\n",
    "        for j in range(ny):\n",
    "            for i in range(nx):\n",
    "                pn[j,i] = p[j,i]\n",
    "        error = 0.0\n",
    "        for j in range(1,ny-1):\n",
    "            for i in range(1,nx-1):\n",
    "                p[j,i] = (1-omega)*p[j,i] + omega*.25 * (p[j,i-1] + p[j,i+1] + p[j-1,i] + p[j+1,i])\n",
    "        \n",
    "        #Neumann 2nd-order BC\n",
    "        for j in range(1,ny-1):\n",
    "            p[j,-1] = .25 * (2*p[j,-2] + p[j+1,-1] + p[j-1, -1])\n",
    "            \n",
    "        for j in range(ny):\n",
    "            for i in range(nx):\n",
    "                error += (p[j,i] - pn[j,i])**2\n",
    "            \n",
    "        error = numpy.sqrt(error/numpy.sum(pn**2))\n",
    "        l2err[iterations] = error\n",
    "        iterations += 1        \n",
    "        \n",
    "    \n",
    "    return p, iterations, l2err"
   ]
  },
  {
   "cell_type": "code",
   "execution_count": 26,
   "metadata": {
    "collapsed": false
   },
   "outputs": [
    {
     "name": "stdout",
     "output_type": "stream",
     "text": [
      "Numba SOR method took 13939 iterations at tolerance 1e-08 with omega = 1\n"
     ]
    }
   ],
   "source": [
    "eps = 1e-8\n",
    "omega = 1\n",
    "p, iterations, l2errSOR = laplace2d_SOR(p0.copy(), p0.copy(), y, dx, dy, eps, omega)\n",
    "\n",
    "print(\"Numba SOR method took {} iterations\\\n",
    " at tolerance {} with omega = {}\".format(iterations, eps, omega))"
   ]
  },
  {
   "cell_type": "code",
   "execution_count": 27,
   "metadata": {
    "collapsed": false
   },
   "outputs": [
    {
     "name": "stdout",
     "output_type": "stream",
     "text": [
      "Numba SOR method took 7108 iterations at tolerance 1e-08 with omega = 1.5\n"
     ]
    }
   ],
   "source": [
    "eps = 1e-8\n",
    "omega = 1.5\n",
    "p, iterations, l2errSOR = laplace2d_SOR(p0.copy(), p0.copy(), y, dx, dy, eps, omega)\n",
    "\n",
    "print(\"Numba SOR method took {} iterations\\\n",
    " at tolerance {} with omega = {}\".format(iterations, eps, omega))"
   ]
  },
  {
   "cell_type": "code",
   "execution_count": 28,
   "metadata": {
    "collapsed": false
   },
   "outputs": [
    {
     "name": "stdout",
     "output_type": "stream",
     "text": [
      "1 loops, best of 3: 7.23 s per loop\n"
     ]
    }
   ],
   "source": [
    "%%timeit\n",
    "laplace2d_SOR(p0.copy(), p0.copy(), y, dx, dy, eps, omega)"
   ]
  },
  {
   "cell_type": "code",
   "execution_count": 29,
   "metadata": {
    "collapsed": false
   },
   "outputs": [
    {
     "name": "stdout",
     "output_type": "stream",
     "text": [
      "Numba SOR method took 1110 iterations at tolerance 1e-08 with omega = 1.9521\n"
     ]
    }
   ],
   "source": [
    "eps = 1e-8\n",
    "omega = 2./(1 + numpy.pi/nx)\n",
    "p, iterations, l2errSORopt = laplace2d_SOR(p0.copy(), p0.copy(), y, dx, dy, eps, omega)\n",
    "\n",
    "print(\"Numba SOR method took {} iterations\\\n",
    " at tolerance {} with omega = {:.4f}\".format(iterations, eps, omega))"
   ]
  },
  {
   "cell_type": "code",
   "execution_count": 30,
   "metadata": {
    "collapsed": false
   },
   "outputs": [
    {
     "name": "stdout",
     "output_type": "stream",
     "text": [
      "1 loops, best of 3: 1.1 s per loop\n"
     ]
    }
   ],
   "source": [
    "%%timeit\n",
    "laplace2d_SOR(p0.copy(), p0.copy(), y, dx, dy, eps, omega)"
   ]
  },
  {
   "cell_type": "code",
   "execution_count": 31,
   "metadata": {
    "collapsed": false
   },
   "outputs": [
    {
     "data": {
      "text/plain": [
       "7.7927433550683514e-05"
      ]
     },
     "execution_count": 31,
     "metadata": {},
     "output_type": "execute_result"
    }
   ],
   "source": [
    "L2_rel_error(p,pan)"
   ]
  },
  {
   "cell_type": "code",
   "execution_count": 32,
   "metadata": {
    "collapsed": false
   },
   "outputs": [
    {
     "data": {
      "image/png": "[encoded data removed]",
      "text/plain": [
       "<matplotlib.figure.Figure at 0x108791ba8>"
      ]
     },
     "metadata": {},
     "output_type": "display_data"
    }
   ],
   "source": [
    "pyplot.figure(figsize=(8,8))\n",
    "pyplot.xlabel(r'iterations', fontsize=18)\n",
    "pyplot.ylabel(r'$L_2$-norm', fontsize=18)\n",
    "pyplot.semilogy(numpy.trim_zeros(l2errJ,'b'),\n",
    "                'k-', lw=2, label='Jacobi')\n",
    "pyplot.semilogy(numpy.trim_zeros(l2errGS,'b'), \n",
    "                'k--', lw=2, label='Gauss-Seidel')\n",
    "pyplot.semilogy(numpy.trim_zeros(l2errSOR,'b'), \n",
    "                'g-', lw=2, label='SOR')\n",
    "pyplot.semilogy(numpy.trim_zeros(l2errSORopt,'b'), \n",
    "                'g--', lw=2, label='Optimized SOR')\n",
    "pyplot.legend(fontsize=16);"
   ]
  },
  {
   "cell_type": "code",
   "execution_count": null,
   "metadata": {
    "collapsed": true
   },
   "outputs": [],
   "source": []
  }
 ],
 "metadata": {
  "kernelspec": {
   "display_name": "Python 3",
   "language": "python",
   "name": "python3"
  },
  "language_info": {
   "codemirror_mode": {
    "name": "ipython",
    "version": 3
   },
   "file_extension": ".py",
   "mimetype": "text/x-python",
   "name": "python",
   "nbconvert_exporter": "python",
   "pygments_lexer": "ipython3",
   "version": "3.4.3"
  }
 },
 "nbformat": 4,
 "nbformat_minor": 0
}
