{
 "cells": [
  {
   "cell_type": "markdown",
   "metadata": {},
   "source": [
    "Space and Time!\n",
    "\n",
    "Introduction to numerical solution of PDEs\n",
    "\n",
    "1D linear convection\n",
    "\n",
    "1D convection equation:\n",
    "$$\\frac{\\partial u}{\\partial t} + c \\frac{\\partial u}{\\partial x} = 0$$\n",
    "\n",
    "The equation is a wave propogating with speed c in x direction\n",
    "\n",
    "inital condition $u(x,0) = u_0(x)$ gives the equation an exact solution:\n",
    "$$u(x,t) = u_0(x-ct)$$\n",
    "\n"
   ]
  },
  {
   "cell_type": "markdown",
   "metadata": {},
   "source": [
    "Finite-differences\n",
    "\n",
    "Now we need to discretize with respect to BOTH space and time. \n",
    "\n",
    "Imagine space time plot where coordinates vertical direction represent advancing in time. Horizontal directino is space. \n",
    "\n",
    "For numerical solution of $u(x,t)$ we use subscripts $u_i$ to denote the spatial position and superscripts to denote temporal instant like $u^n$\n",
    "\n",
    "Our grid will be built with constant steps in time and space:\n",
    "\n",
    "$$x_i = i \\Delta x  \\ \\ \\ and \\ \\ \\ t^n = n \\Delta t$$\n",
    "$$u_i^n = u(i \\Delta x, n \\Delta t)$$\n",
    "\n"
   ]
  },
  {
   "cell_type": "markdown",
   "metadata": {},
   "source": [
    "Discretizing our Model Equation\n",
    "\n",
    "Partial derivative wrt time changes only with time and not with space, the discretized form changes only n indices. Similiarly with x and i indices.\n",
    "\n",
    "Discretize the spatial coordinate x into points indexed i = 0 to N and then step in discrete time intervals.\n",
    "\n",
    "we know from definition of derivative\n",
    "\n",
    "$$\\frac{\\partial u}{\\partial x} = \\frac{u(x+ \\Delta x) - u(x)}{\\Delta x}$$\n",
    "\n",
    "We have three finite difference approximations at $x_i$\n",
    "\n",
    "Forward difference: uses $x_i$ and $x_i + \\Delta x$\n",
    "\n",
    "Backward difference: uses $x_i$ and $x_i - \\Delta x$\n",
    "\n",
    "Central difference: uses points on either side of $x_i$\n",
    "\n",
    "The three formulas are:\n",
    "\n",
    "$$\\frac{\\partial u}{\\partial x} = \\frac{u(x_{i+1}) - u(x_i)}{\\Delta x}$$\n",
    "\n",
    "$$\\frac{\\partial u}{\\partial x} = \\frac{u(x_i) - u(x_{i-1})}{\\Delta x}$$\n",
    "\n",
    "$$\\frac{\\partial u}{\\partial x} = \\frac{u(x_{i+1}) - u(x_{i-1})}{2\\Delta x}$$\n",
    "\n",
    "Euler's method is equivalent to using a forward-difference scheme for the time derivative. We will stick with that and use backward-difference scheme for the space derivative. Our discrete equation is:\n",
    "\n",
    "$$\\frac{u_i^{n+1} - u_i^n}{\\Delta t} + c \\frac{u_i^n - u_{i-1}^n}{\\Delta x} = 0$$\n",
    "\n",
    "n and n+1 are two consecutive steps in time and i and i-1 are two neighboring points of discretized x coordinate. Given initial conditions, the only unkown is the discretization $u_i^{n+1}$ we solve this for the unknown that allows us to step in time.\n",
    "\n",
    "$$u_i^{n+1} = u_i^n - c \\frac{\\Delta t}{\\Delta x}(u_i^n - u_{i-1}^n)$$\n",
    "\n",
    "And Compute!"
   ]
  },
  {
   "cell_type": "code",
   "execution_count": 2,
   "metadata": {
    "collapsed": true
   },
   "outputs": [],
   "source": [
    "import numpy\n",
    "from matplotlib import pyplot\n",
    "%matplotlib inline\n",
    "from matplotlib import rcParams\n",
    "rcParams['font.family'] = 'serif'\n",
    "rcParams['font.size'] = 16"
   ]
  },
  {
   "cell_type": "markdown",
   "metadata": {},
   "source": [
    "Initial condition defined as follows for square wave:\n",
    "\\begin{equation}\n",
    "u(x,0) = \\begin{cases}2 & \\text{where} 0.5 \\leq x \\leq 1, \\\\\n",
    "1 & \\text{everywhere else in } (0,2)\n",
    "\\end{cases}\n",
    "\\end{equation}\n",
    "\n",
    "Boundary condition on x: let $u = 1 \\ at \\ x = 0$ Our spatial domain for numerical solution will only cover range x in (0,2)\n",
    "\n",
    "We will now create an evenly space grid of points within domain. Let's make some variables!"
   ]
  },
  {
   "cell_type": "code",
   "execution_count": 3,
   "metadata": {
    "collapsed": true
   },
   "outputs": [],
   "source": [
    "nx = 100 #number of spatial grid points\n",
    "dx = 2/(nx-1) # distance between\n",
    "nt = 25 #time grid points\n",
    "dt = .02 #time step\n",
    "c = 1 #wave speed\n",
    "x = numpy.linspace(0,2,nx)"
   ]
  },
  {
   "cell_type": "code",
   "execution_count": 4,
   "metadata": {
    "collapsed": false
   },
   "outputs": [
    {
     "name": "stdout",
     "output_type": "stream",
     "text": [
      "(array([25, 26, 27, 28, 29, 30, 31, 32, 33, 34, 35, 36, 37, 38, 39, 40, 41,\n",
      "       42, 43, 44, 45, 46, 47, 48, 49, 50, 51, 52, 53, 54, 55, 56, 57, 58,\n",
      "       59, 60, 61, 62, 63, 64, 65, 66, 67, 68, 69, 70, 71, 72, 73, 74, 75,\n",
      "       76, 77, 78, 79, 80, 81, 82, 83, 84, 85, 86, 87, 88, 89, 90, 91, 92,\n",
      "       93, 94, 95, 96, 97, 98, 99]),)\n",
      "(array([ 0,  1,  2,  3,  4,  5,  6,  7,  8,  9, 10, 11, 12, 13, 14, 15, 16,\n",
      "       17, 18, 19, 20, 21, 22, 23, 24, 25, 26, 27, 28, 29, 30, 31, 32, 33,\n",
      "       34, 35, 36, 37, 38, 39, 40, 41, 42, 43, 44, 45, 46, 47, 48, 49]),)\n"
     ]
    }
   ],
   "source": [
    "u = numpy.ones(nx) #define array of ones which is nx elements long\n",
    "lbound = numpy.where(x>= 0.5) #Use where to see places the array does or does not meet given criteria\n",
    "ubound = numpy.where(x<=1)\n",
    "\n",
    "#This will return an array of indices that meet the given criteria\n",
    "\n",
    "print(lbound)\n",
    "print(ubound)"
   ]
  },
  {
   "cell_type": "code",
   "execution_count": 5,
   "metadata": {
    "collapsed": false
   },
   "outputs": [
    {
     "name": "stdout",
     "output_type": "stream",
     "text": [
      "[ 1.  1.  1.  1.  1.  1.  1.  1.  1.  1.  1.  1.  1.  1.  1.  1.  1.  1.\n",
      "  1.  1.  1.  1.  1.  1.  1.  2.  2.  2.  2.  2.  2.  2.  2.  2.  2.  2.\n",
      "  2.  2.  2.  2.  2.  2.  2.  2.  2.  2.  2.  2.  2.  2.  1.  1.  1.  1.\n",
      "  1.  1.  1.  1.  1.  1.  1.  1.  1.  1.  1.  1.  1.  1.  1.  1.  1.  1.\n",
      "  1.  1.  1.  1.  1.  1.  1.  1.  1.  1.  1.  1.  1.  1.  1.  1.  1.  1.\n",
      "  1.  1.  1.  1.  1.  1.  1.  1.  1.  1.]\n"
     ]
    }
   ],
   "source": [
    "bounds = numpy.intersect1d(lbound,ubound) # combine these two arrays\n",
    "u[bounds]=2\n",
    "print(u)"
   ]
  },
  {
   "cell_type": "code",
   "execution_count": 6,
   "metadata": {
    "collapsed": false
   },
   "outputs": [
    {
     "data": {
      "image/png": "[encoded data removed]",
      "text/plain": [
       "<matplotlib.figure.Figure at 0x7f2008e03278>"
      ]
     },
     "metadata": {},
     "output_type": "display_data"
    }
   ],
   "source": [
    "#Look at initial conditions with plot\n",
    "pyplot.plot(x,u,color='#003366', ls = '--', lw=3)\n",
    "pyplot.ylim(0,2.5);"
   ]
  },
  {
   "cell_type": "markdown",
   "metadata": {},
   "source": [
    "The graph shows slightly angled vertical lines so its not quite what we expected.\n",
    "\n",
    "for every element of our array u we need to perform operation:\n",
    "$$u_i^{n+1} = u_i^n - c \\frac{\\Delta t}{\\Delta x}(u_i^n - u_{i-1}^n)$$\n",
    "\n",
    "We will store the result in a new temporary array un, which will be solution u for the next time step. \n",
    "\n",
    "Initialize placeholder array un to hold values"
   ]
  },
  {
   "cell_type": "code",
   "execution_count": 7,
   "metadata": {
    "collapsed": true
   },
   "outputs": [],
   "source": [
    "for n in range(1,nt):\n",
    "    un = u.copy()\n",
    "    for i in range(1,nx):\n",
    "        u[i] = un[i]-c*dt/dx*(un[i]-un[i-1])"
   ]
  },
  {
   "cell_type": "code",
   "execution_count": 8,
   "metadata": {
    "collapsed": false
   },
   "outputs": [
    {
     "data": {
      "text/plain": [
       "(0, 2.5)"
      ]
     },
     "execution_count": 8,
     "metadata": {},
     "output_type": "execute_result"
    },
    {
     "data": {
      "image/png": "[encoded data removed]",
      "text/plain": [
       "<matplotlib.figure.Figure at 0x7f1feb310b00>"
      ]
     },
     "metadata": {},
     "output_type": "display_data"
    }
   ],
   "source": [
    "pyplot.plot(x,u,color='#003366', ls='--',lw=3)\n",
    "pyplot.ylim(0,2.5)\n",
    "#Increased grid size from 41 to 100 to make the graph better"
   ]
  },
  {
   "cell_type": "markdown",
   "metadata": {},
   "source": [
    "Spatial Truncation Error\n",
    "\n",
    "Recall the finite difference appx we are using:\n",
    "\n",
    "$$\\frac{\\partial u}{\\partial x} = \\frac{u(x+ \\Delta x) - u(x)}{\\Delta x}$$\n",
    "\n",
    "Using a Taylor series expansion for the spatial terms, we see the backwards-difference scheme produces a first order method in space:\n",
    "\n",
    "$$\\frac{\\partial u}{\\partial x}(x_i) = \\frac{u(x_i) - u(x_{i-1})}{\\Delta x} + \\frac{\\Delta x}{2}\\frac{\\partial^2 u}{\\partial x^2}(x_i)-\\frac{\\Delta x^2}{6}\\frac{\\partial^3 u}{\\partial x^3}(x_i)+...$$\n",
    "\n",
    "the dominant term that is neglected in the finite difference is of $O(\\Delta x)$. We also see that the appx converges to exact derivative as $\\Delta x$ goes to 0\n",
    "\n",
    "Summary! The forward-time/backward-space scheme is first-order in both space and time: truncation errors are $O(\\Delta t, \\Delta x)$\n",
    "\n"
   ]
  },
  {
   "cell_type": "markdown",
   "metadata": {},
   "source": [
    "Non-linear convection\n",
    "\n",
    "1-D convection equation:\n",
    "\n",
    "\n",
    "$$\\frac{\\partial u}{\\partial t} + u\\frac{\\partial u}{\\partial x}$$ = 0\n",
    "\n",
    "Now constant wave speed c is variable speed u\n",
    "\n",
    "use the same discretization as for linear convection:\n",
    "\n",
    "$$\\frac{u_i^{n+1} - u_i^n}{\\Delta t} + u_i^n \\frac{u_i^n - u_{i-1}^n}{\\Delta x} = 0$$\n",
    "\n",
    "Solving for unkonw term $u_i^{n+1}$\n",
    "\n",
    "$$u_i^{n+1} = u_i^n - u_i^n \\frac{\\Delta t}{\\Delta x}(u_i^n - u_{i-1}^n)$$\n",
    "\n",
    "So far, very little needs to change from our code above."
   ]
  },
  {
   "cell_type": "code",
   "execution_count": 9,
   "metadata": {
    "collapsed": false
   },
   "outputs": [],
   "source": [
    "nx = 80\n",
    "dx = 2/(nx-1)\n",
    "nt = 10\n",
    "dt = .02\n",
    "\n",
    "x = numpy.linspace(0,2,nx)\n",
    "lbound = numpy.where(x>= 0.5) #Use where to see places the array does or does not meet given criteria\n",
    "ubound = numpy.where(x<=1)\n",
    "\n",
    "\n",
    "u=numpy.ones(nx)\n",
    "\n",
    "\n",
    "u[numpy.intersect1d(lbound, ubound)]=2\n"
   ]
  },
  {
   "cell_type": "code",
   "execution_count": 10,
   "metadata": {
    "collapsed": false
   },
   "outputs": [
    {
     "data": {
      "text/plain": [
       "(0, 2.5)"
      ]
     },
     "execution_count": 10,
     "metadata": {},
     "output_type": "execute_result"
    },
    {
     "data": {
      "image/png": "[encoded data removed]",
      "text/plain": [
       "<matplotlib.figure.Figure at 0x7f1feb290208>"
      ]
     },
     "metadata": {},
     "output_type": "display_data"
    }
   ],
   "source": [
    "pyplot.plot(x,u,color='#003366', ls='--', lw=3)\n",
    "pyplot.ylim(0,2.5)"
   ]
  },
  {
   "cell_type": "code",
   "execution_count": 11,
   "metadata": {
    "collapsed": true
   },
   "outputs": [],
   "source": [
    "for n in range(1,nt):\n",
    "    un = u.copy()\n",
    "    for i in range(1,nx):\n",
    "        u[1:] = un[1:]-un[1:]*dt/dx*(un[1:]-un[0:-1])\n",
    "        u[0] = 1.0"
   ]
  },
  {
   "cell_type": "code",
   "execution_count": 12,
   "metadata": {
    "collapsed": false
   },
   "outputs": [
    {
     "data": {
      "text/plain": [
       "(0, 2.5)"
      ]
     },
     "execution_count": 12,
     "metadata": {},
     "output_type": "execute_result"
    },
    {
     "data": {
      "image/png": "[encoded data removed]",
      "text/plain": [
       "<matplotlib.figure.Figure at 0x7f1feb2156a0>"
      ]
     },
     "metadata": {},
     "output_type": "display_data"
    }
   ],
   "source": [
    "pyplot.plot(x,u,color='#003366', ls='--', lw=3)\n",
    "pyplot.ylim(0,2.5)"
   ]
  },
  {
   "cell_type": "code",
   "execution_count": null,
   "metadata": {
    "collapsed": true
   },
   "outputs": [],
   "source": []
  }
 ],
 "metadata": {
  "kernelspec": {
   "display_name": "Python 3",
   "language": "python",
   "name": "python3"
  },
  "language_info": {
   "codemirror_mode": {
    "name": "ipython",
    "version": 3
   },
   "file_extension": ".py",
   "mimetype": "text/x-python",
   "name": "python",
   "nbconvert_exporter": "python",
   "pygments_lexer": "ipython3",
   "version": "3.4.3"
  }
 },
 "nbformat": 4,
 "nbformat_minor": 0
}
