{
 "cells": [
  {
   "cell_type": "markdown",
   "metadata": {},
   "source": [
    "Spreading Out\n",
    "\n",
    "Heat equation in one spatial dimension:\n",
    "\n",
    "$$\\frac{\\partial T}{\\partial t} = \\alpha \\frac{\\partial^2 T}{\\partial x^2}$$\n",
    "\n",
    "Implicit method works differently: we will use more data from the \"future\" in the update, including several values of T at $t^{n+1}$. This will make the scheme more difficut to apply.\n",
    "\n",
    "Problems with explicit method:\n",
    "1) boundary effects drag behind by one time step\n",
    "2) stability requirements constrain the time step to very small values.\n",
    "\n",
    "Both of those are resovled by implicit method!\n",
    "\n",
    "Let's try combining the Euler time step with an evaluation of the spatial derivative on the updated solution at $t^{n+1}$\n",
    "\n",
    "$$\\frac{T_i^{n+1} - T_i^n}{\\Delta t} = \\alpha \\frac{T_{i+1}^{n+1} - 2T_i^{n+1} + T_{i-1}^{n+1}}{\\Delta x^2}$$\n",
    "\n",
    "From the previous time step we only know $T_i^n$ but what about $T_{i+1}^{n+1}$, $T_{i-1}^{n+1}$ and $T_i^{n+1}$\n",
    "\n",
    "If we put knowns on the RHS and unkowns on the LHS:\n",
    "\n",
    "$$-T_{i-1}^{n+1} + \\left( 2+\\frac{\\Delta x^2}{\\alpha \\Delta t} \\right) T_i^{n+1} - T_{i+1}^{n+1} = T_i^n \\frac{\\Delta x^2}{\\alpha \\Delta t}$$\n",
    "\n",
    "It looks like alot of unkowns and just one equation!\n",
    "\n",
    "With i=1\n",
    "\n",
    "$$-T_{0}^{n+1} + \\left( 2+\\frac{\\Delta x^2}{\\alpha \\Delta t} \\right) T_1^{n+1} - T_{2}^{n+1} = T_1^n \\frac{\\Delta x^2}{\\alpha \\Delta t}$$\n",
    "\n",
    "and i = 2:\n",
    "\n",
    "$$-T_{1}^{n+1} + \\left( 2+\\frac{\\Delta x^2}{\\alpha \\Delta t} \\right) T_2^{n+1} - T_{3}^{n+1} = T_2^n \\frac{\\Delta x^2}{\\alpha \\Delta t}$$\n",
    "\n",
    "and i = 3:\n",
    "\n",
    "$$-T_{2}^{n+1} + \\left( 2+\\frac{\\Delta x^2}{\\alpha \\Delta t} \\right) T_3^{n+1} - T_{4}^{n+1} = T_3^n \\frac{\\Delta x^2}{\\alpha \\Delta t}$$\n",
    "\n",
    "You can see a common element across equations as the element moves from right to left. See Numerical mooc lesson for image!\n",
    "\n",
    "$T_i^{n+1}$ also appears in the euation for $T_{i-1}^{n+1}$ and $T_{i+1}^{n+1}$ This is a linear system of equations for the unkown values $T_i^{n+1}$\n",
    "\n",
    "\n",
    "What about the boundary conditions?\n",
    "\n",
    "We have Dirichlet BC at x=0 and a Nuemann BC at x = 1.\n",
    "\n",
    "The term $T_0^{n+1}$ is known at every time step from the BC so putting all unkowns on LHS and knowns on RHS yeilds for i = 1:\n",
    "\n",
    "$$-T_{2}^{n+1} + \\left( 2+\\frac{\\Delta x^2}{\\alpha \\Delta t} \\right) T_1^{n+1} = T_1^n \\frac{\\Delta x^2}{\\alpha \\Delta t} + - T_{0}^{n+1}$$\n",
    "\n",
    "On the other hand for i = N-2 the equation reads:\n",
    "\n",
    "$$-T_{N-3}^{n+1} + \\left( 2+\\frac{\\Delta x^2}{\\alpha \\Delta t} \\right) T_{N-2}^{n+1} - T_{N-1}^{n+1} = T_{N-2}^n \\frac{\\Delta x^2}{\\alpha \\Delta t}$$\n",
    "\n",
    "\n",
    "The discretized NBC on the RHS of the rod is:\n",
    "\n",
    "$$\\frac{T_{N-1}^n - T_{N-2}^n}{\\Delta x} = q$$\n",
    "\n",
    "But we can just as easily write that for the next time step:\n",
    "\n",
    "$$\\frac{T_{N-1}^{n+1} - T_{N-2}^{n+1}}{\\Delta x} = q$$\n",
    "\n",
    "Inserting the NBC in the equation for i = N-2 yields:\n",
    "\n",
    "$$-T_{N-3}^{n+1} + \\left( 1+\\frac{\\Delta x^2}{\\alpha \\Delta t} \\right) T_{N-2}^{n+1} = T_{N-2}^n \\frac{\\Delta x^2}{\\alpha \\Delta t} + \\Delta x q$$\n",
    "\n",
    "Now we can write the linear system of equations out in matrix form as follows:\n",
    "\n",
    "$$[A][x] = [b]+[b]_{b.c.}$$\n",
    "\n",
    "Where the matrix coefficients [A] is a sparse matrix, most of the elements are zero with three nonzero diagonals. with $\\sigma = \\frac{\\alpha \\Delta t}{\\Delta x^2}$:\n",
    "\n",
    "\\begin{align}\\left[ \\begin{array}{cccccc}\n",
    " \\left(2 + \\frac{1}{\\sigma}\\right) & -1 & 0 & \\cdots & & 0 \\\\\n",
    " -1 & \\left(2 + \\frac{1}{\\sigma}\\right) & -1 & 0 & \\cdots & 0 \\\\\n",
    " 0 & & \\ddots& & & \\vdots \\\\\n",
    " \\vdots & & & & \\left(2 + \\frac{1}{\\sigma}\\right)& \\\\\n",
    " 0 & \\cdots & & & -1 & \\left(1 + \\frac{1}{\\sigma}\\right) \\end{array} \\right]\n",
    " \\cdot \n",
    " \\left[ \\begin{array}{c} \n",
    " T_1^{n+1} \\\\ T_2^{n+1} \\\\ \\vdots \\\\ \\\\ T_{N-2}^{n+1} \\end{array} \\right]\n",
    " =\n",
    " \\left[ \\begin{array}{c} \n",
    "T_1^n \\frac{1}{\\sigma} \\\\ T_2^{n}\\frac{1}{\\sigma} \\\\ \\vdots \\\\ \\\\ T_{N-2}^{n}\\frac{1}{\\sigma} \\end{array} \\right]\n",
    " +\n",
    " \\begin{bmatrix}\n",
    "  T_0^{n+1}\\\\\n",
    "  0\\\\\\\\\n",
    "  \\vdots\\\\\\\\\n",
    "  0\\\\\n",
    "  q\\Delta x\n",
    " \\end{bmatrix}\n",
    " \\end{align} \n",
    " \n",
    " Notice the Dirichlet BC adds only a term to the RHS. The NBC adds both a term to the RHS and modifies the matrix A.\n",
    " \n",
    " "
   ]
  },
  {
   "cell_type": "code",
   "execution_count": 1,
   "metadata": {
    "collapsed": true
   },
   "outputs": [],
   "source": [
    "#Problem Set up:\n",
    "\n",
    "import numpy\n",
    "from matplotlib import pyplot\n",
    "%matplotlib inline\n",
    "from matplotlib import rcParams\n",
    "rcParams['font.family'] = 'serif'\n",
    "rcParams['font.size'] = 16"
   ]
  },
  {
   "cell_type": "code",
   "execution_count": 2,
   "metadata": {
    "collapsed": true
   },
   "outputs": [],
   "source": [
    "L = 1.\n",
    "nt = 100\n",
    "nx = 51\n",
    "alpha = 1.22e-3\n",
    "\n",
    "q = 0.\n",
    "\n",
    "dx = L/(nx-1)\n",
    "\n",
    "qdx = q*dx\n",
    "\n",
    "Ti = numpy.zeros(nx)\n",
    "\n",
    "Ti[0] = 100\n"
   ]
  },
  {
   "cell_type": "code",
   "execution_count": 3,
   "metadata": {
    "collapsed": true
   },
   "outputs": [],
   "source": [
    "#Solving a linear system\n",
    "\n",
    "from scipy.linalg import solve"
   ]
  },
  {
   "cell_type": "code",
   "execution_count": 4,
   "metadata": {
    "collapsed": true
   },
   "outputs": [],
   "source": [
    "def generateMatrix(N,sigma):\n",
    "    #setup diaganol\n",
    "    d = numpy.diag(numpy.ones(N-2)*(2+1./sigma))\n",
    "    \n",
    "    #consider NBC\n",
    "    d[-1,-1] = 1+1./sigma\n",
    "    \n",
    "    #setup upper diag\n",
    "    ud = numpy.diag(numpy.ones(N-3)*-1,1)\n",
    "    \n",
    "    #setup lower diag\n",
    "    ld = numpy.diag(numpy.ones(N-3)*-1,-1)\n",
    "    \n",
    "    A = d + ud + ld\n",
    "    \n",
    "    return A"
   ]
  },
  {
   "cell_type": "code",
   "execution_count": 5,
   "metadata": {
    "collapsed": true
   },
   "outputs": [],
   "source": [
    "def generateRHS(T,sigma,qdx):\n",
    "    \n",
    "    b = numpy.zeros_like(T)\n",
    "    \n",
    "    b = T[1:-1]*1./sigma\n",
    "    \n",
    "    #consider DBC\n",
    "    b[0] += T[0]\n",
    "    \n",
    "    #consider NBC\n",
    "    b[-2] += qdx\n",
    "    \n",
    "    return b\n"
   ]
  },
  {
   "cell_type": "code",
   "execution_count": 6,
   "metadata": {
    "collapsed": true
   },
   "outputs": [],
   "source": [
    "#Define function that steps in time\n",
    "\n",
    "def implicit_ftcs(T,A,nt,sigma,qdx):\n",
    "    \n",
    "    for t in range(nt):\n",
    "        Tn = T.copy()\n",
    "        b = generateRHS(Tn, sigma,qdx)\n",
    "        \n",
    "        #Use numpy.linalg.solve\n",
    "        T_interior = solve(A,b)\n",
    "        T[1:-1] = T_interior\n",
    "        \n",
    "        #Enfore NBC, DBC is enforced automatically\n",
    "        T[-1] = T[-2] + qdx\n",
    "    return T"
   ]
  },
  {
   "cell_type": "code",
   "execution_count": null,
   "metadata": {
    "collapsed": true
   },
   "outputs": [],
   "source": []
  }
 ],
 "metadata": {
  "kernelspec": {
   "display_name": "Python 3",
   "language": "python",
   "name": "python3"
  },
  "language_info": {
   "codemirror_mode": {
    "name": "ipython",
    "version": 3
   },
   "file_extension": ".py",
   "mimetype": "text/x-python",
   "name": "python",
   "nbconvert_exporter": "python",
   "pygments_lexer": "ipython3",
   "version": "3.4.3"
  }
 },
 "nbformat": 4,
 "nbformat_minor": 0
}
