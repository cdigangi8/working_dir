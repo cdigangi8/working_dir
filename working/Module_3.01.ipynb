{
 "cells": [
  {
   "cell_type": "markdown",
   "metadata": {},
   "source": [
    "Riding the Wave\n",
    "\n",
    "Convection Problems\n",
    "\n",
    "This module will explore the convection equation in more depth!\n",
    "\n"
   ]
  },
  {
   "cell_type": "markdown",
   "metadata": {},
   "source": [
    "Conservation Laws\n",
    "\n",
    "Conservation of Mass:\n",
    "\n",
    "Rate of change of mass in the CV + rate of cahnge of mass across CS = 0\n",
    "\n",
    "COM:\n",
    "\n",
    "$$\\frac{\\partial}{\\partial t} \\int_{cv} \\rho dV + \\int_{cs} \\rho u dA =0$$\n",
    "\n",
    "Since CV is small we can take $\\rho$ as uniform quantity inside it. \n",
    "\n",
    "$$\\frac{\\partial}{\\partial t} \\int_{cv} \\rho dV \\rightarrow \\frac{\\partial \\rho}{\\partial t}dAdx$$\n",
    "\n",
    "Total flux of mass across the CS\n",
    "\n",
    "$$\\int_{cs} pudA \\rightarrow \\frac{\\partial}{\\partial x}(pu)dAdx$$\n",
    "\n",
    "$$\\frac{\\partial \\rho}{\\partial t} + \\frac{\\partial}{\\partial x}(pu) = 0$$"
   ]
  },
  {
   "cell_type": "code",
   "execution_count": 1,
   "metadata": {
    "collapsed": false
   },
   "outputs": [
    {
     "data": {
      "text/html": [
       "\n",
       "        <iframe\n",
       "            width=\"400\"\n",
       "            height=\"300\"\n",
       "            src=\"https://www.youtube.com/embed/35unQgSaT88\"\n",
       "            frameborder=\"0\"\n",
       "            allowfullscreen\n",
       "        ></iframe>\n",
       "        "
      ],
      "text/plain": [
       "<IPython.lib.display.YouTubeVideo at 0x104a800b8>"
      ]
     },
     "execution_count": 1,
     "metadata": {},
     "output_type": "execute_result"
    }
   ],
   "source": [
    "from IPython.display import YouTubeVideo\n",
    "YouTubeVideo('35unQgSaT88')\n"
   ]
  },
  {
   "cell_type": "markdown",
   "metadata": {},
   "source": [
    "General Conservation Laws\n",
    "\n",
    "A general conservation law for quantity e is:\n",
    "\n",
    "$$\\frac{\\partial}{\\partial t} \\int_{cv} edV + \\oint_{cs} \\vec{F} \\cdot d\\vec{A} = 0$$\n",
    "\n",
    "Apply theorem of Gauss to the second integral\n",
    "\n",
    "Recall nonlinear convection was:\n",
    "\n",
    "$$\\frac{\\partial u}{\\partial t} + u \\frac{\\partial u}{\\partial x}= 0$$\n",
    "\n",
    "We can rewrite this as:\n",
    "\n",
    "$$\\frac{\\partial u}{\\partial t} + \\frac{\\partial }{\\partial x} \\left( \\frac{u^2}{2} \\right ) = 0$$\n",
    "\n",
    "which is the conservative form of the nonlinear convection equation:\n",
    "\n",
    "$$F = \\frac{u^2}{2}$$\n",
    "\n",
    "\n",
    "\n"
   ]
  },
  {
   "cell_type": "code",
   "execution_count": null,
   "metadata": {
    "collapsed": true
   },
   "outputs": [],
   "source": []
  }
 ],
 "metadata": {
  "kernelspec": {
   "display_name": "Python 3",
   "language": "python",
   "name": "python3"
  },
  "language_info": {
   "codemirror_mode": {
    "name": "ipython",
    "version": 3
   },
   "file_extension": ".py",
   "mimetype": "text/x-python",
   "name": "python",
   "nbconvert_exporter": "python",
   "pygments_lexer": "ipython3",
   "version": "3.4.3"
  }
 },
 "nbformat": 4,
 "nbformat_minor": 0
}
