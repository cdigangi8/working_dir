{
 "cells": [
  {
   "cell_type": "markdown",
   "metadata": {},
   "source": [
    "Riding the Wave\n",
    "\n",
    "Convection Problems\n",
    "\n",
    "This module will explore the convection equation in more depth!\n",
    "\n"
   ]
  },
  {
   "cell_type": "markdown",
   "metadata": {},
   "source": [
    "Conservation Laws\n",
    "\n",
    "Conservation of Mass:\n",
    "\n",
    "Rate of change of mass in the CV + rate of cahnge of mass across CS = 0\n",
    "\n",
    "COM:\n",
    "\n",
    "$$\\frac{\\partial}{\\partial t} \\int_{cv} \\rho dV + \\int_{cs} \\rho u dA =0$$\n",
    "\n",
    "Since CV is small we can take $\\rho$ as uniform quantity inside it. \n",
    "\n",
    "$$\\frac{\\partial}{\\partial t} \\int_{cv} \\rho dV \\rightarrow \\frac{\\partial \\rho}{\\partial t}dAdx$$\n",
    "\n",
    "Total flux of mass across the CS\n",
    "\n",
    "$$\\int_{cs} pudA \\rightarrow \\frac{\\partial}{\\partial x}(pu)dAdx$$\n",
    "\n",
    "$$\\frac{\\partial \\rho}{\\partial t} + \\frac{\\partial}{\\partial x}(pu) = 0$$"
   ]
  },
  {
   "cell_type": "code",
   "execution_count": 1,
   "metadata": {
    "collapsed": false
   },
   "outputs": [
    {
     "data": {
      "text/html": [
       "\n",
       "        <iframe\n",
       "            width=\"400\"\n",
       "            height=\"300\"\n",
       "            src=\"https://www.youtube.com/embed/35unQgSaT88\"\n",
       "            frameborder=\"0\"\n",
       "            allowfullscreen\n",
       "        ></iframe>\n",
       "        "
      ],
      "text/plain": [
       "<IPython.lib.display.YouTubeVideo at 0x104a800b8>"
      ]
     },
     "execution_count": 1,
     "metadata": {},
     "output_type": "execute_result"
    }
   ],
   "source": [
    "from IPython.display import YouTubeVideo\n",
    "YouTubeVideo('35unQgSaT88')\n"
   ]
  },
  {
   "cell_type": "markdown",
   "metadata": {},
   "source": [
    "General Conservation Laws\n",
    "\n",
    "A general conservation law for quantity e is:\n",
    "\n",
    "$$\\frac{\\partial}{\\partial t} \\int_{cv} edV + \\oint_{cs} \\vec{F} \\cdot d\\vec{A} = 0$$\n",
    "\n",
    "Apply theorem of Gauss to the second integral\n",
    "\n",
    "Recall nonlinear convection was:\n",
    "\n",
    "$$\\frac{\\partial u}{\\partial t} + u \\frac{\\partial u}{\\partial x}= 0$$\n",
    "\n",
    "We can rewrite this as:\n",
    "\n",
    "$$\\frac{\\partial u}{\\partial t} + \\frac{\\partial }{\\partial x} \\left( \\frac{u^2}{2} \\right ) = 0$$\n",
    "\n",
    "which is the conservative form of the nonlinear convection equation:\n",
    "\n",
    "$$F = \\frac{u^2}{2}$$\n",
    "\n",
    "\n",
    "\n"
   ]
  },
  {
   "cell_type": "markdown",
   "metadata": {},
   "source": [
    "Traffic Flow Model\n",
    "\n",
    "Consider the linear function:\n",
    "\n",
    "$$u(\\rho) = u_{max} \\left(1-\\frac{\\rho}{\\rho_{max}}\\right)$$\n",
    "\n",
    "Experimental Observations:\n",
    "\n",
    "1) All drivers will approach a max velocity $u_max$ when the road is empty\n",
    "2) If the road is completely jampacked ($\\rho \\rightarrow \\rho_{max}$$), velocity goes to zero\n",
    "\n",
    "apply conservation law to traffic density $\\rho$\n",
    "\n",
    "$$\\frac{\\partial \\rho}{\\partial t} + \\frac{\\partial F}{\\partial x} = 0$$\n",
    "\n",
    "Where F is traffic flux\n",
    "\n",
    "$$F = \\rho u_{max} \\left(1-\\frac{\\rho}{\\rho_{max}}\\right)$$\n",
    "\n",
    "Green Light!\n",
    "\n",
    "Lets say we are examining a road of length 4 where speed limit is $u_{max} = 1$, fitting 10 cars per unit length ($\\rho_{max} =10$). We have intersection with a red light at x=2. At light traffic is bumper to bumper and density decreases linearly to zero as we approach beginning of our road, ahead of light road is clear. Mathematically represent this:\n",
    "\n",
    "\\begin{equation}\\rho(x,0) = \\left\\{ \\begin{array}{cc}\n",
    "\\rho_{\\rm max}\\frac{x}{2} & 0 \\leq x < 2  \\\\\n",
    "0 & 2 \\leq x \\leq 4 \\\\ \\end{array} \\right.\\end{equation}\n",
    "\n"
   ]
  },
  {
   "cell_type": "code",
   "execution_count": 2,
   "metadata": {
    "collapsed": true
   },
   "outputs": [],
   "source": [
    "%matplotlib inline\n",
    "import numpy\n",
    "from matplotlib import pyplot\n",
    "from matplotlib import rcParams\n",
    "rcParams['font.family']='serif'\n",
    "rcParams['font.size']=16\n"
   ]
  },
  {
   "cell_type": "code",
   "execution_count": null,
   "metadata": {
    "collapsed": true
   },
   "outputs": [],
   "source": [
    "def rho_green_light(nx, rho_light):\n",
    "    \n",
    "    \"\"\"Computes green light inital condition with shock, and linear distribution behind\"\"\"\n",
    "    \n",
    "    \n",
    "    rho = numpy.arrange(nx)*2./nx*rho_light #before stoplight\n",
    "    rho\n",
    "    "
   ]
  }
 ],
 "metadata": {
  "kernelspec": {
   "display_name": "Python 3",
   "language": "python",
   "name": "python3"
  },
  "language_info": {
   "codemirror_mode": {
    "name": "ipython",
    "version": 3
   },
   "file_extension": ".py",
   "mimetype": "text/x-python",
   "name": "python",
   "nbconvert_exporter": "python",
   "pygments_lexer": "ipython3",
   "version": "3.4.3"
  }
 },
 "nbformat": 4,
 "nbformat_minor": 0
}
