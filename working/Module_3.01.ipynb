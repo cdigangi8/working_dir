{
 "cells": [
  {
   "cell_type": "markdown",
   "metadata": {},
   "source": [
    "Riding the Wave\n",
    "\n",
    "Convection Problems\n",
    "\n",
    "This module will explore the convection equation in more depth!\n",
    "\n"
   ]
  },
  {
   "cell_type": "markdown",
   "metadata": {},
   "source": [
    "Conservation Laws\n",
    "\n",
    "Conservation of Mass:\n",
    "\n",
    "Rate of change of mass in the CV + rate of cahnge of mass across CS = 0\n",
    "\n",
    "COM:\n",
    "\n",
    "$$\\frac{\\partial}{\\partial t} \\int_{cv} \\rho dV + \\int_{cs} \\rho u dA =0$$\n",
    "\n",
    "Since CV is small we can take $\\rho$ as uniform quantity inside it. \n",
    "\n",
    "$$\\frac{\\partial}{\\partial t} \\int_{cv} \\rho dV \\rightarrow \\frac{\\partial \\rho}{\\partial t}dAdx$$\n",
    "\n",
    "Total flux of mass across the CS\n",
    "\n",
    "$$\\int_{cs} pudA \\rightarrow \\frac{\\partial}{\\partial x}(pu)dAdx$$\n",
    "\n",
    "$$\\frac{\\partial \\rho}{\\partial t} + \\frac{\\partial}{\\partial x}(pu) = 0$$"
   ]
  },
  {
   "cell_type": "code",
   "execution_count": null,
   "metadata": {
    "collapsed": true
   },
   "outputs": [],
   "source": [
    "\n"
   ]
  }
 ],
 "metadata": {
  "kernelspec": {
   "display_name": "Python 3",
   "language": "python",
   "name": "python3"
  },
  "language_info": {
   "codemirror_mode": {
    "name": "ipython",
    "version": 3
   },
   "file_extension": ".py",
   "mimetype": "text/x-python",
   "name": "python",
   "nbconvert_exporter": "python",
   "pygments_lexer": "ipython3",
   "version": "3.4.3"
  }
 },
 "nbformat": 4,
 "nbformat_minor": 0
}
