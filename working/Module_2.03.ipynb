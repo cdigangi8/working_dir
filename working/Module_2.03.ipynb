{
 "cells": [
  {
   "cell_type": "markdown",
   "metadata": {},
   "source": [
    "Space & Time\n",
    "\n",
    "1-D Diffusion\n",
    "\n",
    "\n",
    "$$\\frac{\\partial u}{\\partial t} = v \\frac{\\partial^2 u}{\\partial x^2}$$\n",
    "\n",
    "v is the constant known as the diffusion coefficient\n",
    "\n",
    "This equation has a second order derivative"
   ]
  },
  {
   "cell_type": "markdown",
   "metadata": {},
   "source": [
    "Discrtetizing 2nd-Order Derivatives\n",
    "\n",
    "Second order derivative can be represented geometrically as the line tangent to the curve given by the first derivative. discretize the second order with a Central Difference scheme: combination of forward difference and backward difference. Consider the Taylor Expansion:\n",
    "\n",
    "$$u_{i+1} = u_i + \\Delta x \\frac{\\partial u}{\\partial x}\\big|_i + \\frac{\\Delta x^2}{2!} \\frac{\\partial^2 u}{\\partial x^2} \\big|_i + \\frac{\\Delta x^3}{3!} \\frac{\\partial^3 u}{\\partial x^3}\\big|_i + {\\mathcal O}(\\Delta x^4)$$"
   ]
  },
  {
   "cell_type": "code",
   "execution_count": null,
   "metadata": {
    "collapsed": true
   },
   "outputs": [],
   "source": []
  }
 ],
 "metadata": {
  "kernelspec": {
   "display_name": "Python 3",
   "language": "python",
   "name": "python3"
  },
  "language_info": {
   "codemirror_mode": {
    "name": "ipython",
    "version": 3
   },
   "file_extension": ".py",
   "mimetype": "text/x-python",
   "name": "python",
   "nbconvert_exporter": "python",
   "pygments_lexer": "ipython3",
   "version": "3.4.3"
  }
 },
 "nbformat": 4,
 "nbformat_minor": 0
}
