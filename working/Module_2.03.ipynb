{
 "cells": [
  {
   "cell_type": "markdown",
   "metadata": {},
   "source": [
    "Space & Time\n",
    "\n",
    "1-D Diffusion\n",
    "\n",
    "\n",
    "$$\\frac{\\partial u}{\\partial t} = v \\frac{\\partial^2 u}{\\partial x^2}$$\n",
    "\n",
    "v is the constant known as the diffusion coefficient\n",
    "\n",
    "This equation has a second order derivative"
   ]
  },
  {
   "cell_type": "markdown",
   "metadata": {},
   "source": [
    "Discrtetizing 2nd-Order Derivatives\n",
    "\n",
    "Second order derivative can be represented geometrically as the line tangent to the curve given by the first derivative. discretize the second order with a Central Difference scheme: combination of forward difference and backward difference. Consider the Taylor Expansion:\n",
    "\n",
    "$$u_{i+1} = u_i + \\Delta x \\frac{\\partial u}{\\partial x}\\big|_i + \\frac{\\Delta x^2}{2!} \\frac{\\partial^2 u}{\\partial x^2} \\big|_i + \\frac{\\Delta x^3}{3!} \\frac{\\partial^3 u}{\\partial x^3}\\big|_i + {\\mathcal O}(\\Delta x^4)$$\n",
    "\n",
    "$$u_{i-1} = u_i - \\Delta x \\frac{\\partial u}{\\partial x}\\big|_i + \\frac{\\Delta x^2}{2!} \\frac{\\partial^2 u}{\\partial x^2} \\big|_i - \\frac{\\Delta x^3}{3!} \\frac{\\partial^3 u}{\\partial x^3}\\big|_i + {\\mathcal O}(\\Delta x^4)$$\n",
    "\n",
    "Adding the two expansions above, the odd-numbered derivatives will cancel out. We can rearrange:\n",
    "\n",
    "$$u_{i+1} + u_{i-1} = 2u_i + \\frac{\\Delta x^2}{2!} \\frac{\\partial^2 u}{\\partial x^2} \\big|_i + {\\mathcal O}(\\Delta x^4)$$\n",
    "\n",
    "And Finally:\n",
    "\n",
    "$$\\frac{\\partial^2 u}{\\partial x^2} = \\frac{u_{i+1} - 2u_i + u_{i-1}}{\\Delta x^2} + {\\mathcal O}(\\Delta x^2)$$"
   ]
  },
  {
   "cell_type": "markdown",
   "metadata": {
    "collapsed": true
   },
   "source": [
    "Back to Diffusion\n",
    "\n",
    "Now we will write the discretized version of the 1D equation.\n",
    "\n",
    "$$\\frac{u_i^{n+1} - u_i^n}{\\Delta t} = v\\frac{u_{i+1}^n - 2u_i^n + u_{i-1}^n}{\\Delta x^2}$$\n",
    "\n",
    "Once we have an initial condition the only unkown is $u_i^{n+1}$\n",
    "\n",
    "So we can isolate this term with the re-arranged equation:\n",
    "\n",
    "$$ u_i^{n+1} = u_i^n + \\frac{v |Delta t}{\\Delta x^2}(u_{i+1}^n - 2u_i^n + u_{i-1}^n)$$\n",
    "\n"
   ]
  },
  {
   "cell_type": "markdown",
   "metadata": {
    "collapsed": true
   },
   "source": [
    "Stability of the diffusion equation\n",
    "\n",
    "$$v\\frac{\\Delta t}{\\Delta x^2} \\le \\frac{1}{2}$$\n",
    "\n"
   ]
  },
  {
   "cell_type": "code",
   "execution_count": 1,
   "metadata": {
    "collapsed": true
   },
   "outputs": [],
   "source": [
    "import numpy\n",
    "from matplotlib import pyplot\n",
    "%matplotlib inline\n",
    "from matplotlib import rcParams\n",
    "rcParams['font.family'] = 'serif'\n",
    "rcParams['font.size'] = 16"
   ]
  },
  {
   "cell_type": "code",
   "execution_count": null,
   "metadata": {
    "collapsed": true
   },
   "outputs": [],
   "source": [
    "nx = 41\n",
    "dx = 2./(nx-1)\n",
    "nt = 20\n",
    "nu = 0.3 #value of viscosity\n",
    "sigma = .2\n",
    "dt = sigma*dx**2/nu\n",
    "\n",
    "x = numpy.linspace(0,2,nx)\n",
    "ubound(numpy.where(x >= 0.5))"
   ]
  }
 ],
 "metadata": {
  "kernelspec": {
   "display_name": "Python 3",
   "language": "python",
   "name": "python3"
  },
  "language_info": {
   "codemirror_mode": {
    "name": "ipython",
    "version": 3
   },
   "file_extension": ".py",
   "mimetype": "text/x-python",
   "name": "python",
   "nbconvert_exporter": "python",
   "pygments_lexer": "ipython3",
   "version": "3.4.3"
  }
 },
 "nbformat": 4,
 "nbformat_minor": 0
}
