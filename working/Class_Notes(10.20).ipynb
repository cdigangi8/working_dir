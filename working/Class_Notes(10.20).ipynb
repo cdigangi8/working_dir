{
 "cells": [
  {
   "cell_type": "markdown",
   "metadata": {},
   "source": [
    "Class Notes\n",
    "\n",
    "Consider Domain (0,L) and reflect it onto (-L, 0)\n",
    "\n",
    "Create mesh separated by $\\Delta x$\n",
    "\n",
    "\n",
    "\n",
    "$$k_j = jk_{min} = j \\frac{\\pi}{L} = j \\frac{\\pi}{N \\Delta x}$$\n",
    "\n",
    "Investigate Propogation and amplification errors\n",
    "\n",
    "Fourier-Decompose the solution\n",
    "\n",
    "$$u_i^n = \\sum\\limits_{j=-N}^N V_j^n e^{Ik_jx_i}$$\n",
    "\n",
    "$$u_i^n = \\sum\\limits_{j=-N}^N V_j^n e^{Ik_j i \\Delta x}$$\n",
    "\n",
    "$$ = \\sum\\limits_{j=-N}^N V_j^n e^{Ii\\phi}$$\n",
    "\n",
    "Von Neumann Stability analysis\n",
    "\n",
    "This decomposition separates time and space dependence\n",
    "\n",
    "Stability Condition:\n",
    "\n",
    "Amplitude of any harmonic may not grow indefinitely in time\n",
    "\n",
    "Amplification Factor: \n",
    "$$G \\equiv \\frac{V^{n+1}}{V^{n-1}}$$\n",
    "\n",
    "Example\n",
    "\n",
    "$$\\frac{u_i^{n+1}-u_i^n}{\\Delta t} + \\frac{c}{ 2 \\Delta x}(u_{i+1}^n - u_{i-1}^n) = 0$$\n",
    "\n",
    "$$u_i^{n+1} = u_i^n - \\frac{\\sigma}{2}(u_{i+1}^n - u_i-1)^n$$\n",
    "\n",
    "$$\\sigma = \\frac{c \\Delta t}{\\Delta x}$$\n",
    "\n",
    "Replace:\n",
    "\n",
    "\n",
    "$$u_{i+m}^{n+k} > V^{n+k}e^{I(i+m) \\phi }$$\n",
    "\n",
    "$$\\frac{V^{n+1}}{V^{n}} = 1 - \\frac{\\frac{\\sigma}{2}(e^{I(i+1) \\phi } - e^{I(i-1) \\phi })}{e^{I(i) \\phi }}$$\n",
    "\n"
   ]
  },
  {
   "cell_type": "markdown",
   "metadata": {},
   "source": [
    "\n",
    "$$\\frac{V^{n+1}}{V^{n}} = 1 - \\frac{\\sigma}{2}(e^{I \\phi } - e^{-I \\phi })$$\n",
    "\n",
    "$$\\frac{V^{n+1}}{V^{n}} = 1 - \\frac{\\sigma}{2}2I \\sin{\\phi}$$\n",
    "\n",
    "$$\\frac{V^{n+1}}{V^{n}} = 1 - \\sigma I \\sin{\\phi}$$\n",
    "\n",
    "$$\\frac{V^{n+1}}{V^{n}} = 1 - \\sigma I \\sin{\\phi} \\times (1 + \\sigma I \\sin{\\phi})$$"
   ]
  },
  {
   "cell_type": "markdown",
   "metadata": {},
   "source": [
    "$$G = \\frac{V^{n+1}}{V^{n}}$$\n",
    "\n",
    "$$\\frac{V^{n+1}}{V^{n}} = 1 + \\sigma^2 \\sin{\\phi}^2$$\n",
    "\n",
    "$$|G|^2 = 1 + \\sigma^2 \\sin{\\phi}^2$$\n",
    "\n",
    "$$|G| = \\sqrt{1 + \\sigma^2 \\sin{\\phi}^2}$$"
   ]
  },
  {
   "cell_type": "code",
   "execution_count": null,
   "metadata": {
    "collapsed": true
   },
   "outputs": [],
   "source": []
  }
 ],
 "metadata": {
  "kernelspec": {
   "display_name": "Python 3",
   "language": "python",
   "name": "python3"
  },
  "language_info": {
   "codemirror_mode": {
    "name": "ipython",
    "version": 3
   },
   "file_extension": ".py",
   "mimetype": "text/x-python",
   "name": "python",
   "nbconvert_exporter": "python",
   "pygments_lexer": "ipython3",
   "version": "3.4.3"
  }
 },
 "nbformat": 4,
 "nbformat_minor": 0
}
