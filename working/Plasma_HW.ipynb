{
 "cells": [
  {
   "cell_type": "code",
   "execution_count": null,
   "metadata": {
    "collapsed": false
   },
   "outputs": [],
   "source": [
    "import numpy\n",
    "\n",
    "dt = 10**-11\n",
    "nt = 100\n",
    "\n",
    "u = numpy.array([10**5,\n",
    "                2*10**5,\n",
    "                1.5*10**5])\n",
    "\n",
    "E = numpy.array([1000, 0, 0])\n",
    "\n",
    "B = numpy.array([0,0,0.1])\n",
    "\n",
    "x = numpy.array([u,E,B])\n",
    "\n",
    "m = 9.109*10**-31\n",
    "\n",
    "e = 1.602*10**-19\n",
    "\n",
    "def plasmastep(u,E,B, nt, dt,e,m):\n",
    "    \n",
    "    velocity = numpy.zeros((nt, 3))\n",
    "    trajectory = numpy.zeros((nt, 3))\n",
    "    \n",
    "    velocity[0] = u\n",
    "    \n",
    "    for n in range(1, nt):\n",
    "        velocity[n] = velocity[n-1] + (E - numpy.cross(velocity[n-1],B))*((dt*e)/m)\n",
    "        trajectory[n] = velocity[n]*dt + trajectory[n-1]\n",
    "        \n",
    "    return trajectory\n",
    "\n",
    "solution = plasmastep(u,E,B, nt, dt,e,m)\n",
    "\n",
    "print(solution)\n",
    "\n"
   ]
  },
  {
   "cell_type": "code",
   "execution_count": null,
   "metadata": {
    "collapsed": true
   },
   "outputs": [],
   "source": [
    "import matplotlib\n",
    "from mpl_toolkits.mplot3d import Axes3D\n",
    "import matplotlib.pyplot as plt"
   ]
  },
  {
   "cell_type": "code",
   "execution_count": null,
   "metadata": {
    "collapsed": false
   },
   "outputs": [],
   "source": [
    "Axes3D.plot(xs = solution[:,0], ys = solution[:,1], zs = solution[:,2])"
   ]
  },
  {
   "cell_type": "code",
   "execution_count": null,
   "metadata": {
    "collapsed": true
   },
   "outputs": [],
   "source": []
  },
  {
   "cell_type": "code",
   "execution_count": null,
   "metadata": {
    "collapsed": true
   },
   "outputs": [],
   "source": []
  }
 ],
 "metadata": {
  "kernelspec": {
   "display_name": "Python 3",
   "language": "python",
   "name": "python3"
  },
  "language_info": {
   "codemirror_mode": {
    "name": "ipython",
    "version": 3
   },
   "file_extension": ".py",
   "mimetype": "text/x-python",
   "name": "python",
   "nbconvert_exporter": "python",
   "pygments_lexer": "ipython3",
   "version": "3.4.3"
  }
 },
 "nbformat": 4,
 "nbformat_minor": 0
}
