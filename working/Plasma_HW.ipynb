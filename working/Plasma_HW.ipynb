{
 "cells": [
  {
   "cell_type": "code",
   "execution_count": 12,
   "metadata": {
    "collapsed": false
   },
   "outputs": [
    {
     "name": "stdout",
     "output_type": "stream",
     "text": [
      "[ 0.  0.  0.]\n"
     ]
    }
   ],
   "source": [
    "import numpy\n",
    "\n",
    "dt = 10**-11\n",
    "nt = dt*100\n",
    "\n",
    "u = numpy.array([10**5,\n",
    "                2*10**5,\n",
    "                1.5*10**5])\n",
    "E = numpy.array([1000, 0, 0])\n",
    "\n",
    "B = numpy.array([0,0,0.1])\n",
    "\n",
    "x = numpy.array([u,E,B])\n",
    "\n",
    "m = 9.109*10**-31\n",
    "\n",
    "\n",
    "def plasmastep(u,E,B):\n",
    "    \n",
    "\n"
   ]
  },
  {
   "cell_type": "code",
   "execution_count": null,
   "metadata": {
    "collapsed": true
   },
   "outputs": [],
   "source": []
  },
  {
   "cell_type": "code",
   "execution_count": null,
   "metadata": {
    "collapsed": true
   },
   "outputs": [],
   "source": []
  }
 ],
 "metadata": {
  "kernelspec": {
   "display_name": "Python 3",
   "language": "python",
   "name": "python3"
  },
  "language_info": {
   "codemirror_mode": {
    "name": "ipython",
    "version": 3
   },
   "file_extension": ".py",
   "mimetype": "text/x-python",
   "name": "python",
   "nbconvert_exporter": "python",
   "pygments_lexer": "ipython3",
   "version": "3.4.3"
  }
 },
 "nbformat": 4,
 "nbformat_minor": 0
}
