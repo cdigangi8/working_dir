{
 "cells": [
  {
   "cell_type": "markdown",
   "metadata": {},
   "source": [
    "Sod's Assignment\n",
    "\n",
    "Shock tube problem\n",
    "\n",
    "A shock tube is an idealized device that generates a one-dimension shock wave in a compressible gas.\n",
    "\n",
    "**See notebook for detailed illustrations of the problem and description.\n",
    "\n",
    "The Euler Equations\n",
    "\n",
    "For velocity u in the x direction:\n",
    "\n",
    "$$\n",
    "\\frac{\\partial \\rho}{\\partial x} + \\frac{\\partial}{\\partial x}(\\rho u) = 0$$\n",
    "\n",
    "$$ \\frac{\\partial}{\\partial t}(\\rho u) + \\frac{\\partial}{\\partial x} (\\rho u^2 + p) = 0$$\n",
    "\n",
    "Plus energy equation in this form:\n",
    "\n",
    "$$\\frac{\\partial}{\\partial t} (\\rho e_T) + \\frac{\\partial}{\\partial x} (\\rho u e_T + pu)=0$$\n",
    "\n",
    "Written in vector form:\n",
    "\n",
    "$$\\frac{\\partial}{\\partial t} \\vec{u} + \\frac{\\partial}{\\partial x} \\vec{f} = 0$$\n",
    "\n"
   ]
  },
  {
   "cell_type": "markdown",
   "metadata": {},
   "source": [
    "The conservative form\n",
    "\n",
    "The conserved variables $\\vec{u}$ for Euler's equation are\n",
    "\n",
    "$$\\vec{u} = \\left[ \\begin{array}{c}\n",
    "\\rho \\\\\n",
    "\\rho u \\\\\n",
    "\\rho e_T \\\\\n",
    "\\end{array} \\right]$$\n",
    "\n",
    "Where $\\rho$ is the density of the fluid, $u$ is the velocity, and $e_T = e + \\frac{u^2}{2}$ is specific total energy; $\\vec{f}$ is the flux vector.\n",
    "\n",
    "$$\\vec{f} = \\left[ \\begin{array}{c}\n",
    "\\rho u \\\\\n",
    "\\rho u^2 + p \\\\\n",
    "(\\rho e_T + p)u \\\\\n",
    "\\end{array} \\right]$$\n",
    "\n",
    "where $p$ is the pressure of the fluid\n",
    "\n",
    "$$\\frac{\\partial}{\\partial t} \\left[ \\begin{array}{c}\n",
    "\\rho \\\\\n",
    "\\rho u \\\\\n",
    "\\rho e_T \\\\\n",
    "\\end{array} \\right] + \\frac{\\partial}{\\partial x} \\left[ \\begin{array}{c}\n",
    "\\rho u \\\\\n",
    "\\rho u^2 + p \\\\\n",
    "(\\rho e_T + p)u \\\\\n",
    "\\end{array} \\right] = 0$$\n",
    "\n"
   ]
  },
  {
   "cell_type": "markdown",
   "metadata": {},
   "source": [
    "Calculating the pressure\n",
    "\n",
    "for ideal gas the equation of state is:\n",
    "\n",
    "$$e = e(\\rho, p) = \\frac{p}{(\\gamma - 1) \\rho}$$\n",
    "\n",
    "where $\\gamma = 1.4$\n",
    "\n",
    "$$\\therefore p = (\\gamma - 1) \\rho e$$\n",
    "\n",
    "Recall from above that:\n",
    "\n",
    "$$e_T = e + \\frac{1}{2}u^2$$\n",
    "\n",
    "$$\\therefore e = e_T - \\frac{1}{2}u^2$$\n",
    "\n",
    "Putting it all together:\n",
    "\n",
    "$$p = (\\gamma -1)\\left( pe_T - \\frac{\\rho u^2}{2} \\right)$$\n",
    "\n"
   ]
  },
  {
   "cell_type": "markdown",
   "metadata": {},
   "source": [
    "Flux in terms of u\n",
    "\n",
    "$$\\vec{f} = f(\\vec{u}$$\n",
    "\n",
    "We need to represent f in terms of u, we will introduce this shorthand:\n",
    "\n",
    "$$\\vec{u} = \\left[ \\begin{array}{c}\n",
    "u_1 \\\\\n",
    "u_2 \\\\\n",
    "u_3 \\\\\n",
    "\\end{array} \\right] =  \\left[ \\begin{array}{c}\n",
    "\\rho \\\\\n",
    "\\rho u \\\\\n",
    "\\rho e_T \\\\\n",
    "\\end{array} \\right]$$\n",
    "\n",
    "$$\\vec{f} = \\left[ \\begin{array}{c}\n",
    "f_1 \\\\\n",
    "f_2 \\\\\n",
    "f_3 \\\\\n",
    "\\end{array} \\right] = \\left[ \\begin{array}{c}\n",
    "\\rho u \\\\\n",
    "\\rho u^2 + p \\\\\n",
    "(\\rho e_T + p)u \\\\\n",
    "\\end{array} \\right]$$\n",
    "\n",
    "\n",
    "With smoe algebraic trickery we can represent pressure vector using quantities from u:\n",
    "\n",
    "$$p = (\\gamma -1) \\left(u_3 - \\frac{1}{2}\\frac{u_2^2}{u_1} \\right)$$\n",
    "\n",
    "\n",
    "Now that f can be represented in terms of u, the rest of f isn't too hard to resolve!\n",
    "\n",
    "$$\\vec{f} = \\left[ \\begin{array}{c}\n",
    "f_1 \\\\\n",
    "f_2 \\\\\n",
    "f_3 \\\\\n",
    "\\end{array} \\right] = \\left[ \\begin{array}{c}\n",
    "u_2 \\\\\n",
    "\\frac{u_2^2}{u_1} + (\\gamma -1) \\left(u_3 - \\frac{1}{2}\\frac{u_2^2}{u_1} \\right) \\\\\n",
    "(u_3 + (\\gamma -1) \\left(u_3 - \\frac{1}{2}\\frac{u_2^2}{u_1} \\right)) \\frac{u_2}{u_1} \\\\\n",
    "\\end{array} \\right] $$\n",
    "\n",
    "\\begin{equation}\n",
    "  F_{i+1/2}= \\frac{1}{2} \\left( F \\left( e_{i} \\right) + F \\left( e_{i+1} \\right) -  \\frac{\\Delta x}{\\Delta t} \\left( e_{i+1} - e_{i} \\right) \\right)\n",
    "\\end{equation}\n",
    "\n"
   ]
  },
  {
   "cell_type": "markdown",
   "metadata": {},
   "source": [
    "Test Conditions\n",
    "\n",
    "In a tube spanning $x = -10m$ to $x = 10m$ with the rigid membrane at $x = 0m$ we have following initial gas states:\n",
    "\n",
    "$$IC_L = \\left[ \\begin{array}{c}\n",
    "\\rho_L \\\\\n",
    "u_L \\\\\n",
    "p_L \\\\\n",
    "\\end{array} \\right] = \\left[ \\begin{array}{c}\n",
    "1kg/m^3 \\\\\n",
    "0m/s \\\\\n",
    "100 kN/m^2 \\\\\n",
    "\\end{array} \\right] $$\n",
    "\n",
    "$$IC_R = \\left[ \\begin{array}{c}\n",
    "\\rho_R \\\\\n",
    "u_R \\\\\n",
    "p_R \\\\\n",
    "\\end{array} \\right] = \\left[ \\begin{array}{c}\n",
    ".0125kg/m^3 \\\\\n",
    "0m/s \\\\\n",
    "10 kN/m^2 \\\\\n",
    "\\end{array} \\right] $$\n",
    "\n",
    "Where $IC_L$ are the inital density, velocity, and pressure onthe left side of the tube membrane and $IC_R$ are the density, velocity, pressure on the right side."
   ]
  },
  {
   "cell_type": "markdown",
   "metadata": {},
   "source": [
    "The Richtmyer method\n",
    "\n",
    "\n",
    "$$\\vec{u}_{i+\\frac{1}{2}}^{n+\\frac{1}{2}} = \\frac{1}{2}(\\vec{u}_{i+1}^n + \\vec{u}_i^n) - \\frac{\\Delta t}{2 \\Delta x}(\\vec{f}_{i+1}^n - \\vec{f}_i^n)$$\n",
    "\n",
    "$$\\vec{u}_{i}^{n+1} = \\vec{u}_i^n - \\frac{\\Delta t}{\\Delta x} \\left( \\vec{f}_{i+\\frac{1}{2}}^{n+\\frac{1}{2}} - \\vec{f}_{i-\\frac{1}{2}}^{n+\\frac{1}{2}} \\right)$$\n",
    "\n",
    "The flux vectors used in the second step are obtained by evaluating the flux functions on the output of the first step:\n",
    "\n",
    "$$\\vec{f}_{i+\\frac{1}{2}}^{n+\\frac{1}{2}} = \\vec{f} \\left( \\vec{u}_{i+\\frac{1}{2}}^{n+\\frac{1}{2}} \\right)$$\n"
   ]
  },
  {
   "cell_type": "markdown",
   "metadata": {},
   "source": [
    "Calculate the pressure, density, and velocity across the shock tube at time $t=0.01s$ using the Richtmyer method."
   ]
  },
  {
   "cell_type": "code",
   "execution_count": 1,
   "metadata": {
    "collapsed": false
   },
   "outputs": [],
   "source": [
    "%matplotlib inline\n",
    "import numpy\n",
    "from numpy import *\n"
   ]
  },
  {
   "cell_type": "code",
   "execution_count": 73,
   "metadata": {
    "collapsed": false
   },
   "outputs": [
    {
     "name": "stdout",
     "output_type": "stream",
     "text": [
      "[[  3.74691403e-01   1.09639003e+02   9.16680404e+04]]\n",
      "[[ 30250.89016757]]\n",
      "292.6114715268265\n"
     ]
    },
    {
     "name": "stderr",
     "output_type": "stream",
     "text": [
      "//anaconda/lib/python3.4/site-packages/ipykernel/__main__.py:4: DeprecationWarning: using a non-integer number instead of an integer will result in an error in the future\n",
      "//anaconda/lib/python3.4/site-packages/ipykernel/__main__.py:5: DeprecationWarning: using a non-integer number instead of an integer will result in an error in the future\n",
      "//anaconda/lib/python3.4/site-packages/ipykernel/__main__.py:7: DeprecationWarning: using a non-integer number instead of an integer will result in an error in the future\n",
      "//anaconda/lib/python3.4/site-packages/ipykernel/__main__.py:8: DeprecationWarning: using a non-integer number instead of an integer will result in an error in the future\n",
      "//anaconda/lib/python3.4/site-packages/ipykernel/__main__.py:10: DeprecationWarning: using a non-integer number instead of an integer will result in an error in the future\n",
      "//anaconda/lib/python3.4/site-packages/ipykernel/__main__.py:11: DeprecationWarning: using a non-integer number instead of an integer will result in an error in the future\n"
     ]
    }
   ],
   "source": [
    "def u_initial(nx):\n",
    "    gamma = 1.4\n",
    "    u = numpy.zeros((3,nx))\n",
    "    u[0,:(nx-1)*2/4]=ICL[0]\n",
    "    u[0,((nx-1)*2/4):]=ICR[0]\n",
    "    \n",
    "    u[1,:(nx-1)*2/4]=ICL[0]*ICL[1]\n",
    "    u[1,((nx-1)*2/4):]=ICR[0]*ICR[1]\n",
    "    \n",
    "    u[2,:(nx-1)*2/4]=ICL[0]*(ICL[2]/((gamma-1)*ICL[0]))\n",
    "    u[2,((nx-1)*2/4):]=ICR[0]*(ICR[2]/((gamma-1)*ICR[0]))\n",
    "    \n",
    "    return u\n",
    "\n",
    "\n",
    "\n",
    "ICL = numpy.array([1.,\n",
    "                  0.,\n",
    "                  100000.])\n",
    "\n",
    "ICR = numpy.array([0.125,\n",
    "                  0.,\n",
    "                  10000.])\n",
    "nx=81\n",
    "gamma = 1.4\n",
    "dt = .0002\n",
    "dx = 20.0/(nx-1)\n",
    "nt = 51\n",
    "\n",
    "def computeF(u):\n",
    "    gamma = 1.4\n",
    "    u_1 = u[0,:]\n",
    "    u_2 = u[1,:]\n",
    "    u_3 = u[2,:]\n",
    "    return numpy.array([u_2,\n",
    "                       (u_2**2/u_1)+(gamma-1)*(u_3-(1/2)*(u_2**2/u_1)),\n",
    "                       (u_3 + (gamma-1)*(u_3-(1/2)*(u_2**2/u_1)))*(u_2/u_1)])\n",
    "\n",
    "\n",
    "def richtmeyer(u, nt,dt,dx,nx):\n",
    "    un = numpy.zeros((nt,3,nx))\n",
    "    un[:,:,:] = u.copy()\n",
    "    ustar = numpy.zeros_like(u)\n",
    "    #un = u.copy()\n",
    "    ustar = u.copy()\n",
    "    \n",
    "    for t in range(1,nt):\n",
    "        f = computeF(u)\n",
    "        \n",
    "        ustar[:,:-1] = 0.5*(u[:,1:] + u[:,:-1]) - (dt/(2*dx))*(f[:,1:] - f[:,:-1])\n",
    "    \n",
    "        fstar = computeF(ustar)\n",
    "    \n",
    "        un[t,:,1:-1] = u[:,1:-1] - dt/dx*(fstar[:,1:-1] - fstar[:,:-2])\n",
    "    \n",
    "        u = un[t,:,:].copy()\n",
    "    \n",
    "    return un\n",
    "\n",
    "rho = richtmeyer(u_initial(nx), nt,dt,dx,nx)\n",
    "\n",
    "print(rho[50:,:,50])\n",
    "\n",
    "#print(u_initial(nx))\n",
    "    \n",
    "#print(computeF(u_initial(nx)))\n",
    "\n",
    "P = (gamma-1)*(rho[50:,2:,50]-((1/2)*((rho[50:,1:-1,50]**2)/rho[50:,:-2,50])))\n",
    "print(P)\n",
    "V = math.sqrt((2*(-(P/(gamma-1))+rho[50:,2:,50]))/(rho[50:,:-2,50]))\n",
    "print(V)"
   ]
  },
  {
   "cell_type": "code",
   "execution_count": 3,
   "metadata": {
    "collapsed": false
   },
   "outputs": [
    {
     "name": "stdout",
     "output_type": "stream",
     "text": [
      "0.25\n"
     ]
    }
   ],
   "source": []
  },
  {
   "cell_type": "code",
   "execution_count": 4,
   "metadata": {
    "collapsed": false
   },
   "outputs": [
    {
     "name": "stdout",
     "output_type": "stream",
     "text": [
      "[[[ 0.  0.  0.  0.  0.]\n",
      "  [ 0.  0.  0.  0.  0.]\n",
      "  [ 0.  0.  0.  0.  0.]]\n",
      "\n",
      " [[ 0.  0.  0.  0.  0.]\n",
      "  [ 0.  0.  0.  0.  0.]\n",
      "  [ 0.  0.  0.  0.  0.]]\n",
      "\n",
      " [[ 0.  0.  0.  0.  0.]\n",
      "  [ 0.  0.  0.  0.  0.]\n",
      "  [ 0.  0.  0.  0.  0.]]]\n"
     ]
    }
   ],
   "source": [
    "x = numpy.zeros((3,3,5))\n",
    "print(x)"
   ]
  },
  {
   "cell_type": "code",
   "execution_count": 51,
   "metadata": {
    "collapsed": false
   },
   "outputs": [
    {
     "data": {
      "text/plain": [
       "0.25"
      ]
     },
     "execution_count": 51,
     "metadata": {},
     "output_type": "execute_result"
    }
   ],
   "source": [
    "20/80"
   ]
  },
  {
   "cell_type": "code",
   "execution_count": null,
   "metadata": {
    "collapsed": true
   },
   "outputs": [],
   "source": []
  }
 ],
 "metadata": {
  "kernelspec": {
   "display_name": "Python 3",
   "language": "python",
   "name": "python3"
  },
  "language_info": {
   "codemirror_mode": {
    "name": "ipython",
    "version": 3
   },
   "file_extension": ".py",
   "mimetype": "text/x-python",
   "name": "python",
   "nbconvert_exporter": "python",
   "pygments_lexer": "ipython3",
   "version": "3.4.3"
  }
 },
 "nbformat": 4,
 "nbformat_minor": 0
}
