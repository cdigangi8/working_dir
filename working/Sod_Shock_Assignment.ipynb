{
 "cells": [
  {
   "cell_type": "markdown",
   "metadata": {},
   "source": [
    "Sod's Assignment\n",
    "\n",
    "Shock tube problem\n",
    "\n",
    "A shock tube is an idealized device that generates a one-dimension shock wave in a compressible gas.\n",
    "\n",
    "**See notebook for detailed illustrations of the problem and description.\n",
    "\n",
    "The Euler Equations\n",
    "\n",
    "For velocity u in the x direction:\n",
    "\n",
    "$$\n",
    "\\frac{\\partial \\rho}{\\partial x} + \\frac{\\partial}{\\partial x}(\\rho u) = 0$$\n",
    "\n",
    "$$ \\frac{\\partial}{\\partial t}(\\rho u) + \\frac{\\partial}{\\partial x} (\\rho u^2 + p) = 0$$\n",
    "\n",
    "Plus energy equation in this form:\n",
    "\n",
    "$$\\frac{\\partial}{\\partial t} (\\rho e_T) + \\frac{\\partial}{\\partial x} (\\rho u e_T + pu)=0$$\n",
    "\n",
    "Written in vector form:\n",
    "\n",
    "$$\\frac{\\partial}{\\partial t} \\vec{u} + \\frac{\\partial}{\\partial x} \\vec{f} = 0$$\n",
    "\n"
   ]
  },
  {
   "cell_type": "markdown",
   "metadata": {},
   "source": [
    "The conservative form\n",
    "\n",
    "The conserved variables $\\vec{u}$ for Euler's equation are\n",
    "\n",
    "$$\\vec{u} = \\left[ \\begin{array}{c}\n",
    "\\rho \\\\\n",
    "\\rho u \\\\\n",
    "\\rho e_T \\\\\n",
    "\\end{array} \\right]$$\n",
    "\n",
    "Where $\\rho$ is the density of the fluid, $u$ is the velocity, and $e_T = e + \\frac{u^2}{2}$ is specific total energy; $\\vec{f}$ is the flux vector.\n",
    "\n",
    "$$\\vec{f} = \\left[ \\begin{array}{c}\n",
    "\\rho u \\\\\n",
    "\\rho u^2 + p \\\\\n",
    "(\\rho e_T + p)u \\\\\n",
    "\\end{array} \\right]$$\n",
    "\n",
    "where $p$ is the pressure of the fluid\n",
    "\n",
    "$$\\frac{\\partial}{\\partial t} \\left[ \\begin{array}{c}\n",
    "\\rho \\\\\n",
    "\\rho u \\\\\n",
    "\\rho e_T \\\\\n",
    "\\end{array} \\right] + \\frac{\\partial}{\\partial x} \\left[ \\begin{array}{c}\n",
    "\\rho u \\\\\n",
    "\\rho u^2 + p \\\\\n",
    "(\\rho e_T + p)u \\\\\n",
    "\\end{array} \\right] = 0$$\n",
    "\n"
   ]
  },
  {
   "cell_type": "markdown",
   "metadata": {},
   "source": [
    "Calculating the pressure\n",
    "\n",
    "for ideal gas the equation of state is:\n",
    "\n",
    "$$e = e(\\rho, p) = \\frac{p}{(\\gamma - 1) \\rho}$$\n",
    "\n",
    "where $\\gamma = 1.4$\n",
    "\n",
    "$$\\therefore p = (\\gamma - 1) \\rho e$$\n",
    "\n",
    "Recall from above that:\n",
    "\n",
    "$$e_T = e + \\frac{1}{2}u^2$$\n",
    "\n",
    "$$\\therefore e = e_T - \\frac{1}{2}u^2$$\n",
    "\n",
    "Putting it all together:\n",
    "\n",
    "$$p = (\\gamma -1)\\left( pe_T - \\frac{\\rho u^2}{2} \\right)$$\n",
    "\n"
   ]
  },
  {
   "cell_type": "markdown",
   "metadata": {},
   "source": [
    "Flux in terms of u\n",
    "\n",
    "$$\\vec{f} = f(\\vec{u}$$\n",
    "\n",
    "We need to represent f in terms of u, we will introduce this shorthand:\n",
    "\n",
    "$$\\vec{u} = \\left[ \\begin{array}{c}\n",
    "u_1 \\\\\n",
    "u_2 \\\\\n",
    "u_3 \\\\\n",
    "\\end{array} \\right] =  \\left[ \\begin{array}{c}\n",
    "\\rho \\\\\n",
    "\\rho u \\\\\n",
    "\\rho e_T \\\\\n",
    "\\end{array} \\right]$$\n",
    "\n",
    "$$\\vec{f} = \\left[ \\begin{array}{c}\n",
    "f_1 \\\\\n",
    "f_2 \\\\\n",
    "f_3 \\\\\n",
    "\\end{array} \\right] = \\left[ \\begin{array}{c}\n",
    "\\rho u \\\\\n",
    "\\rho u^2 + p \\\\\n",
    "(\\rho e_T + p)u \\\\\n",
    "\\end{array} \\right]$$\n",
    "\n",
    "\n",
    "With smoe algebraic trickery we can represent pressure vector using quantities from u:\n",
    "\n",
    "$$p = (\\gamma -1) \\left(u_3 - \\frac{1}{2}\\frac{u_2^2}{u_1} \\right)$$\n",
    "\n",
    "\n",
    "Now that f can be represented in terms of u, the rest of f isn't too hard to resolve!\n",
    "\n",
    "$$\\vec{f} = \\left[ \\begin{array}{c}\n",
    "f_1 \\\\\n",
    "f_2 \\\\\n",
    "f_3 \\\\\n",
    "\\end{array} \\right] = \\left[ \\begin{array}{c}\n",
    "u_2 \\\\\n",
    "\\frac{u_2^2}{u_1} + (\\gamma -1) \\left(u_3 - \\frac{1}{2}\\frac{u_2^2}{u_1} \\right) \\\\\n",
    "(u_3 + (\\gamma -1) \\left(u_3 - \\frac{1}{2}\\frac{u_2^2}{u_1} \\right)) \\frac{u_2}{u_1} \\\\\n",
    "\\end{array} \\right] $$\n",
    "\n",
    "\\begin{equation}\n",
    "  F_{i+1/2}= \\frac{1}{2} \\left( F \\left( e_{i} \\right) + F \\left( e_{i+1} \\right) -  \\frac{\\Delta x}{\\Delta t} \\left( e_{i+1} - e_{i} \\right) \\right)\n",
    "\\end{equation}\n",
    "\n"
   ]
  },
  {
   "cell_type": "markdown",
   "metadata": {},
   "source": [
    "Test Conditions\n",
    "\n",
    "In a tube spanning $x = -10m$ to $x = 10m$ with the rigid membrane at $x = 0m$ we have following initial gas states:\n",
    "\n",
    "$$IC_L = \\left[ \\begin{array}{c}\n",
    "\\rho_L \\\\\n",
    "u_L \\\\\n",
    "p_L \\\\\n",
    "\\end{array} \\right] = \\left[ \\begin{array}{c}\n",
    "1kg/m^3 \\\\\n",
    "0m/s \\\\\n",
    "100 kN/m^2 \\\\\n",
    "\\end{array} \\right] $$\n",
    "\n",
    "$$IC_R = \\left[ \\begin{array}{c}\n",
    "\\rho_R \\\\\n",
    "u_R \\\\\n",
    "p_R \\\\\n",
    "\\end{array} \\right] = \\left[ \\begin{array}{c}\n",
    ".0125kg/m^3 \\\\\n",
    "0m/s \\\\\n",
    "10 kN/m^2 \\\\\n",
    "\\end{array} \\right] $$\n",
    "\n",
    "Where $IC_L$ are the inital density, velocity, and pressure onthe left side of the tube membrane and $IC_R$ are the density, velocity, pressure on the right side."
   ]
  },
  {
   "cell_type": "markdown",
   "metadata": {},
   "source": [
    "The Richtmyer method\n",
    "\n",
    "\n",
    "$$\\vec{u}_{i+\\frac{1}{2}}^{n+\\frac{1}{2}} = \\frac{1}{2}(\\vec{u}_{i+1}^n + \\vec{u}_i^n) - \\frac{\\Delta t}{2 \\Delta x}(\\vec{f}_{i+1}^n - \\vec{f}_i^n)$$\n",
    "\n",
    "$$\\vec{u}_{i}^{n+1} = \\vec{u}_i^n - \\frac{\\Delta t}{\\Delta x} \\left( \\vec{f}_{i+\\frac{1}{2}}^{n+\\frac{1}{2}} - \\vec{f}_{i-\\frac{1}{2}}^{n+\\frac{1}{2}} \\right)$$\n",
    "\n",
    "The flux vectors used in the second step are obtained by evaluating the flux functions on the output of the first step:\n",
    "\n",
    "$$\\vec{f}_{i+\\frac{1}{2}}^{n+\\frac{1}{2}} = \\vec{f} \\left( \\vec{u}_{i+\\frac{1}{2}}^{n+\\frac{1}{2}} \\right)$$\n"
   ]
  },
  {
   "cell_type": "markdown",
   "metadata": {},
   "source": [
    "Calculate the pressure, density, and velocity across the shock tube at time $t=0.01s$ using the Richtmyer method."
   ]
  },
  {
   "cell_type": "code",
   "execution_count": 4,
   "metadata": {
    "collapsed": false
   },
   "outputs": [
    {
     "name": "stdout",
     "output_type": "stream",
     "text": [
      "[]\n"
     ]
    }
   ],
   "source": [
    "%matplotlib inline\n",
    "import numpy\n",
    "\n",
    "ICL = numpy.arange(1,0,100)\n",
    "print(ICL)"
   ]
  },
  {
   "cell_type": "code",
   "execution_count": null,
   "metadata": {
    "collapsed": true
   },
   "outputs": [],
   "source": [
    "def f(u):\n",
    "    u_1 = u[0]\n",
    "    u_2 = u[1]\n",
    "    u_3 = u[2]\n",
    "    \n",
    "    return numpy.array([u_2,\n",
    "                       (u_2**2/u_1)+(gamma-1)*(u_3-(1/2)*(u_2**2/u_1)),\n",
    "                       (u_3 + (gamma-1)*(u_3-(1/2)*(u_2**2/u_1)))*(u_2/u_1)])\n",
    "\n",
    "\n",
    "\n",
    "def ICLeft(nx, rho_L, u_L, p_L):\n",
    "    \n",
    "    ICL = \n",
    "    \n",
    "    return ICL"
   ]
  }
 ],
 "metadata": {
  "kernelspec": {
   "display_name": "Python 3",
   "language": "python",
   "name": "python3"
  },
  "language_info": {
   "codemirror_mode": {
    "name": "ipython",
    "version": 3
   },
   "file_extension": ".py",
   "mimetype": "text/x-python",
   "name": "python",
   "nbconvert_exporter": "python",
   "pygments_lexer": "ipython3",
   "version": "3.4.3"
  }
 },
 "nbformat": 4,
 "nbformat_minor": 0
}
