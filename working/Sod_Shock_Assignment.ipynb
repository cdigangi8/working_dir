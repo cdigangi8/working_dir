{
 "cells": [
  {
   "cell_type": "markdown",
   "metadata": {},
   "source": [
    "Sod's Assignment\n",
    "\n",
    "Shock tube problem\n",
    "\n",
    "A shock tube is an idealized device that generates a one-dimension shock wave in a compressible gas.\n",
    "\n",
    "**See notebook for detailed illustrations of the problem and description.\n",
    "\n",
    "The Euler Equations\n",
    "\n",
    "For velocity u in the x direction:\n",
    "\n",
    "$$\n",
    "\\frac{\\partial \\rho}{\\partial x} + \\frac{\\partial}{\\partial x}(\\rho u) = 0$$\n",
    "\n",
    "$$ \\frac{\\partial}{\\partial t}(\\rho u) + \\frac{\\partial}{\\partial x} (\\rho u^2 + p) = 0$$\n",
    "\n",
    "Plus energy equation in this form:\n",
    "\n",
    "$$\\frac{\\partial}{\\partial t} (\\rho e_T) + \\frac{\\partial}{\\partial x} (\\rho u e_T + pu)=0$$\n",
    "\n",
    "Written in vector form:\n",
    "\n",
    "$$\\frac{\\partial}{\\partial t} \\vec{u} + \\frac{\\partial}{\\partial x} \\vec{f} = 0$$\n",
    "\n"
   ]
  },
  {
   "cell_type": "markdown",
   "metadata": {},
   "source": [
    "The conservative form\n",
    "\n",
    "The conserved variables $\\vec{u}$ for Euler's equation are\n",
    "\n",
    "$$\\vec{u} = \\left[ \\begin{array}{c}\n",
    "\\rho \\\\\n",
    "\\rho u \\\\\n",
    "\\rho e_T \\\\\n",
    "\\end{array} \\right]$$\n",
    "\n",
    "Where $\\rho$ is the density of the fluid, $u$ is the velocity, and $e_T = e + \\frac{u^2}{2}$ is specific total energy; $\\vec{f}$ is the flux vector.\n",
    "\n",
    "$$\\vec{f} = \\left[ \\begin{array}{c}\n",
    "\\rho u \\\\\n",
    "\\rho u^2 + p \\\\\n",
    "(\\rho e_T + p)u \\\\\n",
    "\\end{array} \\right]$$\n",
    "\n",
    "where $p$ is the pressure of the fluid\n",
    "\n",
    "$$\\frac{\\partial}{\\partial t} \\left[ \\begin{array}{c}\n",
    "\\rho \\\\\n",
    "\\rho u \\\\\n",
    "\\rho e_T \\\\\n",
    "\\end{array} \\right] + \\frac{\\partial}{\\partial x} \\left[ \\begin{array}{c}\n",
    "\\rho u \\\\\n",
    "\\rho u^2 + p \\\\\n",
    "(\\rho e_T + p)u \\\\\n",
    "\\end{array} \\right] = 0$$\n",
    "\n"
   ]
  },
  {
   "cell_type": "markdown",
   "metadata": {},
   "source": [
    "Calculating the pressure\n",
    "\n",
    "for ideal gas the equation of state is:\n",
    "\n",
    "$$e = e(\\rho, p) = \\frac{p}{(\\gamma - 1) \\rho}$$\n",
    "\n",
    "where $\\gamma = 1.4$\n",
    "\n",
    "$$\\therefore p = (\\gamma - 1) \\rho e$$\n",
    "\n",
    "Recall from above that:\n",
    "\n",
    "$$e_T = e + \\frac{1}{2}u^2$$\n",
    "\n",
    "$$\\therefore e = e_T - \\frac{1}{2}u^2$$\n",
    "\n",
    "Putting it all together:\n",
    "\n",
    "$$p = (\\gamma -1)\\left( pe_T - \\frac{\\rho u^2}{2} \\right)$$\n",
    "\n"
   ]
  },
  {
   "cell_type": "markdown",
   "metadata": {},
   "source": [
    "Flux in terms of u\n",
    "\n",
    "$$\\vec{f} = f(\\vec{u}$$\n",
    "\n",
    "We need to represent f in terms of u, we will introduce this shorthand:\n",
    "\n",
    "$$\\vec{u} = \\left[ \\begin{array}{c}\n",
    "u_1 \\\\\n",
    "u_2 \\\\\n",
    "u_3 \\\\\n",
    "\\end{array} \\right] =  \\left[ \\begin{array}{c}\n",
    "\\rho \\\\\n",
    "\\rho u \\\\\n",
    "\\rho e_T \\\\\n",
    "\\end{array} \\right]$$\n",
    "\n",
    "$$\\vec{f} = \\left[ \\begin{array}{c}\n",
    "f_1 \\\\\n",
    "f_2 \\\\\n",
    "f_3 \\\\\n",
    "\\end{array} \\right] = \\left[ \\begin{array}{c}\n",
    "\\rho u \\\\\n",
    "\\rho u^2 + p \\\\\n",
    "(\\rho e_T + p)u \\\\\n",
    "\\end{array} \\right]$$\n",
    "\n",
    "\n",
    "With smoe algebraic trickery we can represent pressure vector using quantities from u:\n",
    "\n",
    "$$p = (\\gamma -1) \\left(u_3 - \\frac{1}{2}\\frac{u_2^2}{u_1} \\right)$$\n",
    "\n",
    "\n",
    "Now that f can be represented in terms of u, the rest of f isn't too hard to resolve!\n",
    "\n",
    "$$\\vec{f} = \\left[ \\begin{array}{c}\n",
    "f_1 \\\\\n",
    "f_2 \\\\\n",
    "f_3 \\\\\n",
    "\\end{array} \\right] = \\left[ \\begin{array}{c}\n",
    "u_2 \\\\\n",
    "\\frac{u_2^2}{u_1} + (\\gamma -1) \\left(u_3 - \\frac{1}{2}\\frac{u_2^2}{u_1} \\right) \\\\\n",
    "(u_3 + (\\gamma -1) \\left(u_3 - \\frac{1}{2}\\frac{u_2^2}{u_1} \\right)) \\frac{u_2}{u_1} \\\\\n",
    "\\end{array} \\right] $$\n",
    "\n",
    "\\begin{equation}\n",
    "  F_{i+1/2}= \\frac{1}{2} \\left( F \\left( e_{i} \\right) + F \\left( e_{i+1} \\right) -  \\frac{\\Delta x}{\\Delta t} \\left( e_{i+1} - e_{i} \\right) \\right)\n",
    "\\end{equation}\n",
    "\n"
   ]
  },
  {
   "cell_type": "markdown",
   "metadata": {},
   "source": [
    "Test Conditions\n",
    "\n",
    "In a tube spanning $x = -10m$ to $x = 10m$ with the rigid membrane at $x = 0m$ we have following initial gas states:\n",
    "\n",
    "$$IC_L = \\left[ \\begin{array}{c}\n",
    "\\rho_L \\\\\n",
    "u_L \\\\\n",
    "p_L \\\\\n",
    "\\end{array} \\right] = \\left[ \\begin{array}{c}\n",
    "1kg/m^3 \\\\\n",
    "0m/s \\\\\n",
    "100 kN/m^2 \\\\\n",
    "\\end{array} \\right] $$\n",
    "\n",
    "$$IC_R = \\left[ \\begin{array}{c}\n",
    "\\rho_R \\\\\n",
    "u_R \\\\\n",
    "p_R \\\\\n",
    "\\end{array} \\right] = \\left[ \\begin{array}{c}\n",
    ".0125kg/m^3 \\\\\n",
    "0m/s \\\\\n",
    "10 kN/m^2 \\\\\n",
    "\\end{array} \\right] $$\n",
    "\n",
    "Where $IC_L$ are the inital density, velocity, and pressure onthe left side of the tube membrane and $IC_R$ are the density, velocity, pressure on the right side."
   ]
  },
  {
   "cell_type": "markdown",
   "metadata": {},
   "source": [
    "The Richtmyer method\n",
    "\n",
    "\n",
    "$$\\vec{u}_{i+\\frac{1}{2}}^{n+\\frac{1}{2}} = \\frac{1}{2}(\\vec{u}_{i+1}^n + \\vec{u}_i^n) - \\frac{\\Delta t}{2 \\Delta x}(\\vec{f}_{i+1}^n - \\vec{f}_i^n)$$\n",
    "\n",
    "$$\\vec{u}_{i}^{n+1} = \\vec{u}_i^n - \\frac{\\Delta t}{\\Delta x} \\left( \\vec{f}_{i+\\frac{1}{2}}^{n+\\frac{1}{2}} - \\vec{f}_{i-\\frac{1}{2}}^{n+\\frac{1}{2}} \\right)$$\n",
    "\n",
    "The flux vectors used in the second step are obtained by evaluating the flux functions on the output of the first step:\n",
    "\n",
    "$$\\vec{f}_{i+\\frac{1}{2}}^{n+\\frac{1}{2}} = \\vec{f} \\left( \\vec{u}_{i+\\frac{1}{2}}^{n+\\frac{1}{2}} \\right)$$\n"
   ]
  },
  {
   "cell_type": "markdown",
   "metadata": {},
   "source": [
    "Calculate the pressure, density, and velocity across the shock tube at time $t=0.01s$ using the Richtmyer method."
   ]
  },
  {
   "cell_type": "code",
   "execution_count": 22,
   "metadata": {
    "collapsed": false
   },
   "outputs": [],
   "source": [
    "%matplotlib inline\n",
    "import numpy\n",
    "from numpy import *\n"
   ]
  },
  {
   "cell_type": "code",
   "execution_count": 291,
   "metadata": {
    "collapsed": false
   },
   "outputs": [
    {
     "name": "stdout",
     "output_type": "stream",
     "text": [
      "[[[  1.00000000e+000   1.00000000e+000   1.00000000e+000   1.00000000e+000\n",
      "     1.00000000e+000   1.00000000e+000   1.00000000e+000   1.00000000e+000\n",
      "     1.00000000e+000   1.00000000e+000   1.00000000e+000   1.00000000e+000\n",
      "     1.00000000e+000   9.99999999e-001   9.99999985e-001   9.99999957e-001\n",
      "     9.99999434e-001   9.99998732e-001   9.99985370e-001   9.99974499e-001\n",
      "     9.99741825e-001   9.99659290e-001   9.97001348e-001   2.32449270e+115\n",
      "    -1.38767315e+119   3.50100559e+121   9.50296550e+140   8.88019352e+149\n",
      "    -5.20596673e+150   1.73251147e+151  -7.27407146e+151  -4.32933353e+153\n",
      "     3.26417379e+154               nan               nan               nan\n",
      "                 nan               nan               nan               nan\n",
      "                 nan               nan               nan               nan\n",
      "                 nan               nan               nan               nan\n",
      "                 nan               nan               nan               nan\n",
      "                 nan               nan               nan   1.66010596e+159\n",
      "    -1.34920884e+160   2.41636609e+159   2.95085525e+160  -2.05720762e+160\n",
      "     4.52235616e+158   2.77018427e+157  -9.93472095e+155   1.96070597e+155\n",
      "     1.14350421e+151   4.81176033e+136   5.97464354e+134   1.25000000e-001\n",
      "     1.25000000e-001   1.25000000e-001   1.25000000e-001   1.25000000e-001\n",
      "     1.25000000e-001   1.25000000e-001   1.25000000e-001   1.25000000e-001\n",
      "     1.25000000e-001   1.25000000e-001   1.25000000e-001   1.25000000e-001\n",
      "     1.25000000e-001]\n",
      "  [  0.00000000e+000   0.00000000e+000   0.00000000e+000   0.00000000e+000\n",
      "     0.00000000e+000   0.00000000e+000   4.65661287e-014   1.22236088e-012\n",
      "     7.52042979e-012   1.51700806e-010   7.49295577e-010   1.32998219e-008\n",
      "     5.26958844e-008   8.26755306e-007   2.62064190e-006   3.64131495e-005\n",
      "     9.17640082e-005   1.12773697e-003   2.23321594e-003   2.41622565e-002\n",
      "     3.68051554e-002   3.47916262e-001   3.91988788e-001   4.56477284e+125\n",
      "    -1.52661846e+128   1.62811332e+132   7.64851275e+150  -4.27369360e+160\n",
      "    -7.15176635e+162               nan               nan               nan\n",
      "                 nan               nan               nan               nan\n",
      "                 nan               nan               nan               nan\n",
      "                 nan               nan               nan               nan\n",
      "                 nan               nan               nan               nan\n",
      "                 nan               nan               nan               nan\n",
      "                 nan               nan               nan               nan\n",
      "                 nan               nan               nan               nan\n",
      "                 nan               nan               nan               nan\n",
      "                 nan   4.05214958e+147   1.26636795e+144   5.80021020e-008\n",
      "     3.69599729e-009   2.46168929e-010   1.81913492e-011   1.18743628e-012\n",
      "     8.73114914e-014   2.91038305e-015   0.00000000e+000   0.00000000e+000\n",
      "     0.00000000e+000   0.00000000e+000   0.00000000e+000   0.00000000e+000\n",
      "     0.00000000e+000]\n",
      "  [  2.50000000e+005   2.50000000e+005   2.50000000e+005   2.50000000e+005\n",
      "     2.50000000e+005   2.50000000e+005   2.50000000e+005   2.50000000e+005\n",
      "     2.50000000e+005   2.50000000e+005   2.50000000e+005   2.50000000e+005\n",
      "     2.50000000e+005   2.50000000e+005   2.49999995e+005   2.49999985e+005\n",
      "     2.49999802e+005   2.49999556e+005   2.49994880e+005   2.49991075e+005\n",
      "     2.49909644e+005   2.49880813e+005   2.48951076e+005  -7.22262900e+135\n",
      "     1.22140303e+139  -2.86313918e+142  -6.20575811e+161  -1.76976195e+172\n",
      "     3.88452339e+174              -inf               inf               nan\n",
      "                -inf               nan               nan               nan\n",
      "                 nan               nan               nan               nan\n",
      "                 nan               nan               nan               nan\n",
      "                 nan               nan               nan               nan\n",
      "                 nan               nan               nan               nan\n",
      "                 nan               nan               nan              -inf\n",
      "                 inf               nan              -inf               inf\n",
      "                 nan              -inf               inf               nan\n",
      "                -inf  -1.37835112e+160  -2.71126980e+157   2.50000000e+004\n",
      "     2.50000000e+004   2.50000000e+004   2.50000000e+004   2.50000000e+004\n",
      "     2.50000000e+004   2.50000000e+004   2.50000000e+004   2.50000000e+004\n",
      "     2.50000000e+004   2.50000000e+004   2.50000000e+004   2.50000000e+004\n",
      "     2.50000000e+004]]]\n"
     ]
    },
    {
     "name": "stderr",
     "output_type": "stream",
     "text": [
      "//anaconda/lib/python3.4/site-packages/ipykernel/__main__.py:4: DeprecationWarning: using a non-integer number instead of an integer will result in an error in the future\n",
      "//anaconda/lib/python3.4/site-packages/ipykernel/__main__.py:5: DeprecationWarning: using a non-integer number instead of an integer will result in an error in the future\n",
      "//anaconda/lib/python3.4/site-packages/ipykernel/__main__.py:7: DeprecationWarning: using a non-integer number instead of an integer will result in an error in the future\n",
      "//anaconda/lib/python3.4/site-packages/ipykernel/__main__.py:8: DeprecationWarning: using a non-integer number instead of an integer will result in an error in the future\n",
      "//anaconda/lib/python3.4/site-packages/ipykernel/__main__.py:10: DeprecationWarning: using a non-integer number instead of an integer will result in an error in the future\n",
      "//anaconda/lib/python3.4/site-packages/ipykernel/__main__.py:11: DeprecationWarning: using a non-integer number instead of an integer will result in an error in the future\n",
      "//anaconda/lib/python3.4/site-packages/ipykernel/__main__.py:35: RuntimeWarning: overflow encountered in square\n",
      "//anaconda/lib/python3.4/site-packages/ipykernel/__main__.py:35: RuntimeWarning: invalid value encountered in add\n",
      "//anaconda/lib/python3.4/site-packages/ipykernel/__main__.py:36: RuntimeWarning: overflow encountered in square\n",
      "//anaconda/lib/python3.4/site-packages/ipykernel/__main__.py:49: RuntimeWarning: invalid value encountered in subtract\n",
      "//anaconda/lib/python3.4/site-packages/ipykernel/__main__.py:49: RuntimeWarning: invalid value encountered in add\n",
      "//anaconda/lib/python3.4/site-packages/ipykernel/__main__.py:53: RuntimeWarning: invalid value encountered in subtract\n"
     ]
    }
   ],
   "source": [
    "def u_initial(nx):\n",
    "    gamma = 1.4\n",
    "    u = numpy.zeros((3,nx))\n",
    "    u[0,:(nx-1)*2/4]=ICL[0]\n",
    "    u[0,((nx-1)*2/4):]=ICR[0]\n",
    "    \n",
    "    u[1,:(nx-1)*2/4]=ICL[0]*ICL[1]\n",
    "    u[1,((nx-1)*2/4):]=ICR[0]*ICR[1]\n",
    "    \n",
    "    u[2,:(nx-1)*2/4]=ICL[0]*(ICL[2]/((gamma-1)*ICL[0]))\n",
    "    u[2,((nx-1)*2/4):]=ICR[0]*(ICR[2]/((gamma-1)*ICR[0]))\n",
    "    \n",
    "    return u\n",
    "\n",
    "\n",
    "ICL = numpy.array([1.,\n",
    "                  0.,\n",
    "                  100000.])\n",
    "\n",
    "ICR = numpy.array([0.125,\n",
    "                  0.,\n",
    "                  10000.])\n",
    "nx=81\n",
    "gamma = 1.4\n",
    "dt = .0002\n",
    "dx = 20.0/(nx-1)\n",
    "nt = 51\n",
    "\n",
    "def computeF(u):\n",
    "    gamma = 1.4\n",
    "    u_1 = u[0,:]\n",
    "    u_2 = u[1,:]\n",
    "    u_3 = u[2,:]\n",
    "    return numpy.array([u_2,\n",
    "                       (u_2**2/u_1)+(gamma-1)*(u_3-(1/2)*(u_2**2/u_1)),\n",
    "                       (u_3 + (gamma-1)*(u_3-(1/2)*(u_2**2/u_1)))*(u_2/u_1)])\n",
    "\n",
    "\n",
    "def richtmeyer(u, nt,dt,dx,nx):\n",
    "    un = numpy.zeros((nt,3,nx))\n",
    "    un[:,:,:] = u.copy()\n",
    "    ustar = numpy.zeros_like(u)\n",
    "    #un = u.copy()\n",
    "    ustar = u.copy()\n",
    "    \n",
    "    for t in range(1,nt):\n",
    "        f = computeF(u)\n",
    "        \n",
    "        ustar[:,:-1] = 0.5*(u[:,1:] + u[:,:-1]) - (dt/2*dx)*(f[:,1:] - f[:,:-1])\n",
    "    \n",
    "        fstar = computeF(ustar)\n",
    "    \n",
    "        un[t,:,1:-1] = u[:,1:-1] - dt/dx*(fstar[:,1:-1] - fstar[:,:-2])\n",
    "    \n",
    "        u = un[t,:,:].copy()\n",
    "    \n",
    "    return un\n",
    "\n",
    "rho = richtmeyer(u_initial(nx), nt,dt,dx,nx)\n",
    "\n",
    "print(rho[50:,:])\n",
    "#print(u_initial(nx))\n",
    "    \n",
    "#print(computeF(u_initial(nx)))\n",
    "\n"
   ]
  },
  {
   "cell_type": "code",
   "execution_count": 84,
   "metadata": {
    "collapsed": false
   },
   "outputs": [
    {
     "name": "stdout",
     "output_type": "stream",
     "text": [
      "0.25\n"
     ]
    }
   ],
   "source": [
    "print(20/80)"
   ]
  },
  {
   "cell_type": "code",
   "execution_count": 130,
   "metadata": {
    "collapsed": false
   },
   "outputs": [
    {
     "name": "stdout",
     "output_type": "stream",
     "text": [
      "[[[ 0.  0.  0.  0.  0.]\n",
      "  [ 0.  0.  0.  0.  0.]\n",
      "  [ 0.  0.  0.  0.  0.]]\n",
      "\n",
      " [[ 0.  0.  0.  0.  0.]\n",
      "  [ 0.  0.  0.  0.  0.]\n",
      "  [ 0.  0.  0.  0.  0.]]\n",
      "\n",
      " [[ 0.  0.  0.  0.  0.]\n",
      "  [ 0.  0.  0.  0.  0.]\n",
      "  [ 0.  0.  0.  0.  0.]]]\n"
     ]
    }
   ],
   "source": [
    "x = numpy.zeros((3,3,5))\n",
    "print(x)"
   ]
  },
  {
   "cell_type": "code",
   "execution_count": null,
   "metadata": {
    "collapsed": true
   },
   "outputs": [],
   "source": [
    "x.....\n",
    ".....x"
   ]
  }
 ],
 "metadata": {
  "kernelspec": {
   "display_name": "Python 3",
   "language": "python",
   "name": "python3"
  },
  "language_info": {
   "codemirror_mode": {
    "name": "ipython",
    "version": 3
   },
   "file_extension": ".py",
   "mimetype": "text/x-python",
   "name": "python",
   "nbconvert_exporter": "python",
   "pygments_lexer": "ipython3",
   "version": "3.4.3"
  }
 },
 "nbformat": 4,
 "nbformat_minor": 0
}
