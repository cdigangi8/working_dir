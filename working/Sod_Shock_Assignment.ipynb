{
 "cells": [
  {
   "cell_type": "markdown",
   "metadata": {},
   "source": [
    "Sod's Assignment\n",
    "\n",
    "Shock tube problem\n",
    "\n",
    "A shock tube is an idealized device that generates a one-dimension shock wave in a compressible gas.\n",
    "\n",
    "**See notebook for detailed illustrations of the problem and description.\n",
    "\n",
    "The Euler Equations\n",
    "\n",
    "For velocity u in the x direction:\n",
    "\n",
    "$$\n",
    "\\frac{\\partial \\rho}{\\partial x} + \\frac{\\partial}{\\partial x}(\\rho u) = 0$$\n",
    "\n",
    "$$ \\frac{\\partial}{\\partial t}(\\rho u) + \\frac{\\partial}{\\partial x} (\\rho u^2 + p) = 0$$\n",
    "\n",
    "Plus energy equation in this form:\n",
    "\n",
    "$$\\frac{\\partial}{\\partial t} (\\rho e_T) + \\frac{\\partial}{\\partial x} (\\rho u e_T + pu)=0$$\n",
    "\n",
    "Written in vector form:\n",
    "\n",
    "$$\\frac{\\partial}{\\partial t} \\vec{u} + \\frac{\\partial}{\\partial x} \\vec{f} = 0$$\n",
    "\n"
   ]
  },
  {
   "cell_type": "markdown",
   "metadata": {},
   "source": [
    "The conservative form\n",
    "\n",
    "The conserved variables $\\vec{u}$ for Euler's equation are\n",
    "\n",
    "$$\\vec{u} = \\left[ \\begin{array}{c}\n",
    "\\rho \\\\\n",
    "\\rho u \\\\\n",
    "\\rho e_T \\\\\n",
    "\\end{array} \\right]$$\n",
    "\n",
    "Where $\\rho$ is the density of the fluid, $u$ is the velocity, and $e_T = e + \\frac{u^2}{2}$ is specific total energy; $\\vec{f}$ is the flux vector.\n",
    "\n",
    "$$\\vec{f} = \\left[ \\begin{array}{c}\n",
    "\\rho u \\\\\n",
    "\\rho u^2 + p \\\\\n",
    "(\\rho e_T + p)u \\\\\n",
    "\\end{array} \\right]$$\n",
    "\n",
    "where $p$ is the pressure of the fluid\n",
    "\n",
    "$$\\frac{\\partial}{\\partial t} \\left[ \\begin{array}{c}\n",
    "\\rho \\\\\n",
    "\\rho u \\\\\n",
    "\\rho e_T \\\\\n",
    "\\end{array} \\right] + \\frac{\\partial}{\\partial x} \\left[ \\begin{array}{c}\n",
    "\\rho u \\\\\n",
    "\\rho u^2 + p \\\\\n",
    "(\\rho e_T + p)u \\\\\n",
    "\\end{array} \\right] = 0$$\n",
    "\n"
   ]
  },
  {
   "cell_type": "markdown",
   "metadata": {},
   "source": []
  }
 ],
 "metadata": {
  "kernelspec": {
   "display_name": "Python 3",
   "language": "python",
   "name": "python3"
  },
  "language_info": {
   "codemirror_mode": {
    "name": "ipython",
    "version": 3
   },
   "file_extension": ".py",
   "mimetype": "text/x-python",
   "name": "python",
   "nbconvert_exporter": "python",
   "pygments_lexer": "ipython3",
   "version": "3.4.3"
  }
 },
 "nbformat": 4,
 "nbformat_minor": 0
}
