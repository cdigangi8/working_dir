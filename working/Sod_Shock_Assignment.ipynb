{
 "cells": [
  {
   "cell_type": "markdown",
   "metadata": {},
   "source": [
    "Sod's Assignment\n",
    "\n",
    "Shock tube problem\n",
    "\n",
    "A shock tube is an idealized device that generates a one-dimension shock wave in a compressible gas.\n",
    "\n",
    "**See notebook for detailed illustrations of the problem and description.\n",
    "\n",
    "The Euler Equations\n",
    "\n",
    "For velocity u in the x direction:\n",
    "\n",
    "$$\n",
    "\\frac{\\partial \\rho}{\\partial x} + \\frac{\\partial}{\\partial x}(\\rho u) = 0$$\n",
    "\n",
    "$$ \\frac{\\partial}{\\partial t}(\\rho u) + \\frac{\\partial}{\\partial x} (\\rho u^2 + p) = 0$$\n",
    "\n",
    "Plus energy equation in this form:\n",
    "\n",
    "$$\\frac{\\partial}{\\partial t} (\\rho e_T) + \\frac{\\partial}{\\partial x} (\\rho u e_T + pu)=0$$\n",
    "\n",
    "Written in vector form:\n",
    "\n",
    "$$\\frac{\\partial}{\\partial t} \\vec{u} + \\frac{\\partial}{\\partial x} \\vec{f} = 0$$\n",
    "\n"
   ]
  },
  {
   "cell_type": "markdown",
   "metadata": {},
   "source": [
    "The conservative form\n",
    "\n",
    "The conserved variables $\\vec{u}$ for Euler's equation are\n",
    "\n",
    "$$\\vec{u} = \\left[ \\begin{array}{c}\n",
    "\\rho \\\\\n",
    "\\rho u \\\\\n",
    "\\rho e_T \\\\\n",
    "\\end{array} \\right]$$\n",
    "\n",
    "Where $\\rho$ is the density of the fluid, $u$ is the velocity, and $e_T = e + \\frac{u^2}{2}$ is specific total energy; $\\vec{f}$ is the flux vector.\n",
    "\n",
    "$$\\vec{f} = \\left[ \\begin{array}{c}\n",
    "\\rho u \\\\\n",
    "\\rho u^2 + p \\\\\n",
    "(\\rho e_T + p)u \\\\\n",
    "\\end{array} \\right]$$\n",
    "\n",
    "where $p$ is the pressure of the fluid\n",
    "\n",
    "$$\\frac{\\partial}{\\partial t} \\left[ \\begin{array}{c}\n",
    "\\rho \\\\\n",
    "\\rho u \\\\\n",
    "\\rho e_T \\\\\n",
    "\\end{array} \\right] + \\frac{\\partial}{\\partial x} \\left[ \\begin{array}{c}\n",
    "\\rho u \\\\\n",
    "\\rho u^2 + p \\\\\n",
    "(\\rho e_T + p)u \\\\\n",
    "\\end{array} \\right] = 0$$\n",
    "\n"
   ]
  },
  {
   "cell_type": "markdown",
   "metadata": {},
   "source": [
    "Calculating the pressure\n",
    "\n",
    "for ideal gas the equation of state is:\n",
    "\n",
    "$$e = e(\\rho, p) = \\frac{p}{(\\gamma - 1) \\rho}$$\n",
    "\n",
    "where $\\gamma = 1.4$\n",
    "\n",
    "$$\\therefore p = (\\gamma - 1) \\rho e$$\n",
    "\n",
    "Recall from above that:\n",
    "\n",
    "$$e_T = e + \\frac{1}{2}u^2$$\n",
    "\n",
    "$$\\therefore e = e_T - \\frac{1}{2}u^2$$\n",
    "\n",
    "Putting it all together:\n",
    "\n",
    "$$p = (\\gamma -1)\\left( pe_T - \\frac{\\rho u^2}{2} \\right)$$\n",
    "\n"
   ]
  },
  {
   "cell_type": "markdown",
   "metadata": {},
   "source": [
    "Flux in terms of u\n",
    "\n",
    "$$\\vec{f} = f(\\vec{u}$$\n",
    "\n",
    "We need to represent f in terms of u, we will introduce this shorthand:\n",
    "\n",
    "$$\\vec{u} = \\left[ \\begin{array}{c}\n",
    "u_1 \\\\\n",
    "u_2 \\\\\n",
    "u_3 \\\\\n",
    "\\end{array} \\right] =  \\left[ \\begin{array}{c}\n",
    "\\rho \\\\\n",
    "\\rho u \\\\\n",
    "\\rho e_T \\\\\n",
    "\\end{array} \\right]$$\n",
    "\n",
    "$$\\vec{f} = \\left[ \\begin{array}{c}\n",
    "f_1 \\\\\n",
    "f_2 \\\\\n",
    "f_3 \\\\\n",
    "\\end{array} \\right] = \\left[ \\begin{array}{c}\n",
    "\\rho u \\\\\n",
    "\\rho u^2 + p \\\\\n",
    "(\\rho e_T + p)u \\\\\n",
    "\\end{array} \\right]$$\n",
    "\n",
    "\n",
    "With smoe algebraic trickery we can represent pressure vector using quantities from u:\n",
    "\n",
    "$$p = (\\gamma -1) \\left(u_3 - \\frac{1}{2}\\frac{u_2^2}{u_1} \\right)$$\n",
    "\n",
    "\n",
    "Now that f can be represented in terms of u, the rest of f isn't too hard to resolve!\n",
    "\n",
    "$$\\vec{f} = \\left[ \\begin{array}{c}\n",
    "f_1 \\\\\n",
    "f_2 \\\\\n",
    "f_3 \\\\\n",
    "\\end{array} \\right] = \\left[ \\begin{array}{c}\n",
    "u_2 \\\\\n",
    "\\frac{u_2^2}{u_1} + (\\gamma -1) \\left(u_3 - \\frac{1}{2}\\frac{u_2^2}{u_1} \\right) \\\\\n",
    "(u_3 + (\\gamma -1) \\left(u_3 - \\frac{1}{2}\\frac{u_2^2}{u_1} \\right)) \\frac{u_2}{u_1} \\\\\n",
    "\\end{array} \\right] $$\n",
    "\n",
    "\\begin{equation}\n",
    "  F_{i+1/2}= \\frac{1}{2} \\left( F \\left( e_{i} \\right) + F \\left( e_{i+1} \\right) -  \\frac{\\Delta x}{\\Delta t} \\left( e_{i+1} - e_{i} \\right) \\right)\n",
    "\\end{equation}\n",
    "\n"
   ]
  },
  {
   "cell_type": "markdown",
   "metadata": {},
   "source": [
    "Test Conditions\n",
    "\n",
    "In a tube spanning $x = -10m$ to $x = 10m$ with the rigid membrane at $x = 0m$ we have following initial gas states:\n",
    "\n",
    "$$IC_L = \\left[ \\begin{array}{c}\n",
    "\\rho_L \\\\\n",
    "u_L \\\\\n",
    "p_L \\\\\n",
    "\\end{array} \\right] = \\left[ \\begin{array}{c}\n",
    "1kg/m^3 \\\\\n",
    "0m/s \\\\\n",
    "100 kN/m^2 \\\\\n",
    "\\end{array} \\right] $$\n",
    "\n",
    "$$IC_R = \\left[ \\begin{array}{c}\n",
    "\\rho_R \\\\\n",
    "u_R \\\\\n",
    "p_R \\\\\n",
    "\\end{array} \\right] = \\left[ \\begin{array}{c}\n",
    ".0125kg/m^3 \\\\\n",
    "0m/s \\\\\n",
    "10 kN/m^2 \\\\\n",
    "\\end{array} \\right] $$\n",
    "\n",
    "Where $IC_L$ are the inital density, velocity, and pressure onthe left side of the tube membrane and $IC_R$ are the density, velocity, pressure on the right side."
   ]
  },
  {
   "cell_type": "markdown",
   "metadata": {},
   "source": [
    "The Richtmyer method\n",
    "\n",
    "\n",
    "$$\\vec{u}_{i+\\frac{1}{2}}^{n+\\frac{1}{2}} = \\frac{1}{2}(\\vec{u}_{i+1}^n + \\vec{u}_i^n) - \\frac{\\Delta t}{2 \\Delta x}(\\vec{f}_{i+1}^n - \\vec{f}_i^n)$$\n",
    "\n",
    "$$\\vec{u}_{i}^{n+1} = \\vec{u}_i^n - \\frac{\\Delta t}{\\Delta x} \\left( \\vec{f}_{i+\\frac{1}{2}}^{n+\\frac{1}{2}} - \\vec{f}_{i-\\frac{1}{2}}^{n+\\frac{1}{2}} \\right)$$\n",
    "\n",
    "The flux vectors used in the second step are obtained by evaluating the flux functions on the output of the first step:\n",
    "\n",
    "$$\\vec{f}_{i+\\frac{1}{2}}^{n+\\frac{1}{2}} = \\vec{f} \\left( \\vec{u}_{i+\\frac{1}{2}}^{n+\\frac{1}{2}} \\right)$$\n"
   ]
  },
  {
   "cell_type": "markdown",
   "metadata": {},
   "source": [
    "Calculate the pressure, density, and velocity across the shock tube at time $t=0.01s$ using the Richtmyer method."
   ]
  },
  {
   "cell_type": "code",
   "execution_count": 3,
   "metadata": {
    "collapsed": false
   },
   "outputs": [],
   "source": [
    "%matplotlib inline\n",
    "import numpy\n"
   ]
  },
  {
   "cell_type": "code",
   "execution_count": 15,
   "metadata": {
    "collapsed": false
   },
   "outputs": [
    {
     "name": "stderr",
     "output_type": "stream",
     "text": [
      "//anaconda/lib/python3.4/site-packages/ipykernel/__main__.py:3: DeprecationWarning: using a non-integer number instead of an integer will result in an error in the future\n",
      "  app.launch_new_instance()\n",
      "//anaconda/lib/python3.4/site-packages/ipykernel/__main__.py:4: DeprecationWarning: using a non-integer number instead of an integer will result in an error in the future\n",
      "//anaconda/lib/python3.4/site-packages/ipykernel/__main__.py:5: DeprecationWarning: using a non-integer number instead of an integer will result in an error in the future\n",
      "//anaconda/lib/python3.4/site-packages/ipykernel/__main__.py:6: DeprecationWarning: using a non-integer number instead of an integer will result in an error in the future\n",
      "//anaconda/lib/python3.4/site-packages/ipykernel/__main__.py:7: DeprecationWarning: using a non-integer number instead of an integer will result in an error in the future\n",
      "//anaconda/lib/python3.4/site-packages/ipykernel/__main__.py:8: DeprecationWarning: using a non-integer number instead of an integer will result in an error in the future\n",
      "//anaconda/lib/python3.4/site-packages/ipykernel/__main__.py:30: RuntimeWarning: invalid value encountered in true_divide\n",
      "//anaconda/lib/python3.4/site-packages/ipykernel/__main__.py:31: RuntimeWarning: invalid value encountered in true_divide\n"
     ]
    },
    {
     "name": "stdout",
     "output_type": "stream",
     "text": [
      "[[   0.    0.    0.    0.    0.    0.    0.    0.    0.    0.    0.    0.\n",
      "     0.    0.    0.    0.    0.    0.    0.    0.    0.    0.    0.    0.\n",
      "     0.    0.    0.    0.    0.    0.    0.    0.    0.    0.    0.    0.\n",
      "     0.    0.    0.    0.    0.    0.    0.    0.    0.    0.    0.    0.\n",
      "     0.    0.    0.    0.    0.    0.    0.    0.    0.    0.    0.    0.\n",
      "     0.    0.    0.    0.    0.    0.    0.    0.    0.    0.    0.    0.\n",
      "     0.    0.    0.    0.    0.    0.    0.    0.    0.]\n",
      " [ 100.  100.  100.  100.  100.  100.  100.  100.  100.  100.  100.  100.\n",
      "   100.  100.  100.  100.  100.  100.  100.  100.  100.  100.  100.  100.\n",
      "   100.  100.  100.  100.  100.  100.  100.  100.  100.  100.  100.  100.\n",
      "   100.  100.  100.  100.   nan   10.   10.   10.   10.   10.   10.   10.\n",
      "    10.   10.   10.   10.   10.   10.   10.   10.   10.   10.   10.   10.\n",
      "    10.   10.   10.   10.   10.   10.   10.   10.   10.   10.   10.   10.\n",
      "    10.   10.   10.   10.   10.   10.   10.   10.   10.]\n",
      " [   0.    0.    0.    0.    0.    0.    0.    0.    0.    0.    0.    0.\n",
      "     0.    0.    0.    0.    0.    0.    0.    0.    0.    0.    0.    0.\n",
      "     0.    0.    0.    0.    0.    0.    0.    0.    0.    0.    0.    0.\n",
      "     0.    0.    0.    0.   nan    0.    0.    0.    0.    0.    0.    0.\n",
      "     0.    0.    0.    0.    0.    0.    0.    0.    0.    0.    0.    0.\n",
      "     0.    0.    0.    0.    0.    0.    0.    0.    0.    0.    0.    0.\n",
      "     0.    0.    0.    0.    0.    0.    0.    0.    0.]]\n"
     ]
    }
   ],
   "source": [
    "def u_initial(nx):\n",
    "    u = numpy.zeros((3,nx))\n",
    "    u[0,:(nx-1)*2/4]=ICL[0]\n",
    "    u[0,((nx-1)*2/4)+1:]=ICR[0]\n",
    "    u[1,:(nx-1)*2/4]=ICL[0]*ICL[1]\n",
    "    u[1,((nx-1)*2/4)+1:]=ICR[0]*ICR[1]\n",
    "    u[2,:(nx-1)*2/4]=ICL[0]*(ICL[2]/((gamma-1)*ICL[0]))\n",
    "    u[2,((nx-1)*2/4)+1:]=ICR[0]*(ICR[2]/((gamma-1)*ICR[0]))\n",
    "    return u\n",
    "nx=81\n",
    "gamma=1.4\n",
    "\n",
    "ICL = numpy.array([1,\n",
    "                  0,\n",
    "                  100])\n",
    "\n",
    "ICR = numpy.array([0.125,\n",
    "                  0,\n",
    "                  10])\n",
    "gamma = 1.4\n",
    "dt = .0002\n",
    "dx = 4.0/(nx-1)\n",
    "nt = 5\n",
    "\n",
    "def computeF(u):\n",
    "    u_1 = u[0,:]\n",
    "    u_2 = u[1,:]\n",
    "    u_3 = u[2,:]\n",
    "    return numpy.array([u_2,\n",
    "                       (u_2**2/u_1)+(gamma-1)*(u_3-(1/2)*(u_2**2/u_1)),\n",
    "                       (u_3 + (gamma-1)*(u_3-(1/2)*(u_2**2/u_1)))*(u_2/u_1)])\n",
    "\n",
    "\n",
    "\n",
    "#print(computeF(u_initial(nx)))\n",
    "\n"
   ]
  },
  {
   "cell_type": "code",
   "execution_count": 61,
   "metadata": {
    "collapsed": false
   },
   "outputs": [
    {
     "name": "stderr",
     "output_type": "stream",
     "text": [
      "//anaconda/lib/python3.4/site-packages/ipykernel/__main__.py:21: DeprecationWarning: using a non-integer number instead of an integer will result in an error in the future\n",
      "//anaconda/lib/python3.4/site-packages/ipykernel/__main__.py:22: DeprecationWarning: using a non-integer number instead of an integer will result in an error in the future\n",
      "//anaconda/lib/python3.4/site-packages/ipykernel/__main__.py:23: DeprecationWarning: using a non-integer number instead of an integer will result in an error in the future\n",
      "//anaconda/lib/python3.4/site-packages/ipykernel/__main__.py:24: DeprecationWarning: using a non-integer number instead of an integer will result in an error in the future\n",
      "//anaconda/lib/python3.4/site-packages/ipykernel/__main__.py:25: DeprecationWarning: using a non-integer number instead of an integer will result in an error in the future\n",
      "//anaconda/lib/python3.4/site-packages/ipykernel/__main__.py:26: DeprecationWarning: using a non-integer number instead of an integer will result in an error in the future\n",
      "//anaconda/lib/python3.4/site-packages/ipykernel/__main__.py:6: RuntimeWarning: invalid value encountered in true_divide\n",
      "//anaconda/lib/python3.4/site-packages/ipykernel/__main__.py:7: RuntimeWarning: invalid value encountered in true_divide\n"
     ]
    },
    {
     "ename": "ValueError",
     "evalue": "operands could not be broadcast together with shapes (20,3) (2,21) ",
     "output_type": "error",
     "traceback": [
      "\u001b[0;31m---------------------------------------------------------------------------\u001b[0m",
      "\u001b[0;31mValueError\u001b[0m                                Traceback (most recent call last)",
      "\u001b[0;32m<ipython-input-61-ca2554582de6>\u001b[0m in \u001b[0;36m<module>\u001b[0;34m()\u001b[0m\n\u001b[1;32m     39\u001b[0m \u001b[0mdx\u001b[0m \u001b[0;34m=\u001b[0m \u001b[0;36m4\u001b[0m\u001b[0;34m/\u001b[0m\u001b[0;34m(\u001b[0m\u001b[0mnx\u001b[0m\u001b[0;34m-\u001b[0m\u001b[0;36m1\u001b[0m\u001b[0;34m)\u001b[0m\u001b[0;34m\u001b[0m\u001b[0m\n\u001b[1;32m     40\u001b[0m \u001b[0mdt\u001b[0m \u001b[0;34m=\u001b[0m \u001b[0msigma\u001b[0m\u001b[0;34m*\u001b[0m\u001b[0mdx\u001b[0m\u001b[0;34m\u001b[0m\u001b[0m\n\u001b[0;32m---> 41\u001b[0;31m \u001b[0msol\u001b[0m \u001b[0;34m=\u001b[0m \u001b[0mrichtmeyer\u001b[0m\u001b[0;34m(\u001b[0m\u001b[0mu_initial\u001b[0m\u001b[0;34m(\u001b[0m\u001b[0mnx\u001b[0m\u001b[0;34m)\u001b[0m\u001b[0;34m,\u001b[0m\u001b[0mf\u001b[0m\u001b[0;34m(\u001b[0m\u001b[0mu_initial\u001b[0m\u001b[0;34m(\u001b[0m\u001b[0mnx\u001b[0m\u001b[0;34m)\u001b[0m\u001b[0;34m)\u001b[0m\u001b[0;34m,\u001b[0m \u001b[0mnt\u001b[0m\u001b[0;34m,\u001b[0m\u001b[0mdt\u001b[0m\u001b[0;34m,\u001b[0m\u001b[0mdx\u001b[0m\u001b[0;34m)\u001b[0m\u001b[0;34m\u001b[0m\u001b[0m\n\u001b[0m\u001b[1;32m     42\u001b[0m \u001b[0;34m\u001b[0m\u001b[0m\n\u001b[1;32m     43\u001b[0m \u001b[0;34m\u001b[0m\u001b[0m\n",
      "\u001b[0;32m<ipython-input-61-ca2554582de6>\u001b[0m in \u001b[0;36mrichtmeyer\u001b[0;34m(u, f, nt, dt, dx)\u001b[0m\n\u001b[1;32m     31\u001b[0m \u001b[0;34m\u001b[0m\u001b[0m\n\u001b[1;32m     32\u001b[0m     \u001b[0;32mfor\u001b[0m \u001b[0mn\u001b[0m \u001b[0;32min\u001b[0m \u001b[0mrange\u001b[0m\u001b[0;34m(\u001b[0m\u001b[0;36m1\u001b[0m\u001b[0;34m,\u001b[0m\u001b[0mnt\u001b[0m\u001b[0;34m)\u001b[0m\u001b[0;34m:\u001b[0m\u001b[0;34m\u001b[0m\u001b[0m\n\u001b[0;32m---> 33\u001b[0;31m         \u001b[0mu_half\u001b[0m \u001b[0;34m=\u001b[0m \u001b[0;36m1\u001b[0m\u001b[0;34m/\u001b[0m\u001b[0;36m2\u001b[0m\u001b[0;34m*\u001b[0m\u001b[0;34m(\u001b[0m\u001b[0mu\u001b[0m\u001b[0;34m[\u001b[0m\u001b[0;36m1\u001b[0m\u001b[0;34m:\u001b[0m\u001b[0;34m]\u001b[0m\u001b[0;34m+\u001b[0m \u001b[0mu\u001b[0m\u001b[0;34m[\u001b[0m\u001b[0;34m:\u001b[0m\u001b[0;34m-\u001b[0m\u001b[0;36m1\u001b[0m\u001b[0;34m]\u001b[0m\u001b[0;34m)\u001b[0m\u001b[0;34m-\u001b[0m\u001b[0mdt\u001b[0m\u001b[0;34m/\u001b[0m\u001b[0;34m(\u001b[0m\u001b[0;36m2\u001b[0m\u001b[0;34m*\u001b[0m\u001b[0mdx\u001b[0m\u001b[0;34m)\u001b[0m\u001b[0;34m*\u001b[0m\u001b[0;34m(\u001b[0m\u001b[0mf\u001b[0m\u001b[0;34m[\u001b[0m\u001b[0;36m1\u001b[0m\u001b[0;34m:\u001b[0m\u001b[0;34m]\u001b[0m\u001b[0;34m-\u001b[0m\u001b[0mf\u001b[0m\u001b[0;34m[\u001b[0m\u001b[0;34m:\u001b[0m\u001b[0;34m-\u001b[0m\u001b[0;36m1\u001b[0m\u001b[0;34m]\u001b[0m\u001b[0;34m)\u001b[0m\u001b[0;34m\u001b[0m\u001b[0m\n\u001b[0m\u001b[1;32m     34\u001b[0m     \u001b[0;32mreturn\u001b[0m \u001b[0mu_half\u001b[0m\u001b[0;34m\u001b[0m\u001b[0m\n\u001b[1;32m     35\u001b[0m \u001b[0;34m\u001b[0m\u001b[0m\n",
      "\u001b[0;31mValueError\u001b[0m: operands could not be broadcast together with shapes (20,3) (2,21) "
     ]
    }
   ],
   "source": [
    "def f(u):\n",
    "    u_1 = u[:,0]\n",
    "    u_2 = u[:,1]\n",
    "    u_3 = u[:,2]\n",
    "    return numpy.array([u_2,\n",
    "                       (u_2**2/u_1)+(gamma-1)*(u_3-(1/2)*(u_2**2/u_1)),\n",
    "                       (u_3 + (gamma-1)*(u_3-(1/2)*(u_2**2/u_1)))*(u_2/u_1)])\n",
    "\n",
    "gamma=1.4\n",
    "\n",
    "ICL = numpy.array([1,\n",
    "                  0,\n",
    "                  100])\n",
    "\n",
    "ICR = numpy.array([0.125,\n",
    "                  0,\n",
    "                  10])\n",
    "\n",
    "def u_initial(nx):\n",
    "    u = numpy.zeros((nx,3))\n",
    "    u[:(nx-1)*2/4, 0]=ICL[0]\n",
    "    u[:(nx-1)*2/4, 1]=ICL[0]*ICL[1]\n",
    "    u[:(nx-1)*2/4, 2]=ICL[0]*(1+1/2*ICL[1]**2) \n",
    "    u[((nx-1)*2/4)+1:, 0]=ICR[0]\n",
    "    u[((nx-1)*2/4)+1:, 1]=ICR[0]*ICR[1]\n",
    "    u[((nx-1)*2/4)+1:, 2]=ICR[0]*(1+1/2*ICR[1]**2) \n",
    "    return u\n",
    "\n",
    "\n",
    "def richtmeyer(u,f,nt,dt,dx):\n",
    "    \n",
    "    for n in range(1,nt):\n",
    "        u_half = 1/2*(u[1:]+ u[:-1])-dt/(2*dx)*(f[1:]-f[:-1])\n",
    "    return u_half\n",
    "\n",
    "nt = 100\n",
    "sigma = 1\n",
    "nx = 21\n",
    "dx = 4/(nx-1)\n",
    "dt = sigma*dx\n",
    "sol = richtmeyer(u_initial(nx),f(u_initial(nx)), nt,dt,dx)\n",
    "\n",
    "\n",
    "print(sol)"
   ]
  },
  {
   "cell_type": "code",
   "execution_count": 29,
   "metadata": {
    "collapsed": false
   },
   "outputs": [
    {
     "name": "stdout",
     "output_type": "stream",
     "text": [
      "[[ 0.  0.  0.]\n",
      " [ 0.  0.  0.]]\n"
     ]
    }
   ],
   "source": [
    "c = numpy.zeros((2,3))\n",
    "print(c)"
   ]
  },
  {
   "cell_type": "code",
   "execution_count": null,
   "metadata": {
    "collapsed": true
   },
   "outputs": [],
   "source": []
  }
 ],
 "metadata": {
  "kernelspec": {
   "display_name": "Python 3",
   "language": "python",
   "name": "python3"
  },
  "language_info": {
   "codemirror_mode": {
    "name": "ipython",
    "version": 3
   },
   "file_extension": ".py",
   "mimetype": "text/x-python",
   "name": "python",
   "nbconvert_exporter": "python",
   "pygments_lexer": "ipython3",
   "version": "3.4.3"
  }
 },
 "nbformat": 4,
 "nbformat_minor": 0
}
