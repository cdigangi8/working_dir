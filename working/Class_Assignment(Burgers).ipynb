{
 "cells": [
  {
   "cell_type": "markdown",
   "metadata": {},
   "source": [
    "Burgers Equation\n",
    "\n",
    "Consider 1D Burger's Equation\n",
    "\n",
    "$$\\frac{\\partial u }{\\partial t} = -u \\frac{\\partial u}{\\partial x}$$\n",
    "\n",
    "Represent in conservative form:\n",
    "\n",
    "$$\\frac{\\partial u }{\\partial t} = - \\frac{\\partial}{\\partial x} \\left( \\frac{u^2}{2} \\right)$$\n",
    "\n",
    "We can also write this as:\n",
    "\n",
    "$$\\frac{\\partial u }{\\partial t} = - \\frac{\\partial F}{\\partial x}$$\n",
    "\n",
    "if we take $F = \\frac{u^2}{2}$\n",
    "\n",
    "Inital Conditions\n",
    "\n",
    " \\begin{equation}u(x,0) = \\left\\{ \\begin{array}{cc}\n",
    "1  & 0 \\leq x < 3  \\\\\n",
    "0 & 2 \\leq x \\leq 4 \\\\ \\end{array} \\right.\\end{equation}"
   ]
  },
  {
   "cell_type": "code",
   "execution_count": 2,
   "metadata": {
    "collapsed": true
   },
   "outputs": [],
   "source": [
    "%matplotlib inline\n",
    "import numpy\n",
    "import matplotlib.pyplot as plt"
   ]
  },
  {
   "cell_type": "code",
   "execution_count": 3,
   "metadata": {
    "collapsed": true
   },
   "outputs": [],
   "source": [
    "from matplotlib import animation\n",
    "from JSAnimation.IPython_display import display_animation"
   ]
  },
  {
   "cell_type": "code",
   "execution_count": 5,
   "metadata": {
    "collapsed": false
   },
   "outputs": [],
   "source": [
    "def u_inital():\n",
    "    return u"
   ]
  },
  {
   "cell_type": "code",
   "execution_count": 6,
   "metadata": {
    "collapsed": true
   },
   "outputs": [],
   "source": [
    "nx = 81\n",
    "nt = 70\n",
    "dx = 4.0/(nx-1)"
   ]
  },
  {
   "cell_type": "code",
   "execution_count": 7,
   "metadata": {
    "collapsed": true
   },
   "outputs": [],
   "source": [
    "computeF = lambda u: (u/s)**2"
   ]
  },
  {
   "cell_type": "markdown",
   "metadata": {},
   "source": [
    "What does computeF do?\n",
    "\n",
    "MacCormack scheme:\n",
    "\n",
    "$$u_i^* = u_i^n - \\frac{\\Delta t}{\\Delta x} (F_{i+1}^n - F_i^n)  \\ \\ (predictor) $$\n",
    "\n",
    "\n",
    "$$u_i^{n+1} = \\frac{1}{2} \\left( u_i^n + u_i^* \\frac{\\Delta t}{\\Delta x} (F_{i}^* - F_{i-1}^*) \\right) \\ \\ (corrector) $$"
   ]
  },
  {
   "cell_type": "code",
   "execution_count": null,
   "metadata": {
    "collapsed": true
   },
   "outputs": [],
   "source": []
  }
 ],
 "metadata": {
  "kernelspec": {
   "display_name": "Python 3",
   "language": "python",
   "name": "python3"
  },
  "language_info": {
   "codemirror_mode": {
    "name": "ipython",
    "version": 3
   },
   "file_extension": ".py",
   "mimetype": "text/x-python",
   "name": "python",
   "nbconvert_exporter": "python",
   "pygments_lexer": "ipython3",
   "version": "3.4.3"
  }
 },
 "nbformat": 4,
 "nbformat_minor": 0
}
