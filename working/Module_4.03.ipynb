{
 "cells": [
  {
   "cell_type": "markdown",
   "metadata": {},
   "source": [
    "Spreading Out Part 3!\n",
    "\n",
    "Now we will study the Diffusion equation in 2D!\n",
    "\n",
    "2d heat conduction:\n",
    "\n",
    "$$\\rho c_P \\frac{\\Delta T}{\\Delta t} = \\frac{\\partial}{\\partial x} \\left( \\kappa_x \\frac{\\partial T}{\\partial x} \\right) + \\frac{\\partial}{\\partial y} \\left( \\kappa_y \\frac{\\partial T}{\\partial y} \\right) $$\n",
    "\n",
    "where $\\rho$ is the density and $c_P$ is the heat capacity and $\\kappa$ is thermal conductivity\n",
    "\n",
    "If $\\kappa$ is constant:\n",
    "\n",
    "$$\\frac{\\partial T}{\\partial t} = \\alpha \\left( \\frac{\\partial^2 T}{\\partial x^2} + \\frac{\\partial^2 T}{\\partial y^2} \\right) $$\n",
    "\n",
    "Where $\\alpha = \\frac{\\kappa}{\\rho c_P}$ is the thermal diffusivity\n",
    "\n"
   ]
  },
  {
   "cell_type": "markdown",
   "metadata": {},
   "source": [
    "Problem Statement\n",
    "\n",
    "Removing heat out of microships is a big problem in comuter industry. \n",
    "\n",
    "Understand how heat is dissipatedfrom the chip with very simplified model. \n",
    "\n",
    "Everything we learned about finite difference still applies except now we have 2 spatial dimensions.\n",
    "\n",
    "Now i corresponds to x axis and j to y axis\n",
    "\n",
    "Discretized 2d Heat equation:\n",
    "\n",
    "$$\\frac{T_{ij}^{n+1} - T_{ij}^n}{\\Delta t} = \\alpha \\left( \\frac{T_{i+1j}^n - 2 T_{ij}^n + T_{i-1j}^n}{\\Delta x^2} + \\frac{T_{ij+1}^n - 2 T_{ij}^n + T_{ij-1}^n}{\\Delta y^2} \\right)$$\n",
    "\n",
    "Rearrange to solve for the value at the next time step:\n",
    "\n",
    "$$T_{ij}^{n+1} = T_{ij}^n + \\alpha \\left( \\frac{\\Delta t}{\\Delta x^2}(T_{i+1j}^n - 2 T_{ij}^n + T_{i-1j}^n) + \\frac{\\Delta t}{\\Delta y^2}(T_{ij+1}^n - 2 T_{ij}^n + T_{ij-1}^n) \\right) $$\n",
    "\n",
    "As always explicit method will use what is currently known at time step n\n",
    "\n",
    "\n",
    "\n",
    "\n",
    "\n"
   ]
  },
  {
   "cell_type": "markdown",
   "metadata": {},
   "source": [
    "Boundary Conditions!\n",
    "\n",
    "For our problem we have that $\\frac{\\partial T}{\\partial y} = q_y$ and $\\frac{\\partial T}{\\partial x} = q_x$ with $q_y = q_x = 0$ (insulated). Thus at every time step we have to enforce:\n",
    "\n",
    "$$T_{i,end} = q_y \\dot \\Delta y + T_{i,end-1}$$\n",
    "\n",
    "and\n",
    "\n",
    "$$T_{end, j} = q_x \\dot \\Delta x + T_{end-1, j}$$\n",
    "\n",
    "Stability:\n",
    "\n",
    "revisit stability condition. We have that\n",
    "\n",
    "$$ \\alpha \\frac{\\Delta t}{(\\Delta x)^2} + \\alpha \\frac{\\Delta t}{(\\Delta x)^2} < \\frac{1}{2}$$\n",
    "\n",
    "Say that the mesh has the same spacing in x and y, $\\Delta x = \\Delta y = \\sigma$. Therefore stability condition is:\n",
    "\n",
    "$$\\alpha \\frac{\\Delta t}{\\delta^2} < \\frac{1}{4}$$"
   ]
  },
  {
   "cell_type": "markdown",
   "metadata": {},
   "source": [
    "Code Implementation\n",
    "\n",
    "Array storage\n",
    "\n",
    "Temps stored in 2D array, x with columns y with rows\n",
    "\n",
    "\n",
    "In code this is T[j,i]\n",
    "\n"
   ]
  },
  {
   "cell_type": "code",
   "execution_count": 1,
   "metadata": {
    "collapsed": true
   },
   "outputs": [],
   "source": [
    "import numpy\n",
    "from matplotlib import pyplot\n",
    "%matplotlib inline\n",
    "from matplotlib import rcParams\n",
    "rcParams['font.family'] = 'serif'\n",
    "rcParams['font.size'] =16"
   ]
  },
  {
   "cell_type": "code",
   "execution_count": 6,
   "metadata": {
    "collapsed": true
   },
   "outputs": [],
   "source": [
    "def ftcs(T, nt, alpha, dt,dx, dy):\n",
    "    \n",
    "    #Force j_mid and i_mid to be integers so we can use them as indeces\n",
    "    #For array T\n",
    "    \n",
    "    j_mid = int((numpy.shape(T)[0]/2))\n",
    "    i_mid = int((numpy.shape(T)[1]/2))\n",
    "    \n",
    "    for n in range(nt):\n",
    "        \n",
    "        Tn = T.copy()\n",
    "        \n",
    "        T[1:-1, 1:-1] = Tn[1:-1,1:-1] + alpha *\\\n",
    "        (dt/dy**2)*(Tn[2:,1:-1] - 2*Tn[1:-1, 1:-1] + Tn[:-2,1:-1] +\\\n",
    "                   dt/dy**2)*(Tn[1:-1,2:] - 2*Tn[1:-1, 1:-1] + Tn[1:-1,:-2])\n",
    "        \n",
    "        #Enforce NBC\n",
    "        \n",
    "        T[-1,:] = T[-2,:]\n",
    "        T[:,-1] = T[:,-2]\n",
    "        \n",
    "        #Check if we reached 70 Celsius\n",
    "        \n",
    "        # Check if we reached T=70C\n",
    "        if T[j_mid, i_mid] >= 70:\n",
    "            print (\"Center of plate reached 70C at time {0:.2f}s.\".format(dt*n))\n",
    "            break\n",
    "        \n",
    "    if T[j_mid, i_mid]<70:\n",
    "        print (\"Center has not reached 70C yet, it is only {0:.2f}C.\".format(T[j_mid, i_mid]))\n",
    "        \n",
    "    return T"
   ]
  },
  {
   "cell_type": "code",
   "execution_count": 7,
   "metadata": {
    "collapsed": false
   },
   "outputs": [],
   "source": [
    "#Initial Conditions\n",
    "\n",
    "L = 1.0e-2\n",
    "H = 1.0e-2\n",
    "\n",
    "nx = 21\n",
    "ny = 21\n",
    "nt = 500\n",
    "\n",
    "dx = L/(nx-1)\n",
    "dy = H/(ny-1)\n",
    "\n",
    "x = numpy.linspace(0,L,nx)\n",
    "y = numpy.linspace(0,H,ny)\n",
    "\n",
    "alpha = 1e-4\n",
    "\n",
    "Ti = numpy.ones((ny,nx))*20\n",
    "Ti[0,:] = 100\n",
    "Ti[:,0] = 100\n",
    "\n"
   ]
  },
  {
   "cell_type": "markdown",
   "metadata": {},
   "source": [
    "We don't want our solution to blow up so let's find time step with:\n",
    "\n",
    "$$\\frac{\\alpha \\Delta t}{\\Delta x^2} = \\frac{\\alpha \\Delta t}{\\Delta y^2} = \\frac{1}{4}$$"
   ]
  },
  {
   "cell_type": "code",
   "execution_count": 8,
   "metadata": {
    "collapsed": false
   },
   "outputs": [
    {
     "name": "stdout",
     "output_type": "stream",
     "text": [
      "Center of plate reached 70C at time 0.01s.\n"
     ]
    },
    {
     "name": "stderr",
     "output_type": "stream",
     "text": [
      "//anaconda/lib/python3.4/site-packages/ipykernel/__main__.py:13: RuntimeWarning: overflow encountered in multiply\n",
      "//anaconda/lib/python3.4/site-packages/ipykernel/__main__.py:13: RuntimeWarning: invalid value encountered in subtract\n",
      "//anaconda/lib/python3.4/site-packages/ipykernel/__main__.py:13: RuntimeWarning: invalid value encountered in add\n"
     ]
    }
   ],
   "source": [
    "sigma = 0.25\n",
    "dt = sigma * min(dx,dy)**2 / alpha\n",
    "T = ftcs(Ti.copy(), nt, alpha, dt,dx,dy)"
   ]
  },
  {
   "cell_type": "code",
   "execution_count": 9,
   "metadata": {
    "collapsed": true
   },
   "outputs": [],
   "source": [
    "mx, my = numpy.meshgrid(x,y)"
   ]
  },
  {
   "cell_type": "code",
   "execution_count": 11,
   "metadata": {
    "collapsed": false
   },
   "outputs": [
    {
     "data": {
      "image/png": "[encoded data removed]",
      "text/plain": [
       "<matplotlib.figure.Figure at 0x1069652b0>"
      ]
     },
     "metadata": {},
     "output_type": "display_data"
    }
   ],
   "source": [
    "pyplot.figure(figsize = (8,5))\n",
    "pyplot.contourf(mx,my,T,20)\n",
    "pyplot.xlabel('$x$')\n",
    "pyplot.ylabel('$y$')\n",
    "pyplot.colorbar();"
   ]
  },
  {
   "cell_type": "code",
   "execution_count": null,
   "metadata": {
    "collapsed": true
   },
   "outputs": [],
   "source": []
  }
 ],
 "metadata": {
  "kernelspec": {
   "display_name": "Python 3",
   "language": "python",
   "name": "python3"
  },
  "language_info": {
   "codemirror_mode": {
    "name": "ipython",
    "version": 3
   },
   "file_extension": ".py",
   "mimetype": "text/x-python",
   "name": "python",
   "nbconvert_exporter": "python",
   "pygments_lexer": "ipython3",
   "version": "3.4.3"
  }
 },
 "nbformat": 4,
 "nbformat_minor": 0
}
