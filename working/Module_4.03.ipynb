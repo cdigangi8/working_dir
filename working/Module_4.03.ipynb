{
 "cells": [
  {
   "cell_type": "markdown",
   "metadata": {},
   "source": [
    "Spreading Out Part 3!\n",
    "\n",
    "Now we will study the Diffusion equation in 2D!\n",
    "\n",
    "2d heat conduction:\n",
    "\n",
    "$$\\rho c_P \\frac{\\Delta T}{\\Delta t} = \\frac{\\partial}{\\partial x} \\left( \\kappa_x \\frac{\\partial T}{\\partial x} \\right) + \\frac{\\partial}{\\partial y} \\left( \\kappa_y \\frac{\\partial T}{\\partial y} \\right) $$\n",
    "\n",
    "where $\\rho$ is the density and $c_P$ is the heat capacity and $\\kappa$ is thermal conductivity\n",
    "\n",
    "If $\\kappa$ is constant:\n",
    "\n",
    "$$\\frac{\\partial T}{\\partial t} = \\alpha \\left( \\frac{\\partial^2 T}{\\partial x^2} + \\frac{\\partial^2 T}{\\partial y^2} \\right) $$\n",
    "\n",
    "Where $\\alpha = \\frac{\\kappa}{\\rho c_P}$ is the thermal diffusivity\n",
    "\n"
   ]
  },
  {
   "cell_type": "markdown",
   "metadata": {},
   "source": [
    "Problem Statement\n",
    "\n",
    "Removing heat out of microships is a big problem in comuter industry. \n",
    "\n",
    "Understand how heat is dissipatedfrom the chip with very simplified model. \n",
    "\n",
    "Everything we learned about finite difference still applies except now we have 2 spatial dimensions.\n",
    "\n",
    "Now i corresponds to x axis and j to y axis\n",
    "\n",
    "Discretized 2d Heat equation:\n",
    "\n",
    "$$\\frac{T_{ij}^{n+1} - T_{ij}^n}{\\Delta t} = \\alpha \\left( \\frac{T_{i+1j}^n - 2 T_{ij}^n + T_{i-1j}^n}{\\Delta x^2} + \\frac{T_{ij+1}^n - 2 T_{ij}^n + T_{ij-1}^n}{\\Delta y^2} \\right)$$\n",
    "\n",
    "Rearrange to solve for the value at the next time step:\n",
    "\n",
    "$$T_{ij}^{n+1} = T_{ij}^n + \\alpha \\left( \\frac{\\Delta t}{\\Delta x^2}(T_{i+1j}^n - 2 T_{ij}^n + T_{i-1j}^n) + \\frac{\\Delta t}{\\Delta y^2}(T_{ij+1}^n - 2 T_{ij}^n + T_{ij-1}^n) \\right) $$\n",
    "\n",
    "As always explicit method will use what is currently known at time step n\n",
    "\n",
    "\n",
    "\n",
    "\n",
    "\n"
   ]
  },
  {
   "cell_type": "markdown",
   "metadata": {},
   "source": [
    "Boundary Conditions!\n",
    "\n"
   ]
  }
 ],
 "metadata": {
  "kernelspec": {
   "display_name": "Python 3",
   "language": "python",
   "name": "python3"
  },
  "language_info": {
   "codemirror_mode": {
    "name": "ipython",
    "version": 3
   },
   "file_extension": ".py",
   "mimetype": "text/x-python",
   "name": "python",
   "nbconvert_exporter": "python",
   "pygments_lexer": "ipython3",
   "version": "3.4.3"
  }
 },
 "nbformat": 4,
 "nbformat_minor": 0
}
