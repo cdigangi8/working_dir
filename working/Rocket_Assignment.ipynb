{
 "cells": [
  {
   "cell_type": "code",
   "execution_count": 1,
   "metadata": {
    "collapsed": false
   },
   "outputs": [],
   "source": [
    "import math\n",
    "from math import sin, cos, log, ceil, pi\n",
    "import numpy\n",
    "from matplotlib import pyplot\n",
    "%matplotlib inline\n",
    "from matplotlib import rcParams\n",
    "rcParams['font.family'] = 'serif'\n",
    "rcParams['font.size']=16\n",
    "\n"
   ]
  },
  {
   "cell_type": "code",
   "execution_count": 47,
   "metadata": {
    "collapsed": false
   },
   "outputs": [],
   "source": [
    "m_s = 50\n",
    "g = 9.81\n",
    "p = 1.091\n",
    "v_e = 325\n",
    "C_D = 0.15\n",
    "m_po = 100\n",
    "r = 0.5\n",
    "A = math.pi *r**2\n",
    "mdot_p = 20#For the first 5 seconds then 0\n",
    "mdot = 20\n",
    "\n",
    "\n",
    "def f(u):\n",
    "    h = u[0]\n",
    "    v = u[1]\n",
    "    return numpy.array([v,\n",
    "                       -g+((mdot*v_e)/(m_s+m_p))-(((1/2)*p*v*abs(v)*A*C_D)/(m_s+m_p))])\n",
    "\n",
    "def euler_step(u,f,dt):\n",
    "    return u+dt*f(u)\n",
    "\n",
    "\n",
    "totalTime = 0\n",
    "m_p = 100\n",
    "dt = 0.1\n",
    "h0 = 0\n",
    "v0 = 0\n",
    "T = 100\n",
    "N = int(T/dt)+1\n",
    "t=numpy.linspace(0,T,N)\n",
    "\n",
    "\n",
    "u = numpy.zeros((N, 2))\n",
    "u[0] = numpy.array([h0, v0])\n",
    "m = numpy.empty((N,1))\n",
    "m[0] = numpy.array([m_p])\n",
    "\n",
    "\n",
    "for n in range(N-1):\n",
    "    totalTime = totalTime + dt\n",
    "    \n",
    "    if totalTime > 5:\n",
    "        step = 5\n",
    "        mdot = 0\n",
    "    else:\n",
    "        step = totalTime\n",
    "    \n",
    "    m_p = m_po - mdot_p*step\n",
    "    #print(m_p)\n",
    "    \n",
    "    u[n+1] = euler_step(u[n], f,dt)\n",
    "    m[n+1] = m_p\n",
    "    if u[n+1,0] < 0:\n",
    "        break\n",
    "#print(u)\n",
    "#print(m)\n",
    "\n",
    "\n",
    "\n"
   ]
  },
  {
   "cell_type": "code",
   "execution_count": 49,
   "metadata": {
    "collapsed": false
   },
   "outputs": [
    {
     "data": {
      "image/png": "[encoded data removed]",
      "text/plain": [
       "<matplotlib.figure.Figure at 0x7f25f8bde128>"
      ]
     },
     "metadata": {},
     "output_type": "display_data"
    }
   ],
   "source": [
    "y = u[:,1]\n",
    "\n",
    "pyplot.figure(figsize=(8,6))\n",
    "pyplot.grid(True)\n",
    "pyplot.xlabel(r'v', fontsize=18)\n",
    "pyplot.ylabel(r'y', fontsize=18)\n",
    "pyplot.title('Rocket Height, flight time = %.2f' % T, fontsize=18)\n",
    "pyplot.plot(y,'k-', lw=2);"
   ]
  },
  {
   "cell_type": "markdown",
   "metadata": {},
   "source": [
    "\\begin{align}\n",
    "\\frac{dh}{dt} &= v\\\\\n",
    "(m_s+m_p) \\frac{dv}{dt}& = -(m_s+m_p)g + \\dot{m}_pv_e - \\frac{1}{2}\\rho v|v|AC_D\n",
    "\\end{align}\n",
    "\n",
    "$$h' = v$$\n",
    "\\begin{align}\n",
    "v'& = -g + \\frac{\\dot{m}_pv_e}{(m_s+m_p) } - \\frac{\\frac{1}{2}\\rho v|v|AC_D}{(m_s+m_p)}\n",
    "\\end{align}\n",
    "\n",
    "$$h^{n+1} = v^n$$\n",
    "\\begin{align}\n",
    "v^{n+1}& = -g + \\frac{\\dot{m}_pv_e}{(m_s+m_p) } - \\frac{\\frac{1}{2}\\rho v^n|v^n|AC_D}{(m_s+m_p)}\n",
    "\\end{align}\n",
    "\n"
   ]
  },
  {
   "cell_type": "code",
   "execution_count": null,
   "metadata": {
    "collapsed": true
   },
   "outputs": [],
   "source": []
  }
 ],
 "metadata": {
  "kernelspec": {
   "display_name": "Python 3",
   "language": "python",
   "name": "python3"
  },
  "language_info": {
   "codemirror_mode": {
    "name": "ipython",
    "version": 3
   },
   "file_extension": ".py",
   "mimetype": "text/x-python",
   "name": "python",
   "nbconvert_exporter": "python",
   "pygments_lexer": "ipython3",
   "version": "3.4.3"
  }
 },
 "nbformat": 4,
 "nbformat_minor": 0
}
