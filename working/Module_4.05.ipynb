{
 "cells": [
  {
   "cell_type": "markdown",
   "metadata": {},
   "source": [
    "Crank-Nicholson Scheme\n",
    "\n",
    "Discretized form:\n",
    "\n",
    "\n",
    "\\begin{eqnarray}\n",
    "\\frac{T^{n+1}_i - T^n_i}{\\Delta t} = & \\nonumber \\\\\n",
    "\\alpha \\cdot \\frac{1}{2} &\\left( \n",
    "\\frac{T^{n+1}_{i+1} - 2T^{n+1}_i + T^{n+1}_{i-1}}{\\Delta x^2} \n",
    "+ \\frac{T^n_{i+1}-2T^n_i + T^n_{i-1}}{\\Delta x^2}\n",
    "\\right)\n",
    "\\end{eqnarray}\n",
    "\n",
    "Re-arranging so everything we don't know is on LHS:\n",
    "\n",
    "$$-T_{i-1}^{n+1} + 2 \\left( \\frac{\\Delta x^2}{\\alpha \\Delta t} + 1 \\right) T_i^{n+1} - T_{i+1}^{n+1} = T_{i-1}^n + 2 \\left( \\frac{\\Delta x^2}{\\alpha \\Delta t} - 1 \\right) T_i^n + T_{i+1}^n$$\n",
    "\n",
    "For Dirichlet Boundary:\n",
    "\n",
    "$$ 2 \\left( \\frac{\\Delta x^2}{\\alpha \\Delta t} + 1 \\right) T_1^{n+1} - T_2^{n+1} = T_0^n + 2 \\left( \\frac{\\Delta x^2}{\\alpha \\Delta t} -1 \\right) T_1^n + T_2^n + T_0^{n+1}$$\n",
    "\n",
    "And if we have Neumann BC:\n",
    "\n",
    "$$ -T_{nx-3}^{n+1} + \\left( 2 \\frac{\\Delta x^2}{\\alpha \\Delta t} +1 \\right) T_{n_x-2}^{n+1} = T_{n_x-3}^n + 2 \\left( \\frac{\\Delta x^2}{\\alpha \\Delta t} -1 \\right) T_{n_x-2}^n + T_{n_x-1}^n + q \\Delta x$$\n",
    "\n"
   ]
  },
  {
   "cell_type": "code",
   "execution_count": null,
   "metadata": {
    "collapsed": true
   },
   "outputs": [],
   "source": []
  },
  {
   "cell_type": "code",
   "execution_count": null,
   "metadata": {
    "collapsed": true
   },
   "outputs": [],
   "source": []
  }
 ],
 "metadata": {
  "kernelspec": {
   "display_name": "Python 3",
   "language": "python",
   "name": "python3"
  },
  "language_info": {
   "codemirror_mode": {
    "name": "ipython",
    "version": 3
   },
   "file_extension": ".py",
   "mimetype": "text/x-python",
   "name": "python",
   "nbconvert_exporter": "python",
   "pygments_lexer": "ipython3",
   "version": "3.4.3"
  }
 },
 "nbformat": 4,
 "nbformat_minor": 0
}
