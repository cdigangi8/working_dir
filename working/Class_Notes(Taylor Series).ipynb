{
 "cells": [
  {
   "cell_type": "markdown",
   "metadata": {},
   "source": [
    "Taylor Series\n",
    "\n",
    "Solve for $u(x)$\n",
    "\n",
    "$$u(x) = u(x_i) + (x - x_i)\\frac{\\partial u}{\\partial x} + \\frac{(x - x_i)^2}{2!} \\frac{\\partial^2 u}{\\partial x^2} + \\frac{(x - x_i)^3}{3!} \\frac{\\partial^3 u}{\\partial x^3} + frac{(x - x_i)^4}{4!} \\frac{\\partial^4 u}{\\partial x^4} +...$$\n",
    "\n",
    "Now substitute $x_{i+1}$ for x\n",
    "\n",
    "$$u(x_{i+1}) = u(x_i) + (x_{i+1} - x_i)\\frac{\\partial u}{\\partial x} + \\frac{(x_{i+1} - x_i)^2}{2!} \\frac{\\partial^2 u}{\\partial x^2} + \\frac{(x_{i+1} - x_i)^3}{3!} \\frac{\\partial^3 u}{\\partial x^3} + \\frac{(x_{i+1} - x_i)^4}{4!} \\frac{\\partial^4 u}{\\partial x^4} +...$$\n",
    "\n",
    "Now solve for $\\frac{\\partial u}{\\partial x}$\n",
    "\n",
    "$$\\frac{u(x_{i+1}) - u(x_i)}{(x_{i+1} - x_i)} =  \\frac{\\partial u}{\\partial x} + \\frac{(x_{i+1} - x_i)}{2!} \\frac{\\partial^2 u}{\\partial x^2} + \\frac{(x_{i+1} - x_i)^2}{3!} \\frac{\\partial^3 u}{\\partial x^3} + \\frac{(x_{i+1} - x_i)^3}{4!} \\frac{\\partial^4 u}{\\partial x^4} +...$$\n",
    "\n",
    "Now we will write $u(x)$ with $x_{i+1}$ and $x_{i-1}$ and then add them together. Rembmer that $(x_{i-1} - x_i) = -\\Delta x$\n",
    "\n",
    "$$u(x) = u(x_i) + (x - x_i)\\frac{\\partial u}{\\partial x} + \\frac{(x - x_i)^2}{2!} \\frac{\\partial^2 u}{\\partial x^2} + \\frac{(x - x_i)^3}{3!} \\frac{\\partial^3 u}{\\partial x^3} + frac{(x - x_i)^4}{4!} \\frac{\\partial^4 u}{\\partial x^4} +...$$\n",
    "\n",
    "Substituting $x_{i+1}$ and $x_{i-1}$\n",
    "\n",
    "$$u(x_{i+1}) = u(x_i) + (x_{i+1} - x_i)\\frac{\\partial u}{\\partial x} + \\frac{(x_{i+1} - x_i)^2}{2!} \\frac{\\partial^2 u}{\\partial x^2} + \\frac{(x_{i+1} - x_i)^3}{3!} \\frac{\\partial^3 u}{\\partial x^3} + \\frac{(x_{i+1} - x_i)^4}{4!} \\frac{\\partial^4 u}{\\partial x^4} +...$$\n",
    "\n",
    "$$u(x_{i-1}) = u(x_i) - (x_{i-1} - x_i)\\frac{\\partial u}{\\partial x} + \\frac{(x_{i-1} - x_i)^2}{2!} \\frac{\\partial^2 u}{\\partial x^2} - \\frac{(x_{i-1} - x_i)^3}{3!} \\frac{\\partial^3 u}{\\partial x^3} + \\frac{(x_{i-1} - x_i)^4}{4!} \\frac{\\partial^4 u}{\\partial x^4} +...$$\n",
    "\n",
    "Now add together and we get:\n",
    "\n",
    "$$u(x_{i-1}) + u(x_{i-1}) = 2u(x_i) + (x_{i-1} - x_i)^2 \\frac{\\partial^2 u}{\\partial x^2} + \\frac{(x_{i-1} - x_i)^4}{2!} \\frac{\\partial^4 u}{\\partial x^4} +...$$\n",
    "\n",
    "Solve for $\\frac{\\partial^2 u}{\\partial x^2}$\n",
    "\n",
    "$$\\frac{u(x_{i-1}) + u(x_{i-1}) - 2u(x_i)}{(x_{i-1} - x_i)^2} =  \\frac{\\partial^2 u}{\\partial x^2} + \\frac{(x_{i-1} - x_i)^2}{2!} \\frac{\\partial^4 u}{\\partial x^4} +...$$\n",
    "\n"
   ]
  },
  {
   "cell_type": "code",
   "execution_count": null,
   "metadata": {
    "collapsed": true
   },
   "outputs": [],
   "source": []
  }
 ],
 "metadata": {
  "kernelspec": {
   "display_name": "Python 3",
   "language": "python",
   "name": "python3"
  },
  "language_info": {
   "codemirror_mode": {
    "name": "ipython",
    "version": 3
   },
   "file_extension": ".py",
   "mimetype": "text/x-python",
   "name": "python",
   "nbconvert_exporter": "python",
   "pygments_lexer": "ipython3",
   "version": "3.4.3"
  }
 },
 "nbformat": 4,
 "nbformat_minor": 0
}
