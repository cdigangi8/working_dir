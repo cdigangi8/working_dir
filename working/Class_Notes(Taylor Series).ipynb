{
 "cells": [
  {
   "cell_type": "markdown",
   "metadata": {},
   "source": [
    "Taylor Series\n",
    "\n",
    "Solve for $u(x)$\n",
    "\n",
    "$$u(x) = u(x_i) + (x - x_i)\\frac{\\partial u}{\\partial x} + \\frac{(x - x_i)^2}{2!} \\frac{\\partial^2 u}{\\partial x^2} + \\frac{(x - x_i)^3}{3!} \\frac{\\partial^3 u}{\\partial x^3} + frac{(x - x_i)^4}{4!} \\frac{\\partial^4 u}{\\partial x^4} +...$$\n",
    "\n",
    "Now substitute $x_{i+1}$ for x\n",
    "\n",
    "$$u(x_{i+1}) = u(x_i) + (x_{i+1} - x_i)\\frac{\\partial u}{\\partial x} + \\frac{(x_{i+1} - x_i)^2}{2!} \\frac{\\partial^2 u}{\\partial x^2} + \\frac{(x_{i+1} - x_i)^3}{3!} \\frac{\\partial^3 u}{\\partial x^3} + \\frac{(x_{i+1} - x_i)^4}{4!} \\frac{\\partial^4 u}{\\partial x^4} +...$$\n",
    "\n",
    "Now solve for $\\frac{\\partial u}{\\partial x}$\n",
    "\n",
    "$$\\frac{u(x_{i+1}) - u(x_i)}{(x_{i+1} - x_i)} =  \\frac{\\partial u}{\\partial x} + \\frac{(x_{i+1} - x_i)}{2!} \\frac{\\partial^2 u}{\\partial x^2} + \\frac{(x_{i+1} - x_i)^2}{3!} \\frac{\\partial^3 u}{\\partial x^3} + \\frac{(x_{i+1} - x_i)^3}{4!} \\frac{\\partial^4 u}{\\partial x^4} +...$$\n",
    "\n",
    "Now we will write $u(x)$ with $x_{i+1}$ and $x_{i-1}$ and then add them together. Rembmer that $(x_{i-1} - x_i) = -\\Delta x$\n",
    "\n",
    "$$u(x) = u(x_i) + (x - x_i)\\frac{\\partial u}{\\partial x} + \\frac{(x - x_i)^2}{2!} \\frac{\\partial^2 u}{\\partial x^2} + \\frac{(x - x_i)^3}{3!} \\frac{\\partial^3 u}{\\partial x^3} + frac{(x - x_i)^4}{4!} \\frac{\\partial^4 u}{\\partial x^4} +...$$\n",
    "\n",
    "Substituting $x_{i+1}$ and $x_{i-1}$\n",
    "\n",
    "$$u(x_{i+1}) = u(x_i) + (x_{i+1} - x_i)\\frac{\\partial u}{\\partial x} + \\frac{(x_{i+1} - x_i)^2}{2!} \\frac{\\partial^2 u}{\\partial x^2} + \\frac{(x_{i+1} - x_i)^3}{3!} \\frac{\\partial^3 u}{\\partial x^3} + \\frac{(x_{i+1} - x_i)^4}{4!} \\frac{\\partial^4 u}{\\partial x^4} +...$$\n",
    "\n",
    "$$u(x_{i-1}) = u(x_i) - (x_{i-1} - x_i)\\frac{\\partial u}{\\partial x} + \\frac{(x_{i-1} - x_i)^2}{2!} \\frac{\\partial^2 u}{\\partial x^2} - \\frac{(x_{i-1} - x_i)^3}{3!} \\frac{\\partial^3 u}{\\partial x^3} + \\frac{(x_{i-1} - x_i)^4}{4!} \\frac{\\partial^4 u}{\\partial x^4} +...$$\n",
    "\n",
    "Now add together and we get:\n",
    "\n",
    "$$u(x_{i-1}) + u(x_{i-1}) = 2u(x_i) + (x_{i-1} - x_i)^2 \\frac{\\partial^2 u}{\\partial x^2} + \\frac{(x_{i-1} - x_i)^4}{2!} \\frac{\\partial^4 u}{\\partial x^4} +...$$\n",
    "\n",
    "Solve for $\\frac{\\partial^2 u}{\\partial x^2}$\n",
    "\n",
    "$$\\frac{u(x_{i-1}) + u(x_{i-1}) - 2u(x_i)}{(x_{i-1} - x_i)^2} =  \\frac{\\partial^2 u}{\\partial x^2} + \\frac{(x_{i-1} - x_i)^2}{2!} \\frac{\\partial^4 u}{\\partial x^4} +...$$\n",
    "\n"
   ]
  },
  {
   "cell_type": "markdown",
   "metadata": {
    "collapsed": true
   },
   "source": [
    "Back to linear convection... different schemes?\n",
    "\n",
    "initial condition:\n",
    "\n",
    "$$u_0  \\ \\ =0 \\ \\ x \\le 0.9$$\n",
    "\n",
    "$$=10(x-0.9) \\ \\ 0.9 \\le x \\le 1.0$$\n",
    "\n",
    "Professor will send out rest of problem***\n",
    "\n",
    "Write out three taylor expansion terms!\n",
    "\n",
    "Taylor expansion for $u(x,t)$\n",
    "\n",
    "Thus we have taylor expansions for:\n",
    "$$u_i^{n+1} = u_i^n + Taylor$$\n",
    "$$u_{i+1}^n = u_i^n + Taylor$$\n",
    "$$u_{i-1}^n = u_i^n + Taylor$$\n",
    "\n",
    "\n",
    "$$u(x_{i+1}^n) = u_i^n + (x_{i+1}^n - x_i^n)\\frac{\\partial u}{\\partial x} + \\frac{(x_{i+1}^n - x_i^n)^2}{2!} \\frac{\\partial^2 u}{\\partial x^2} + \\frac{(x_{i+1}^n - x_i^n)^3}{3!} \\frac{\\partial^3 u}{\\partial x^3} + \\frac{(x_{i+1}^n - x_i^n)^4}{4!} \\frac{\\partial^4 u}{\\partial x^4} +...$$\n",
    "\n",
    "$$u(x_{i-1}^n) = u_i^n - (x_{i-1}^n - x_i^n)\\frac{\\partial u}{\\partial x} + \\frac{(x_{i-1}^n - x_i^n)^2}{2!} \\frac{\\partial^2 u}{\\partial x^2} - \\frac{(x_{i-1}^n - x_i^n)^3}{3!} \\frac{\\partial^3 u}{\\partial x^3} + \\frac{(x_{i-1}^n - x_i^n)^4}{4!} \\frac{\\partial^4 u}{\\partial x^4} +...$$\n",
    "\n",
    "$$u(t_i^{n+1}) = u_i^n + (t_i^{n+1} - t_i^{n})\\frac{\\partial u}{\\partial t} + \\frac{(t_i^{n+1} - t_i^{n})^2}{2!} \\frac{\\partial^2 u}{\\partial t^2} + \\frac{(t_i^{n+1} - t_i^{n})^3}{3!} \\frac{\\partial^3 u}{\\partial t^3} + \\frac{(t_i^{n+1} - t_i^{n})^4}{4!} \\frac{\\partial^4 u}{\\partial t^4} +...$$\n",
    "\n",
    "Construct Central Difference by taking frist term in equation $u_i^n$ and subtracting and then dividing by $\\Delta t, \\Delta x$ respectively\n",
    "\n",
    "$$\\frac{u_i^{n+1} - u_i^n}{\\Delta t} + c \\frac{u_{i+1}^n - u_{i-1}^n}{2 \\Delta x} - \\left( \\frac{\\partial u}{\\partial t} + c \\frac{\\partial u}{\\partial x} \\right) = \\frac{\\Delta t}{2} \\frac{\\partial^2 u}{\\partial x^2} + \\frac{c \\Delta x}{6} \\frac{\\partial^3 u}{\\partial x^3} + O(\\Delta t^2, \\Delta x^4)$$\n",
    "\n",
    "$$\\bar{u}$$ is the exact solution of the discretized equation that makes solution exactly equal to zero\n",
    "\n",
    "$$\\frac{\\bar{u}_i^{n+1} - \\bar{u}_i^n}{\\Delta t} + c \\frac{\\bar{u}_{i+1}^n - \\bar{u}_{i-1}^n}{2 \\Delta x} = 0 $$ \n",
    "\n",
    "In the previous equation:\n"
   ]
  },
  {
   "cell_type": "code",
   "execution_count": null,
   "metadata": {
    "collapsed": true
   },
   "outputs": [],
   "source": []
  },
  {
   "cell_type": "code",
   "execution_count": null,
   "metadata": {
    "collapsed": true
   },
   "outputs": [],
   "source": []
  },
  {
   "cell_type": "code",
   "execution_count": null,
   "metadata": {
    "collapsed": true
   },
   "outputs": [],
   "source": [
    "\n"
   ]
  }
 ],
 "metadata": {
  "kernelspec": {
   "display_name": "Python 3",
   "language": "python",
   "name": "python3"
  },
  "language_info": {
   "codemirror_mode": {
    "name": "ipython",
    "version": 3
   },
   "file_extension": ".py",
   "mimetype": "text/x-python",
   "name": "python",
   "nbconvert_exporter": "python",
   "pygments_lexer": "ipython3",
   "version": "3.4.3"
  }
 },
 "nbformat": 4,
 "nbformat_minor": 0
}
