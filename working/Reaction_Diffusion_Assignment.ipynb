{
 "cells": [
  {
   "cell_type": "code",
   "execution_count": 1,
   "metadata": {
    "collapsed": false
   },
   "outputs": [
    {
     "data": {
      "text/html": [
       "\n",
       "        <iframe\n",
       "            width=\"400\"\n",
       "            height=\"300\"\n",
       "            src=\"https://www.youtube.com/embed/8dTmUr5qKvI\"\n",
       "            frameborder=\"0\"\n",
       "            allowfullscreen\n",
       "        ></iframe>\n",
       "        "
      ],
      "text/plain": [
       "<IPython.lib.display.YouTubeVideo at 0x104aa91d0>"
      ]
     },
     "execution_count": 1,
     "metadata": {},
     "output_type": "execute_result"
    }
   ],
   "source": [
    "from IPython.display import YouTubeVideo\n",
    "YouTubeVideo('8dTmUr5qKvI')"
   ]
  },
  {
   "cell_type": "markdown",
   "metadata": {},
   "source": [
    "Gray-Scott Model\n",
    "\n",
    "Two chemical species U and V, whose concentration at a point in space is represented by u and v.\n",
    "\n",
    "System:\n",
    "\n",
    "$$ \\frac{\\partial u}{\\partial t} = D_u \\nabla^2 u - uv^2 + F(1-u)$$\n",
    "\n",
    "$$ \\frac{\\partial v}{\\partial t} = D_v \\nabla^2 v - uv^2 - (F+k)v$$"
   ]
  },
  {
   "cell_type": "markdown",
   "metadata": {},
   "source": [
    "Remember that $\\nabla^2$ is the Laplacian:\n",
    "\n",
    "$$\\nabla^2 u = \\frac{\\partial^2 u}{\\partial x^2} + \\frac{\\partial^2 u}{\\partial y^2}$$"
   ]
  },
  {
   "cell_type": "markdown",
   "metadata": {},
   "source": [
    "Assignment!\n",
    "\n",
    "Discretize reaction-diffusion equations using forward time/central space and assume $\\Delta x = \\Delta y = \\delta$\n",
    "\n",
    "For Time step:\n",
    "\n",
    "$$\\Delta t = \\frac{9}{40} \\frac{\\delta^2}{max(D_u, D_v)}$$\n",
    "\n",
    "Grid: 192x192\n",
    "\n",
    "Domain: 5m x 5m\n",
    "\n",
    "Final time 8000s"
   ]
  },
  {
   "cell_type": "code",
   "execution_count": 2,
   "metadata": {
    "collapsed": true
   },
   "outputs": [],
   "source": [
    "import numpy\n",
    "from matplotlib import pyplot\n",
    "import matplotlib.cm as cm\n",
    "%matplotlib inline"
   ]
  },
  {
   "cell_type": "code",
   "execution_count": 3,
   "metadata": {
    "collapsed": false
   },
   "outputs": [],
   "source": [
    "n = 192\n",
    "Du, Dv, F, k = 0.00016, 0.00008, 0.035, 0.065 #Bacteria 1\n",
    "\n",
    "dh = 5/(n-1)\n",
    "\n",
    "T = 8000\n",
    "\n",
    "dt = .9 * dh**2 / (4*max(Du,Dv))\n",
    "\n",
    "nt = int(T/dt)"
   ]
  },
  {
   "cell_type": "code",
   "execution_count": null,
   "metadata": {
    "collapsed": true
   },
   "outputs": [],
   "source": []
  },
  {
   "cell_type": "code",
   "execution_count": null,
   "metadata": {
    "collapsed": true
   },
   "outputs": [],
   "source": []
  }
 ],
 "metadata": {
  "kernelspec": {
   "display_name": "Python 3",
   "language": "python",
   "name": "python3"
  },
  "language_info": {
   "codemirror_mode": {
    "name": "ipython",
    "version": 3
   },
   "file_extension": ".py",
   "mimetype": "text/x-python",
   "name": "python",
   "nbconvert_exporter": "python",
   "pygments_lexer": "ipython3",
   "version": "3.4.3"
  }
 },
 "nbformat": 4,
 "nbformat_minor": 0
}
