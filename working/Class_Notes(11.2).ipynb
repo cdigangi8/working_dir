{
 "cells": [
  {
   "cell_type": "markdown",
   "metadata": {},
   "source": [
    "$$u_i^{n+1} = \\frac{1}{2} (u_{i+1}^n + u_{i-1}^n) - \\frac{c \\Delta t}{2 \\Delta x} (u_{i+1}^n - u_{i-1}^n)$$"
   ]
  },
  {
   "cell_type": "markdown",
   "metadata": {},
   "source": [
    "$$\\vec{u} = \\left[ \\begin{array}{c}\n",
    "\\rho \\\\\n",
    "\\rho u \\\\\n",
    "\\rho e_T \\\\\n",
    "\\end{array} \\right]$$\n",
    "\n",
    "$$\\vec{f} = \\left[ \\begin{array}{c}\n",
    "\\rho u \\\\\n",
    "\\rho u^2 + p \\\\\n",
    "(\\rho e_T + p)u \\\\\n",
    "\\end{array} \\right]$$\n",
    "\n",
    "$$\\vec{u}_i^{n+1} = \\frac{1}{2} (\\vec{u}_{i+1}^n + \\vec{u}_{i-1}^n) - \\frac{c \\Delta t}{2 \\Delta x} (\\vec{u}_{i+1}^n - \\vec{u}_{i-1}^n)$$\n",
    "\n",
    "\n"
   ]
  },
  {
   "cell_type": "code",
   "execution_count": null,
   "metadata": {
    "collapsed": true
   },
   "outputs": [],
   "source": []
  },
  {
   "cell_type": "code",
   "execution_count": null,
   "metadata": {
    "collapsed": true
   },
   "outputs": [],
   "source": []
  }
 ],
 "metadata": {
  "kernelspec": {
   "display_name": "Python 3",
   "language": "python",
   "name": "python3"
  },
  "language_info": {
   "codemirror_mode": {
    "name": "ipython",
    "version": 3
   },
   "file_extension": ".py",
   "mimetype": "text/x-python",
   "name": "python",
   "nbconvert_exporter": "python",
   "pygments_lexer": "ipython3",
   "version": "3.4.3"
  }
 },
 "nbformat": 4,
 "nbformat_minor": 0
}
