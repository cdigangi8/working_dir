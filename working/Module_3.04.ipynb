{
 "cells": [
  {
   "cell_type": "markdown",
   "metadata": {},
   "source": [
    "Riding the Wave\n",
    "\n",
    "Finite Volume Method:\n",
    "\n",
    "--Very general and don't require grid structure\n",
    "--Gives conservative discretization by using directly the conservation laws in integral form\n",
    "\n",
    "Conservation Law for a quantity e:\n",
    "\n",
    "$$\\frac{\\partial}{\\partial t} \\int_{CV} e dV + \\oint_{CS} \\vec{F} \\cdot d\\vec{A} = 0 $$\n",
    "\n",
    "Define $e_i$ as the integral across CV on the cell with center at $x_i$\n",
    "\n",
    "$$e_i = \\frac{1}{\\Delta x} \\int_{x_i}^{x_i + \\frac{\\Delta x}{2}} e(x,t)dx$$\n",
    "\n",
    "General Conservation Law becomes:\n",
    "\n",
    "$$\\frac{\\partial}{\\partial t} e_i + \\frac{1}{\\Delta x}[F(x_{i+\\frac{1}{2}},t) - F(x_{i-\\frac{1}{2}},t)] = 0$$\n",
    "\n",
    "We will need to apporximate the flux term at the cell edges"
   ]
  },
  {
   "cell_type": "code",
   "execution_count": null,
   "metadata": {
    "collapsed": true
   },
   "outputs": [],
   "source": []
  }
 ],
 "metadata": {
  "kernelspec": {
   "display_name": "Python 3",
   "language": "python",
   "name": "python3"
  },
  "language_info": {
   "codemirror_mode": {
    "name": "ipython",
    "version": 3
   },
   "file_extension": ".py",
   "mimetype": "text/x-python",
   "name": "python",
   "nbconvert_exporter": "python",
   "pygments_lexer": "ipython3",
   "version": "3.4.3"
  }
 },
 "nbformat": 4,
 "nbformat_minor": 0
}
