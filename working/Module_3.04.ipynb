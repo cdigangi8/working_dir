{
 "cells": [
  {
   "cell_type": "markdown",
   "metadata": {},
   "source": [
    "Riding the Wave\n",
    "\n",
    "Finite Volume Method:\n",
    "\n",
    "--Very general and don't require grid structure\n",
    "--Gives conservative discretization by using directly the conservation laws in integral form\n",
    "\n",
    "Conservation Law for a quantity e:\n",
    "\n",
    "$$\\frac{\\partial}{\\partial t} \\int_{CV} e dV + \\oint_{CS} \\vec{F} \\cdot d\\vec{A} = 0 $$\n",
    "\n",
    "Define $e_i$ as the integral across CV on the cell with center at $x_i$\n",
    "\n",
    "$$e_i = \\frac{1}{\\Delta x} \\int_{x_i}^{x_i + \\frac{\\Delta x}{2}} e(x,t)dx$$\n",
    "\n",
    "General Conservation Law becomes:\n",
    "\n",
    "$$\\frac{\\partial}{\\partial t} e_i + \\frac{1}{\\Delta x}[F(x_{i+\\frac{1}{2}},t) - F(x_{i-\\frac{1}{2}},t)] = 0$$\n",
    "\n",
    "We will need to apporximate the flux term at the cell edges"
   ]
  },
  {
   "cell_type": "markdown",
   "metadata": {},
   "source": [
    "Godunov's Method\n",
    "\n",
    "The numerical flux on $x_{i+1/2}$ is:\n",
    "\n",
    "$$F_{i+1/2} = \\frac{1}{\\Delta t}\\int_{t^n}^{t^{n+1}} F(e(x_{i+1/2}, t))dt$$\n",
    "\n",
    "Rusanov Flux (Lax-Friedrichs):\n",
    "\n",
    "$$F_{i+1/2} = \\frac{1}{2}[F(e_L) + F(e_R)] - \\frac{1}{2}max|F'(e)|(e_R-e_L)$$\n",
    "\n",
    "Where $F'(e)$ is the Jacobian flux function. Rieman solutions at each cell boundary do not interact if $max|F'(e)|\\leq \\frac{\\Delta x}{\\Delta t}$\n",
    "\n",
    "$$F_{i+1/2} = \\frac{1}{2} \\left(F(e_i)+F(e_{i+1}) - \\frac{\\Delta x}{\\Delta t}(e_{i+1} - e_i) \\right)$$\n",
    "\n"
   ]
  },
  {
   "cell_type": "code",
   "execution_count": 4,
   "metadata": {
    "collapsed": false
   },
   "outputs": [],
   "source": [
    "#Let's Try it\n",
    "\n",
    "from traffic import rho_red_light, computeF"
   ]
  },
  {
   "cell_type": "code",
   "execution_count": 5,
   "metadata": {
    "collapsed": false
   },
   "outputs": [
    {
     "name": "stdout",
     "output_type": "stream",
     "text": [
      "Help on function rho_red_light in module traffic:\n",
      "\n",
      "rho_red_light(nx, rho_max, rho_in)\n",
      "    Computes \"red light\" initial condition with shock\n",
      "    \n",
      "    Parameters\n",
      "    ----------\n",
      "    nx        : int\n",
      "        Number of grid points in x\n",
      "    rho_max   : float\n",
      "        Maximum allowed car density\n",
      "    rho_in    : float\n",
      "        Density of incoming cars \n",
      "    \n",
      "    Returns\n",
      "    -------\n",
      "    rho: array of floats\n",
      "        Array with initial values of density\n",
      "\n"
     ]
    }
   ],
   "source": [
    "help(rho_red_light)\n"
   ]
  },
  {
   "cell_type": "code",
   "execution_count": 6,
   "metadata": {
    "collapsed": true
   },
   "outputs": [],
   "source": [
    "%matplotlib inline\n",
    "import numpy\n",
    "from matplotlib import pyplot\n",
    "from matplotlib import rcParams\n",
    "rcParams['font.family'] = 'serif'\n",
    "rcParams['font.size'] = 16\n",
    "from matplotlib import animation\n",
    "from JSAnimation.IPython_display import display_animation"
   ]
  },
  {
   "cell_type": "code",
   "execution_count": 7,
   "metadata": {
    "collapsed": true
   },
   "outputs": [],
   "source": [
    "nx = 101\n",
    "nt = 30\n",
    "dx = 4.0/(nx-2)\n",
    "\n",
    "rho_in =5.\n",
    "rho_max = 10.\n",
    "\n",
    "V_max = 1.\n",
    "\n",
    "x = numpy.linspace(0,4,nx-1)\n",
    "\n",
    "rho = rho_red_light(nx-1, rho_max, rho_in)\n",
    "\n"
   ]
  },
  {
   "cell_type": "code",
   "execution_count": 8,
   "metadata": {
    "collapsed": true
   },
   "outputs": [],
   "source": [
    "def animate(data):\n",
    "    x=numpy.linspace(0,4,nx-1)\n",
    "    y=data\n",
    "    line.set_data(x,y)\n",
    "    return line,"
   ]
  },
  {
   "cell_type": "code",
   "execution_count": null,
   "metadata": {
    "collapsed": true
   },
   "outputs": [],
   "source": [
    "def godunov(rho, nt, dt, dx, rho_max, V_max):\n",
    "    \n",
    "    "
   ]
  }
 ],
 "metadata": {
  "kernelspec": {
   "display_name": "Python 3",
   "language": "python",
   "name": "python3"
  },
  "language_info": {
   "codemirror_mode": {
    "name": "ipython",
    "version": 3
   },
   "file_extension": ".py",
   "mimetype": "text/x-python",
   "name": "python",
   "nbconvert_exporter": "python",
   "pygments_lexer": "ipython3",
   "version": "3.4.3"
  }
 },
 "nbformat": 4,
 "nbformat_minor": 0
}
