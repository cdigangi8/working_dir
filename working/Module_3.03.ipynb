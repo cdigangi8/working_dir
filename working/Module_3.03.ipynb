{
 "cells": [
  {
   "cell_type": "markdown",
   "metadata": {},
   "source": [
    "Riding the Wave\n",
    "\n",
    "A better flux model\n",
    "\n",
    "Typical comservation Law:\n",
    "\n",
    "$$\\frac{\\partial \\rho}{\\partial t} + \\frac{\\partial F}{\\partial x} = 0$$\n",
    "\n",
    "Where F is the flux $F = \\rho u $ \n",
    "\n",
    "$$F(\\rho) = \\rho u_{max} \\left( 1 - \\frac{\\rho}{\\rho_{max}} \\right)$$\n",
    "\n",
    "Traffic Flow characteristics:\n",
    "\n",
    "1) $u \\rightarrow u_{max} $ and $F \\rightarrow 0$ when $\\rho \\rightarrow 0$\n",
    "\n",
    "2) $u \\rightarrow 0$ as $\\rho \\rightarrow \\rho_{max}$\n",
    "\n",
    "However this leads to some unrealistic results (See leson for graphs)\n",
    "\n",
    "We can identify a max traffic flux\n",
    "\n",
    "$$F_{max} = p^* u^*$$\n",
    "\n",
    "So now we will incorporate this into our flux model:\n",
    "\n",
    "\n",
    "$$F(\\rho) = u_{max} \\rho(1 - A \\rho - B\\rho^2)$$\n",
    "\n",
    "When $\\rho = \\rho_{max}$ traffic flux goes to zero\n",
    "\n",
    "$$F(\\rho_{max}) = 0 = u_{max} \\rho_{max}(1 - A \\rho_{max} - B\\rho_{max}^2)$$\n",
    "\n",
    "Max flux occurs when $\\rho = \\rho^*$ and $F'(\\rho^*) = 0$\n",
    "\n",
    "$$F'(\\rho^*) = 0 = u_{max}(1-2A\\rho^* -3B(\\rho^*)^2)$$\n",
    "\n",
    "$u^*$ is obtained when $\\rho = \\rho^*$\n",
    "\n",
    "$$u^* = u_{max}(1-A\\rho^*-B(\\rho^*)^2)$$\n",
    "\n"
   ]
  },
  {
   "cell_type": "code",
   "execution_count": null,
   "metadata": {
    "collapsed": true
   },
   "outputs": [],
   "source": []
  }
 ],
 "metadata": {
  "kernelspec": {
   "display_name": "Python 3",
   "language": "python",
   "name": "python3"
  },
  "language_info": {
   "codemirror_mode": {
    "name": "ipython",
    "version": 3
   },
   "file_extension": ".py",
   "mimetype": "text/x-python",
   "name": "python",
   "nbconvert_exporter": "python",
   "pygments_lexer": "ipython3",
   "version": "3.4.3"
  }
 },
 "nbformat": 4,
 "nbformat_minor": 0
}
